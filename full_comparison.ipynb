{
 "cells": [
  {
   "cell_type": "code",
   "execution_count": 19,
   "metadata": {},
   "outputs": [],
   "source": [
    "import numpy as np\n",
    "import pickle as pkl\n",
    "\n",
    "import cv2\n",
    "import matplotlib.pyplot as plt\n",
    "%matplotlib inline"
   ]
  },
  {
   "cell_type": "code",
   "execution_count": 4,
   "metadata": {},
   "outputs": [
    {
     "name": "stdout",
     "output_type": "stream",
     "text": [
      "==== FRAMES ====\n",
      "video -> (5800, 1296)\n",
      "labels -> (5800,)\n",
      "emg -> (5800, 24)\n",
      "==== EVENTS ====\n",
      "video -> (6000, 1296)\n",
      "labels -> (6000,)\n",
      "emg -> (6000, 24)\n"
     ]
    }
   ],
   "source": [
    "data_frames = pkl.load(open('full_dataset_frames.pkl', 'rb'))\n",
    "data_events = pkl.load(open('full_dataset_events.pkl', 'rb'))\n",
    "\n",
    "print(\"==== FRAMES ====\")\n",
    "print(f\"video -> {data_frames['video'].shape}\")\n",
    "print(f\"labels -> {data_frames['labels'].shape}\")\n",
    "print(f\"emg -> {data_frames['emg'].shape}\")\n",
    "\n",
    "print(\"==== EVENTS ====\")\n",
    "print(f\"video -> {data_events['video'].shape}\")\n",
    "print(f\"labels -> {data_events['labels'].shape}\")\n",
    "print(f\"emg -> {data_events['emg'].shape}\")"
   ]
  },
  {
   "cell_type": "code",
   "execution_count": 15,
   "metadata": {},
   "outputs": [],
   "source": [
    "def single_svm(x, y):\n",
    "    \n",
    "    idx = np.random.permutation(len(x))\n",
    "    n_train = int(len(x) * 0.8)\n",
    "    idx_train = idx[:n_train]\n",
    "    idx_test = idx[n_train:]\n",
    "\n",
    "\n",
    "    x_train = x[idx_train]\n",
    "    y_train = y[idx_train]\n",
    "\n",
    "    x_test = x[idx_test]\n",
    "    y_test = y[idx_test]\n",
    "    \n",
    "    x_mean = np.mean(x_train, 0, keepdims=True)\n",
    "    x_std = np.std(x_train, 0, keepdims=True)\n",
    "\n",
    "    x_train = (x_train - x_mean) / x_std\n",
    "    x_test = (x_test - x_mean) / x_std\n",
    "\n",
    "    # Train the SVM for demg:\n",
    "    svm = cv2.ml.SVM_create()\n",
    "    svm.setType(cv2.ml.SVM_C_SVC)\n",
    "    svm.setKernel(cv2.ml.SVM_LINEAR)\n",
    "    svm.setC(0.01)\n",
    "    svm.setGamma(2)\n",
    "    svm.train(np.float32(x_train), cv2.ml.ROW_SAMPLE, np.int32(y_train))\n",
    "\n",
    "    output = svm.predict(np.float32(x_train))\n",
    "    acc = np.sum((output[1].squeeze() - y_train.squeeze()) == 0) / len(output[1])\n",
    "    print(\"Train: {:.4}\".format(acc))\n",
    "\n",
    "    output = svm.predict(np.float32(x_test))\n",
    "    acc = np.sum((output[1].squeeze() - y_test.squeeze()) == 0) / len(output[1])\n",
    "    print(\"Test: {:.4}\".format(acc))"
   ]
  },
  {
   "cell_type": "code",
   "execution_count": 17,
   "metadata": {},
   "outputs": [
    {
     "name": "stdout",
     "output_type": "stream",
     "text": [
      "Frames\n",
      "Train: 0.8929\n",
      "Test: 0.7\n",
      "Emg\n",
      "Train: 0.5614\n",
      "Test: 0.5793\n",
      "Events\n",
      "Train: 0.9348\n",
      "Test: 0.7092\n",
      "Frames+Emg\n",
      "Train: 0.9422\n",
      "Test: 0.8216\n",
      "Events+Emg\n",
      "Train: 0.9917\n",
      "Test: 0.82\n"
     ]
    }
   ],
   "source": [
    "print(\"Frames\")\n",
    "single_svm(data_frames['video'], data_frames['labels'])\n",
    "print(\"Emg\")\n",
    "single_svm(data_frames['emg'], data_frames['labels'])\n",
    "print(\"Events\")\n",
    "single_svm(data_events['video'], data_events['labels'])\n",
    "print(\"Frames+Emg\")\n",
    "single_svm(np.hstack([data_frames['emg'], data_frames['video']]), data_frames['labels'])\n",
    "print(\"Events+Emg\")\n",
    "single_svm(np.hstack([data_events['emg'], data_events['video']]), data_events['labels'])"
   ]
  },
  {
   "cell_type": "code",
   "execution_count": null,
   "metadata": {},
   "outputs": [],
   "source": []
  }
 ],
 "metadata": {
  "kernelspec": {
   "display_name": "cc19",
   "language": "python",
   "name": "cc19"
  },
  "language_info": {
   "codemirror_mode": {
    "name": "ipython",
    "version": 3
   },
   "file_extension": ".py",
   "mimetype": "text/x-python",
   "name": "python",
   "nbconvert_exporter": "python",
   "pygments_lexer": "ipython3",
   "version": "3.7.3"
  }
 },
 "nbformat": 4,
 "nbformat_minor": 2
}
