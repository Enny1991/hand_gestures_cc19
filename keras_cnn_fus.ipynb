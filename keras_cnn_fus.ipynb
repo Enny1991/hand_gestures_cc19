{
  "nbformat": 4,
  "nbformat_minor": 0,
  "metadata": {
    "colab": {
      "name": "keras_cnn_fus.ipynb",
      "version": "0.3.2",
      "provenance": [],
      "collapsed_sections": []
    },
    "kernelspec": {
      "name": "python3",
      "display_name": "Python 3"
    },
    "accelerator": "GPU"
  },
  "cells": [
    {
      "cell_type": "code",
      "metadata": {
        "id": "zQUy6PheE2Sn",
        "colab_type": "code",
        "outputId": "39cfb855-f90f-4006-915d-988324a0301f",
        "colab": {
          "base_uri": "https://localhost:8080/",
          "height": 51
        }
      },
      "source": [
        "# install PyDrive\n",
        "!pip install -U -q PyDrive\n",
        "\n",
        "# imports\n",
        "from __future__ import print_function\n",
        "import os\n",
        "import keras\n",
        "import numpy as np\n",
        "import matplotlib.pyplot as plt\n",
        "from tensorflow.contrib import lite\n",
        "from keras.models import Sequential, load_model, Model\n",
        "from keras.layers import Dense, Dropout, Flatten, Add, Concatenate, Conv1D, Conv2D, MaxPooling1D, MaxPooling2D\n",
        "from keras import backend as K\n",
        "from scipy.signal import stft\n",
        "from sklearn import preprocessing\n",
        "from sklearn.model_selection import train_test_split, StratifiedKFold\n",
        "from sklearn.metrics import classification_report, confusion_matrix\n",
        "from pydrive.auth import GoogleAuth\n",
        "from pydrive.drive import GoogleDrive\n",
        "from google.colab import auth\n",
        "from oauth2client.client import GoogleCredentials"
      ],
      "execution_count": 2,
      "outputs": [
        {
          "output_type": "stream",
          "text": [
            "\u001b[?25l\r\u001b[K     |▎                               | 10kB 21.4MB/s eta 0:00:01\r\u001b[K     |▋                               | 20kB 28.8MB/s eta 0:00:01\r\u001b[K     |█                               | 30kB 33.1MB/s eta 0:00:01\r\u001b[K     |█▎                              | 40kB 36.5MB/s eta 0:00:01\r\u001b[K     |█▋                              | 51kB 40.2MB/s eta 0:00:01\r\u001b[K     |██                              | 61kB 43.7MB/s eta 0:00:01\r\u001b[K     |██▎                             | 71kB 35.7MB/s eta 0:00:01\r\u001b[K     |██▋                             | 81kB 36.6MB/s eta 0:00:01\r\u001b[K     |███                             | 92kB 38.7MB/s eta 0:00:01\r\u001b[K     |███▎                            | 102kB 35.3MB/s eta 0:00:01\r\u001b[K     |███▋                            | 112kB 35.3MB/s eta 0:00:01\r\u001b[K     |████                            | 122kB 35.3MB/s eta 0:00:01\r\u001b[K     |████▎                           | 133kB 35.3MB/s eta 0:00:01\r\u001b[K     |████▋                           | 143kB 35.3MB/s eta 0:00:01\r\u001b[K     |█████                           | 153kB 35.3MB/s eta 0:00:01\r\u001b[K     |█████▎                          | 163kB 35.3MB/s eta 0:00:01\r\u001b[K     |█████▋                          | 174kB 35.3MB/s eta 0:00:01\r\u001b[K     |██████                          | 184kB 35.3MB/s eta 0:00:01\r\u001b[K     |██████▎                         | 194kB 35.3MB/s eta 0:00:01\r\u001b[K     |██████▋                         | 204kB 35.3MB/s eta 0:00:01\r\u001b[K     |███████                         | 215kB 35.3MB/s eta 0:00:01\r\u001b[K     |███████▎                        | 225kB 35.3MB/s eta 0:00:01\r\u001b[K     |███████▋                        | 235kB 35.3MB/s eta 0:00:01\r\u001b[K     |████████                        | 245kB 35.3MB/s eta 0:00:01\r\u001b[K     |████████▎                       | 256kB 35.3MB/s eta 0:00:01\r\u001b[K     |████████▋                       | 266kB 35.3MB/s eta 0:00:01\r\u001b[K     |█████████                       | 276kB 35.3MB/s eta 0:00:01\r\u001b[K     |█████████▎                      | 286kB 35.3MB/s eta 0:00:01\r\u001b[K     |█████████▋                      | 296kB 35.3MB/s eta 0:00:01\r\u001b[K     |██████████                      | 307kB 35.3MB/s eta 0:00:01\r\u001b[K     |██████████▎                     | 317kB 35.3MB/s eta 0:00:01\r\u001b[K     |██████████▋                     | 327kB 35.3MB/s eta 0:00:01\r\u001b[K     |███████████                     | 337kB 35.3MB/s eta 0:00:01\r\u001b[K     |███████████▎                    | 348kB 35.3MB/s eta 0:00:01\r\u001b[K     |███████████▋                    | 358kB 35.3MB/s eta 0:00:01\r\u001b[K     |████████████                    | 368kB 35.3MB/s eta 0:00:01\r\u001b[K     |████████████▎                   | 378kB 35.3MB/s eta 0:00:01\r\u001b[K     |████████████▋                   | 389kB 35.3MB/s eta 0:00:01\r\u001b[K     |█████████████                   | 399kB 35.3MB/s eta 0:00:01\r\u001b[K     |█████████████▎                  | 409kB 35.3MB/s eta 0:00:01\r\u001b[K     |█████████████▋                  | 419kB 35.3MB/s eta 0:00:01\r\u001b[K     |██████████████                  | 430kB 35.3MB/s eta 0:00:01\r\u001b[K     |██████████████▎                 | 440kB 35.3MB/s eta 0:00:01\r\u001b[K     |██████████████▋                 | 450kB 35.3MB/s eta 0:00:01\r\u001b[K     |███████████████                 | 460kB 35.3MB/s eta 0:00:01\r\u001b[K     |███████████████▎                | 471kB 35.3MB/s eta 0:00:01\r\u001b[K     |███████████████▋                | 481kB 35.3MB/s eta 0:00:01\r\u001b[K     |████████████████                | 491kB 35.3MB/s eta 0:00:01\r\u001b[K     |████████████████▎               | 501kB 35.3MB/s eta 0:00:01\r\u001b[K     |████████████████▋               | 512kB 35.3MB/s eta 0:00:01\r\u001b[K     |█████████████████               | 522kB 35.3MB/s eta 0:00:01\r\u001b[K     |█████████████████▎              | 532kB 35.3MB/s eta 0:00:01\r\u001b[K     |█████████████████▋              | 542kB 35.3MB/s eta 0:00:01\r\u001b[K     |██████████████████              | 552kB 35.3MB/s eta 0:00:01\r\u001b[K     |██████████████████▎             | 563kB 35.3MB/s eta 0:00:01\r\u001b[K     |██████████████████▋             | 573kB 35.3MB/s eta 0:00:01\r\u001b[K     |███████████████████             | 583kB 35.3MB/s eta 0:00:01\r\u001b[K     |███████████████████▎            | 593kB 35.3MB/s eta 0:00:01\r\u001b[K     |███████████████████▋            | 604kB 35.3MB/s eta 0:00:01\r\u001b[K     |████████████████████            | 614kB 35.3MB/s eta 0:00:01\r\u001b[K     |████████████████████▎           | 624kB 35.3MB/s eta 0:00:01\r\u001b[K     |████████████████████▋           | 634kB 35.3MB/s eta 0:00:01\r\u001b[K     |█████████████████████           | 645kB 35.3MB/s eta 0:00:01\r\u001b[K     |█████████████████████▎          | 655kB 35.3MB/s eta 0:00:01\r\u001b[K     |█████████████████████▋          | 665kB 35.3MB/s eta 0:00:01\r\u001b[K     |██████████████████████          | 675kB 35.3MB/s eta 0:00:01\r\u001b[K     |██████████████████████▎         | 686kB 35.3MB/s eta 0:00:01\r\u001b[K     |██████████████████████▋         | 696kB 35.3MB/s eta 0:00:01\r\u001b[K     |███████████████████████         | 706kB 35.3MB/s eta 0:00:01\r\u001b[K     |███████████████████████▎        | 716kB 35.3MB/s eta 0:00:01\r\u001b[K     |███████████████████████▋        | 727kB 35.3MB/s eta 0:00:01\r\u001b[K     |████████████████████████        | 737kB 35.3MB/s eta 0:00:01\r\u001b[K     |████████████████████████▎       | 747kB 35.3MB/s eta 0:00:01\r\u001b[K     |████████████████████████▋       | 757kB 35.3MB/s eta 0:00:01\r\u001b[K     |████████████████████████▉       | 768kB 35.3MB/s eta 0:00:01\r\u001b[K     |█████████████████████████▏      | 778kB 35.3MB/s eta 0:00:01\r\u001b[K     |█████████████████████████▌      | 788kB 35.3MB/s eta 0:00:01\r\u001b[K     |█████████████████████████▉      | 798kB 35.3MB/s eta 0:00:01\r\u001b[K     |██████████████████████████▏     | 808kB 35.3MB/s eta 0:00:01\r\u001b[K     |██████████████████████████▌     | 819kB 35.3MB/s eta 0:00:01\r\u001b[K     |██████████████████████████▉     | 829kB 35.3MB/s eta 0:00:01\r\u001b[K     |███████████████████████████▏    | 839kB 35.3MB/s eta 0:00:01\r\u001b[K     |███████████████████████████▌    | 849kB 35.3MB/s eta 0:00:01\r\u001b[K     |███████████████████████████▉    | 860kB 35.3MB/s eta 0:00:01\r\u001b[K     |████████████████████████████▏   | 870kB 35.3MB/s eta 0:00:01\r\u001b[K     |████████████████████████████▌   | 880kB 35.3MB/s eta 0:00:01\r\u001b[K     |████████████████████████████▉   | 890kB 35.3MB/s eta 0:00:01\r\u001b[K     |█████████████████████████████▏  | 901kB 35.3MB/s eta 0:00:01\r\u001b[K     |█████████████████████████████▌  | 911kB 35.3MB/s eta 0:00:01\r\u001b[K     |█████████████████████████████▉  | 921kB 35.3MB/s eta 0:00:01\r\u001b[K     |██████████████████████████████▏ | 931kB 35.3MB/s eta 0:00:01\r\u001b[K     |██████████████████████████████▌ | 942kB 35.3MB/s eta 0:00:01\r\u001b[K     |██████████████████████████████▉ | 952kB 35.3MB/s eta 0:00:01\r\u001b[K     |███████████████████████████████▏| 962kB 35.3MB/s eta 0:00:01\r\u001b[K     |███████████████████████████████▌| 972kB 35.3MB/s eta 0:00:01\r\u001b[K     |███████████████████████████████▉| 983kB 35.3MB/s eta 0:00:01\r\u001b[K     |████████████████████████████████| 993kB 35.3MB/s \n",
            "\u001b[?25h  Building wheel for PyDrive (setup.py) ... \u001b[?25l\u001b[?25hdone\n"
          ],
          "name": "stdout"
        }
      ]
    },
    {
      "cell_type": "code",
      "metadata": {
        "id": "2zq5Y8a8E3Zl",
        "colab_type": "code",
        "colab": {}
      },
      "source": [
        "# saved files names\n",
        "img_model_name = \"keras_cnn_img.h5\"\n",
        "emg_model_name = \"keras_cnn_emg.h5\"\n",
        "fus_model_name = \"keras_cnn_fus.h5\"\n",
        "\n",
        "# hyper-parameters definition\n",
        "split_p = 0.66\n",
        "batch_size = 128\n",
        "num_classes = 5\n",
        "img_epochs = 30\n",
        "emg_epochs = 30\n",
        "fus_epochs = 30\n",
        "img_rows, img_cols = 60, 60\n",
        "emg_rows, emg_cols = 8, 3\n",
        "seed = 7\n",
        "np.random.seed(seed)"
      ],
      "execution_count": 0,
      "outputs": []
    },
    {
      "cell_type": "code",
      "metadata": {
        "id": "EyrGNPwnfsfZ",
        "colab_type": "code",
        "colab": {}
      },
      "source": [
        "# authenticate and create the PyDrive client\n",
        "auth.authenticate_user()\n",
        "gauth = GoogleAuth()\n",
        "gauth.credentials = GoogleCredentials.get_application_default()\n",
        "drive = GoogleDrive(gauth)\n",
        "\n",
        "link_img = \"https://drive.google.com/open?id=1MLV46ljNKlA83O61l1w7MPKUm54XMxkr\"\n",
        "link_emg = \"https://drive.google.com/open?id=19DObL7KWciZ4CpGzX_yAWqmBu0DiwJgG\"\n",
        "link_lbl = \"https://drive.google.com/open?id=1n-qxQ7d64MkfnSPqE1z0qCCy6zYvZaBb\"\n"
      ],
      "execution_count": 0,
      "outputs": []
    },
    {
      "cell_type": "code",
      "metadata": {
        "id": "RLc_ijbBttgO",
        "colab_type": "code",
        "outputId": "4c2fa1c5-6e69-4f52-96f5-2c5606366c96",
        "colab": {
          "base_uri": "https://localhost:8080/",
          "height": 119
        }
      },
      "source": [
        "# load data files\n",
        "fluff, id = link_img.split('=')\n",
        "print (id) # Verify that you have everything after '='\n",
        "downloaded = drive.CreateFile({\"id\":id}) \n",
        "downloaded.GetContentFile(\"cc19_hand_gestures_10p_img.npy\")  \n",
        "data_img = np.load(\"cc19_hand_gestures_10p_img.npy\")\n",
        "print(\"data_img.shape = \", data_img.shape)\n",
        "\n",
        "fluff, id = link_emg.split('=')\n",
        "print (id) # Verify that you have everything after '='\n",
        "downloaded = drive.CreateFile({\"id\":id}) \n",
        "downloaded.GetContentFile(\"cc19_hand_gestures_10p_emg.npy\")  \n",
        "data_emg = np.load(\"cc19_hand_gestures_10p_emg.npy\")\n",
        "print(\"data_emg.shape = \", data_emg.shape)\n",
        "\n",
        "fluff, id = link_lbl.split('=')\n",
        "print (id) # Verify that you have everything after '='\n",
        "downloaded = drive.CreateFile({\"id\":id}) \n",
        "downloaded.GetContentFile(\"cc19_hand_gestures_10p_lbl.npy\")  \n",
        "labels = np.load(\"cc19_hand_gestures_10p_lbl.npy\")\n",
        "print(\"labels.shape = \", labels.shape)"
      ],
      "execution_count": 0,
      "outputs": [
        {
          "output_type": "stream",
          "text": [
            "1MLV46ljNKlA83O61l1w7MPKUm54XMxkr\n",
            "data_img.shape =  (5600, 60, 60)\n",
            "19DObL7KWciZ4CpGzX_yAWqmBu0DiwJgG\n",
            "data_emg.shape =  (5600, 40, 8)\n",
            "1n-qxQ7d64MkfnSPqE1z0qCCy6zYvZaBb\n",
            "labels.shape =  (5600, 1)\n"
          ],
          "name": "stdout"
        }
      ]
    },
    {
      "cell_type": "code",
      "metadata": {
        "id": "Xz1-gJJxtY3U",
        "colab_type": "code",
        "colab": {}
      },
      "source": [
        "# function to extract emg features\n",
        "def analyze(x, fs=200, frame_len=0.2, frame_step=0.1, feat='MAV', order=1, threshold=0.1, preprocess=True):\n",
        "    l, n_ch = x.shape\n",
        "    frame_len_samples = int(frame_len * fs)\n",
        "    frame_step_samples = int(frame_step * fs)\n",
        "    \n",
        "    n_win = (l - frame_len_samples) // frame_step_samples + 1\n",
        "    ret = np.zeros((n_win, n_ch))\n",
        "    \n",
        "    w = np.hamming(frame_len_samples)\n",
        "    \n",
        "    if preprocess:\n",
        "        filteredEMGSignal = butter_lowpass_filter(x.T, 99, fs, 2)\n",
        "        x = butter_highpass_filter(filteredEMGSignal, 20, fs, 2).T\n",
        "\n",
        "        \n",
        "    for i in range(n_win):\n",
        "        chunk = x[i * frame_step_samples: i * frame_step_samples + frame_len_samples]\n",
        "        \n",
        "        # TIME DOMAIN\n",
        "        if feat == 'MAV':\n",
        "            ret[i] = np.mean(np.abs(chunk), 0)\n",
        "        if feat == 'iEMG':\n",
        "            ret[i] = np.sum(np.abs(chunk), 0)\n",
        "        if feat == 'SSI':\n",
        "            ret[i] = np.sum(chunk ** 2, 0)\n",
        "        if feat == 'VAR':\n",
        "            ret[i] = np.sum(chunk ** 2, 0) / (frame_len_samples - 1)\n",
        "        if feat == 'SD':\n",
        "            ret[i] = np.std(chunk, 0)\n",
        "        if feat == 'TM':\n",
        "            ret[i] = np.abs(np.sum(chunk ** order, 0) / frame_len_samples)\n",
        "        if feat == 'RMS':\n",
        "            ret[i] = np.sqrt(np.sum(chunk ** 2, 0) / frame_len_samples)\n",
        "        if feat == 'LOG':\n",
        "            ret[i] = np.exp(np.sum(np.abs(chunk), 0) / frame_len_samples) \n",
        "        if feat == 'WL':\n",
        "            ret[i] = np.sum(np.abs(np.diff(chunk.T).T), 0)\n",
        "        if feat == 'AAC':\n",
        "            ret[i] = np.sum(np.abs(np.diff(chunk.T).T), 0) / frame_len_samples\n",
        "        if feat == 'DASDV':\n",
        "            ret[i] = np.sum(np.diff(chunk.T).T ** 2, 0) / (frame_len_samples - 1)\n",
        "        if feat == 'AFB':\n",
        "            for j in range(n_ch):\n",
        "                _s = np.convolve(w / w.sum(), chunk[:, j] ** 2, mode='valid')\n",
        "                pp = peakutils.indexes(_s)\n",
        "                if len(pp) > 0:\n",
        "                    peak = pp[0]\n",
        "                else:\n",
        "                    peak = 0\n",
        "                ret[i, j] = _s[peak]\n",
        "        if feat == 'ZC':\n",
        "            positive = [chunk[0, i] > threshold for i in range(n_ch)]\n",
        "            ZC = np.zeros((n_ch,))\n",
        "            for j in range(n_ch):\n",
        "                for ss in chunk[1:, j]:\n",
        "                    if positive[j]:\n",
        "                        if(ss < 0 -threshold):\n",
        "                            positive[j] = False\n",
        "                            ZC[j] += 1\n",
        "                    else:\n",
        "                        if(ss > 0 + threshold):\n",
        "                            positive[j] = True\n",
        "            ret[i] = ZC\n",
        "        if feat == 'MYOP':\n",
        "            ret[i] = np.sum(np.float32(chunk >= threshold), 0) / frame_len_samples\n",
        "        if feat == 'WAMP':\n",
        "            ret[i] = np.sum(np.float32(np.diff(chunk.T).T > threshold))\n",
        "        if feat == 'SSC':\n",
        "            N = len(chunck)\n",
        "            SSC = 0\n",
        "            for i in range(1,N-1):\n",
        "                a, b, c = [chunk[i-1], chunk[i], chunk[i+1]]\n",
        "                if(a + b + c >= threshold * 3 ): #computed only if the 3 values are above the threshold\n",
        "                    if(a < b > c or a > b < c ): #if there's change in the slope\n",
        "                        SSC += 1\n",
        "            ret[i] = SSC\n",
        "            \n",
        "        # FREQ DOMAIN\n",
        "        \n",
        "    return ret"
      ],
      "execution_count": 0,
      "outputs": []
    },
    {
      "cell_type": "code",
      "metadata": {
        "id": "QTuwaGHftHiA",
        "colab_type": "code",
        "outputId": "0f4fe817-95a4-44d7-a0ef-da5cc3fc21c0",
        "colab": {
          "base_uri": "https://localhost:8080/",
          "height": 51
        }
      },
      "source": [
        "# emg feature extraction\n",
        "all_emg = []\n",
        "frame_len = 0.2\n",
        "frame_step = 0.1\n",
        "features = ['MAV', 'RMS', 'SD']\n",
        "print(\"data_emg.shape = \", data_emg.shape)\n",
        "for emg in data_emg:\n",
        "    sub = [analyze(emg, frame_len=frame_len, frame_step=frame_step, feat=f, preprocess=False) for f in features]\n",
        "    sub = np.hstack(sub)\n",
        "    all_emg.append(sub)\n",
        "data_emg = np.vstack(all_emg)\n",
        "\n",
        "print(\"data_emg.shape\", data_emg.shape)"
      ],
      "execution_count": 0,
      "outputs": [
        {
          "output_type": "stream",
          "text": [
            "data_emg.shape =  (5600, 40, 8)\n",
            "data_emg.shape (5600, 24)\n"
          ],
          "name": "stdout"
        }
      ]
    },
    {
      "cell_type": "code",
      "metadata": {
        "id": "axYjSs_iSe_p",
        "colab_type": "code",
        "outputId": "588a7679-7cd6-430f-e09b-9ce4f8a9b048",
        "colab": {
          "base_uri": "https://localhost:8080/",
          "height": 68
        }
      },
      "source": [
        "# function to split data\n",
        "def unison_shuffled_copies(a, b, c):\n",
        "    assert len(a) == len(b)\n",
        "    assert len(a) == len(b)\n",
        "    p = np.random.permutation(len(a))\n",
        "    return a[p], b[p], c[p]\n",
        "\n",
        "# shuffle data\n",
        "data_img, data_emg, labels = unison_shuffled_copies(data_img, data_emg, labels)\n",
        "\n",
        "# split data\n",
        "split = int(split_p*len(labels))\n",
        "print(\"split = \", split)\n",
        "\n",
        "data_img_train = data_img[:split,:,:]\n",
        "data_emg_train = data_emg[:split,:]\n",
        "data_img_test = data_img[split:,:,:]\n",
        "data_emg_test = data_emg[split:,:]\n",
        "labels_train = labels[:split,:]\n",
        "labels_test = labels[split:,:]\n",
        "\n",
        "print(\"data_img_train.shape = \", data_img_train.shape)\n",
        "print(\"data_emg_train.shape = \", data_emg_train.shape)"
      ],
      "execution_count": 0,
      "outputs": [
        {
          "output_type": "stream",
          "text": [
            "split =  3696\n",
            "data_img_train.shape =  (3696, 60, 60)\n",
            "data_emg_train.shape =  (3696, 24)\n"
          ],
          "name": "stdout"
        }
      ]
    },
    {
      "cell_type": "code",
      "metadata": {
        "id": "ls1GyBI24Z52",
        "colab_type": "code",
        "outputId": "c1805579-3501-45cf-9445-9a46db733edd",
        "colab": {
          "base_uri": "https://localhost:8080/",
          "height": 153
        }
      },
      "source": [
        "# img preprocessing\n",
        "# normalize\n",
        "data_max = np.max(data_img_train)\n",
        "data_min = np.min(data_img_train)\n",
        "for i in range(len(data_img_train)):\n",
        "    data_img_train[i] = (data_img_train[i] - data_min) / (data_max - data_min)\n",
        "for i in range(len(data_img_test)):\n",
        "    data_img_test[i] = (data_img_test[i] - data_min) / (data_max - data_min)\n",
        "print(\"img_min = \", data_min)\n",
        "print(\"img_max = \", data_max)\n",
        "\n",
        "# standardize\n",
        "data_mean = np.mean(data_img_train)\n",
        "data_std = np.std(data_img_train) + 1e-15\n",
        "data_img -= data_mean\n",
        "data_img /= data_std\n",
        "print(\"img_mean = \", data_mean)\n",
        "print(\"img_std = \", data_std)\n",
        "\n",
        "# emg preprocessing\n",
        "# normalize\n",
        "data_max = np.max(data_emg_train)\n",
        "data_min = np.min(data_emg_train)\n",
        "for i in range(len(data_emg_train)):\n",
        "    data_emg_train[i] = (data_emg_train[i] - data_min) / (data_max - data_min)\n",
        "for i in range(len(data_emg_test)):\n",
        "    data_emg_test[i] = (data_emg_test[i] - data_min) / (data_max - data_min)\n",
        "print(\"emg_min = \", data_min)\n",
        "print(\"emg_max = \", data_max)\n",
        "\n",
        "# standardize\n",
        "data_mean = np.mean(data_emg_train)\n",
        "data_std = np.std(data_emg_train) + 1e-15\n",
        "data_emg -= data_mean\n",
        "data_emg /= data_std\n",
        "print(\"emg_mean = \", data_mean)\n",
        "print(\"emg_std = \", data_std)"
      ],
      "execution_count": 0,
      "outputs": [
        {
          "output_type": "stream",
          "text": [
            "img_min =  -10.0\n",
            "img_max =  4.342945178152237e-11\n",
            "img_mean =  0.11297054755424565\n",
            "img_std =  0.29921494048849095\n",
            "emg_min =  0.0\n",
            "emg_max =  68.3781763430409\n",
            "emg_mean =  0.1490529122635982\n",
            "emg_std =  0.11991758770519481\n"
          ],
          "name": "stdout"
        }
      ]
    },
    {
      "cell_type": "code",
      "metadata": {
        "id": "AYdNZxQe13Qw",
        "colab_type": "code",
        "colab": {}
      },
      "source": [
        "# data format convertion\n",
        "data_img_train = data_img_train.reshape(data_img_train.shape[0], img_rows, img_cols, 1)\n",
        "data_img_test = data_img_test.reshape(data_img_test.shape[0], img_rows, img_cols, 1)\n",
        "data_emg_train = data_emg_train.reshape(data_emg_train.shape[0], emg_cols*emg_rows, 1)\n",
        "data_emg_test = data_emg_test.reshape(data_emg_test.shape[0], emg_cols*emg_rows, 1)\n",
        "labels_train = keras.utils.to_categorical(labels_train, num_classes)\n",
        "labels_test = keras.utils.to_categorical(labels_test, num_classes)\n",
        "img_input_shape = (img_rows, img_cols, 1)\n",
        "emg_input_shape = (emg_cols*emg_rows, 1)"
      ],
      "execution_count": 0,
      "outputs": []
    },
    {
      "cell_type": "code",
      "metadata": {
        "id": "fRS6V6wg42cR",
        "colab_type": "code",
        "outputId": "25dbeff0-aba8-42d5-c531-12c27c084b80",
        "colab": {
          "base_uri": "https://localhost:8080/",
          "height": 530
        }
      },
      "source": [
        "# cnn for img\n",
        "\n",
        "# create the cnn model\n",
        "model_img = Sequential()\n",
        "model_img.add(Conv2D(filters=8, kernel_size=(3, 3), activation='relu', input_shape=img_input_shape))\n",
        "model_img.add(Conv2D(filters=8, kernel_size=(3, 3), activation='relu'))\n",
        "model_img.add(MaxPooling2D(pool_size=(2, 2)))\n",
        "model_img.add(Dropout(0.25))\n",
        "model_img.add(Flatten())\n",
        "model_img.add(Dense(50, activation='relu'))\n",
        "model_img.add(Dropout(0.5))\n",
        "model_img.add(Dense(num_classes, activation='softmax'))\n",
        "                    \n",
        "model_img.summary()"
      ],
      "execution_count": 0,
      "outputs": [
        {
          "output_type": "stream",
          "text": [
            "WARNING:tensorflow:From /usr/local/lib/python3.6/dist-packages/tensorflow/python/framework/op_def_library.py:263: colocate_with (from tensorflow.python.framework.ops) is deprecated and will be removed in a future version.\n",
            "Instructions for updating:\n",
            "Colocations handled automatically by placer.\n",
            "WARNING:tensorflow:From /usr/local/lib/python3.6/dist-packages/keras/backend/tensorflow_backend.py:3445: calling dropout (from tensorflow.python.ops.nn_ops) with keep_prob is deprecated and will be removed in a future version.\n",
            "Instructions for updating:\n",
            "Please use `rate` instead of `keep_prob`. Rate should be set to `rate = 1 - keep_prob`.\n",
            "_________________________________________________________________\n",
            "Layer (type)                 Output Shape              Param #   \n",
            "=================================================================\n",
            "conv2d_1 (Conv2D)            (None, 58, 58, 8)         80        \n",
            "_________________________________________________________________\n",
            "conv2d_2 (Conv2D)            (None, 56, 56, 8)         584       \n",
            "_________________________________________________________________\n",
            "max_pooling2d_1 (MaxPooling2 (None, 28, 28, 8)         0         \n",
            "_________________________________________________________________\n",
            "dropout_1 (Dropout)          (None, 28, 28, 8)         0         \n",
            "_________________________________________________________________\n",
            "flatten_1 (Flatten)          (None, 6272)              0         \n",
            "_________________________________________________________________\n",
            "dense_1 (Dense)              (None, 50)                313650    \n",
            "_________________________________________________________________\n",
            "dropout_2 (Dropout)          (None, 50)                0         \n",
            "_________________________________________________________________\n",
            "dense_2 (Dense)              (None, 5)                 255       \n",
            "=================================================================\n",
            "Total params: 314,569\n",
            "Trainable params: 314,569\n",
            "Non-trainable params: 0\n",
            "_________________________________________________________________\n"
          ],
          "name": "stdout"
        }
      ]
    },
    {
      "cell_type": "code",
      "metadata": {
        "id": "7LyYe8UNj2li",
        "colab_type": "code",
        "outputId": "84c1e3cc-ebde-4b55-804b-ebc886b64040",
        "colab": {
          "base_uri": "https://localhost:8080/",
          "height": 1088
        }
      },
      "source": [
        "# compile model\n",
        "model_img.compile(loss=keras.losses.categorical_crossentropy,\n",
        "            optimizer=keras.optimizers.Adadelta(),\n",
        "            metrics=['accuracy'])\n",
        "\n",
        "# fit the model\n",
        "model_img.fit(data_img_train, labels_train,\n",
        "        batch_size=batch_size,\n",
        "        epochs=img_epochs,\n",
        "        verbose=1,\n",
        "        validation_data=(data_img_test, labels_test))\n",
        "\n",
        "# evaluate the model\n",
        "scores = model_img.evaluate(data_img_test, labels_test, verbose=1)\n",
        "print(\"%s: %.2f%%\" % (model_img.metrics_names[1], scores[1]*100))"
      ],
      "execution_count": 0,
      "outputs": [
        {
          "output_type": "stream",
          "text": [
            "Train on 3696 samples, validate on 1904 samples\n",
            "Epoch 1/30\n",
            "3696/3696 [==============================] - 1s 335us/step - loss: 0.2524 - acc: 0.8937 - val_loss: 0.2940 - val_acc: 0.8992\n",
            "Epoch 2/30\n",
            "3696/3696 [==============================] - 1s 191us/step - loss: 0.2212 - acc: 0.9042 - val_loss: 0.3353 - val_acc: 0.8950\n",
            "Epoch 3/30\n",
            "3696/3696 [==============================] - 1s 184us/step - loss: 0.2012 - acc: 0.9175 - val_loss: 0.3488 - val_acc: 0.8992\n",
            "Epoch 4/30\n",
            "3696/3696 [==============================] - 1s 182us/step - loss: 0.1993 - acc: 0.9142 - val_loss: 0.3173 - val_acc: 0.9060\n",
            "Epoch 5/30\n",
            "3696/3696 [==============================] - 1s 180us/step - loss: 0.1824 - acc: 0.9226 - val_loss: 0.3067 - val_acc: 0.9107\n",
            "Epoch 6/30\n",
            "3696/3696 [==============================] - 1s 181us/step - loss: 0.1827 - acc: 0.9221 - val_loss: 0.3490 - val_acc: 0.9007\n",
            "Epoch 7/30\n",
            "3696/3696 [==============================] - 1s 180us/step - loss: 0.1923 - acc: 0.9161 - val_loss: 0.3303 - val_acc: 0.9065\n",
            "Epoch 8/30\n",
            "3696/3696 [==============================] - 1s 178us/step - loss: 0.1663 - acc: 0.9329 - val_loss: 0.3258 - val_acc: 0.9081\n",
            "Epoch 9/30\n",
            "3696/3696 [==============================] - 1s 180us/step - loss: 0.1847 - acc: 0.9161 - val_loss: 0.3102 - val_acc: 0.9039\n",
            "Epoch 10/30\n",
            "3696/3696 [==============================] - 1s 178us/step - loss: 0.1673 - acc: 0.9297 - val_loss: 0.3473 - val_acc: 0.9018\n",
            "Epoch 11/30\n",
            "3696/3696 [==============================] - 1s 178us/step - loss: 0.1672 - acc: 0.9286 - val_loss: 0.3393 - val_acc: 0.8965\n",
            "Epoch 12/30\n",
            "3696/3696 [==============================] - 1s 177us/step - loss: 0.1651 - acc: 0.9302 - val_loss: 0.3167 - val_acc: 0.9049\n",
            "Epoch 13/30\n",
            "3696/3696 [==============================] - 1s 175us/step - loss: 0.1561 - acc: 0.9307 - val_loss: 0.3249 - val_acc: 0.9065\n",
            "Epoch 14/30\n",
            "3696/3696 [==============================] - 1s 177us/step - loss: 0.1500 - acc: 0.9324 - val_loss: 0.3407 - val_acc: 0.9049\n",
            "Epoch 15/30\n",
            "3696/3696 [==============================] - 1s 179us/step - loss: 0.1646 - acc: 0.9334 - val_loss: 0.3213 - val_acc: 0.9107\n",
            "Epoch 16/30\n",
            "3696/3696 [==============================] - 1s 175us/step - loss: 0.1566 - acc: 0.9329 - val_loss: 0.3388 - val_acc: 0.9044\n",
            "Epoch 17/30\n",
            "3696/3696 [==============================] - 1s 184us/step - loss: 0.1537 - acc: 0.9378 - val_loss: 0.3445 - val_acc: 0.9018\n",
            "Epoch 18/30\n",
            "3696/3696 [==============================] - 1s 179us/step - loss: 0.1532 - acc: 0.9364 - val_loss: 0.3423 - val_acc: 0.9128\n",
            "Epoch 19/30\n",
            "3696/3696 [==============================] - 1s 175us/step - loss: 0.1387 - acc: 0.9432 - val_loss: 0.3313 - val_acc: 0.9086\n",
            "Epoch 20/30\n",
            "3696/3696 [==============================] - 1s 175us/step - loss: 0.1422 - acc: 0.9372 - val_loss: 0.3505 - val_acc: 0.9081\n",
            "Epoch 21/30\n",
            "3696/3696 [==============================] - 1s 175us/step - loss: 0.1322 - acc: 0.9437 - val_loss: 0.3564 - val_acc: 0.9081\n",
            "Epoch 22/30\n",
            "3696/3696 [==============================] - 1s 176us/step - loss: 0.1262 - acc: 0.9448 - val_loss: 0.3523 - val_acc: 0.9123\n",
            "Epoch 23/30\n",
            "3696/3696 [==============================] - 1s 177us/step - loss: 0.1460 - acc: 0.9386 - val_loss: 0.3185 - val_acc: 0.9170\n",
            "Epoch 24/30\n",
            "3696/3696 [==============================] - 1s 174us/step - loss: 0.1333 - acc: 0.9383 - val_loss: 0.3358 - val_acc: 0.9049\n",
            "Epoch 25/30\n",
            "3696/3696 [==============================] - 1s 173us/step - loss: 0.1306 - acc: 0.9413 - val_loss: 0.3649 - val_acc: 0.9034\n",
            "Epoch 26/30\n",
            "3696/3696 [==============================] - 1s 176us/step - loss: 0.1410 - acc: 0.9386 - val_loss: 0.3366 - val_acc: 0.9123\n",
            "Epoch 27/30\n",
            "3696/3696 [==============================] - 1s 172us/step - loss: 0.1253 - acc: 0.9451 - val_loss: 0.3412 - val_acc: 0.9149\n",
            "Epoch 28/30\n",
            "3696/3696 [==============================] - 1s 175us/step - loss: 0.1278 - acc: 0.9459 - val_loss: 0.3538 - val_acc: 0.9081\n",
            "Epoch 29/30\n",
            "3696/3696 [==============================] - 1s 174us/step - loss: 0.1317 - acc: 0.9424 - val_loss: 0.3599 - val_acc: 0.9112\n",
            "Epoch 30/30\n",
            "3696/3696 [==============================] - 1s 176us/step - loss: 0.1160 - acc: 0.9472 - val_loss: 0.3422 - val_acc: 0.9123\n",
            "1904/1904 [==============================] - 0s 117us/step\n",
            "acc: 91.23%\n"
          ],
          "name": "stdout"
        }
      ]
    },
    {
      "cell_type": "code",
      "metadata": {
        "id": "WwRzqekb43wz",
        "colab_type": "code",
        "outputId": "e556c7b8-5a84-4ad6-e673-51e621029fd0",
        "colab": {
          "base_uri": "https://localhost:8080/",
          "height": 102
        }
      },
      "source": [
        "# confusion matrix with img\n",
        "pred_img = model_img.predict(data_img_test)\n",
        "print(confusion_matrix(labels_test.argmax(axis=1), pred_img.argmax(axis=1)))"
      ],
      "execution_count": 0,
      "outputs": [
        {
          "output_type": "stream",
          "text": [
            "[[360   8   6   5  12]\n",
            " [ 11 327   2  19   8]\n",
            " [ 22   3 351   2  19]\n",
            " [  7   4   4 342   7]\n",
            " [ 10   3  10   5 357]]\n"
          ],
          "name": "stdout"
        }
      ]
    },
    {
      "cell_type": "code",
      "metadata": {
        "id": "oBCQIH046TUY",
        "colab_type": "code",
        "outputId": "dba74899-38e8-46a6-a11b-4ba5896cfbb8",
        "colab": {
          "base_uri": "https://localhost:8080/",
          "height": 374
        }
      },
      "source": [
        "# cnn for emg\n",
        "\n",
        "# create the cnn model\n",
        "model_emg = Sequential()\n",
        "model_emg.add(Conv1D(filters=32, kernel_size=3, activation='relu', input_shape=emg_input_shape))\n",
        "model_emg.add(Conv1D(filters=32, kernel_size=3, activation='relu'))\n",
        "model_emg.add(Dropout(0.5))\n",
        "model_emg.add(MaxPooling1D(pool_size=2))\n",
        "model_emg.add(Flatten())\n",
        "model_emg.add(Dense(100, activation='relu'))\n",
        "model_emg.add(Dense(num_classes, activation='softmax'))\n",
        "\n",
        "model_emg.summary()"
      ],
      "execution_count": 0,
      "outputs": [
        {
          "output_type": "stream",
          "text": [
            "_________________________________________________________________\n",
            "Layer (type)                 Output Shape              Param #   \n",
            "=================================================================\n",
            "conv1d_1 (Conv1D)            (None, 22, 32)            128       \n",
            "_________________________________________________________________\n",
            "conv1d_2 (Conv1D)            (None, 20, 32)            3104      \n",
            "_________________________________________________________________\n",
            "dropout_3 (Dropout)          (None, 20, 32)            0         \n",
            "_________________________________________________________________\n",
            "max_pooling1d_1 (MaxPooling1 (None, 10, 32)            0         \n",
            "_________________________________________________________________\n",
            "flatten_2 (Flatten)          (None, 320)               0         \n",
            "_________________________________________________________________\n",
            "dense_3 (Dense)              (None, 100)               32100     \n",
            "_________________________________________________________________\n",
            "dense_4 (Dense)              (None, 5)                 505       \n",
            "=================================================================\n",
            "Total params: 35,837\n",
            "Trainable params: 35,837\n",
            "Non-trainable params: 0\n",
            "_________________________________________________________________\n"
          ],
          "name": "stdout"
        }
      ]
    },
    {
      "cell_type": "code",
      "metadata": {
        "id": "kDHer6bspRdg",
        "colab_type": "code",
        "outputId": "2d21c3ca-90ea-45f4-a684-40af67625fd1",
        "colab": {
          "base_uri": "https://localhost:8080/",
          "height": 1071
        }
      },
      "source": [
        "# compile model\n",
        "model_emg.compile(loss=keras.losses.categorical_crossentropy,\n",
        "            optimizer=keras.optimizers.Adadelta(),\n",
        "            metrics=['accuracy'])\n",
        "\n",
        "# fit the model\n",
        "model_emg.fit(data_emg_train, labels_train, epochs=emg_epochs, batch_size=batch_size, verbose=0)\n",
        "\n",
        "model_emg.fit(data_emg_train, labels_train,\n",
        "        batch_size=batch_size,\n",
        "        epochs=emg_epochs,\n",
        "        verbose=1,\n",
        "        validation_data=(data_emg_test, labels_test))\n",
        "\n",
        "# evaluate the model\n",
        "scores = model_emg.evaluate(data_emg_test, labels_test, verbose=0)\n",
        "print(\"%s: %.2f%%\" % (model_emg.metrics_names[1], scores[1]*100))"
      ],
      "execution_count": 0,
      "outputs": [
        {
          "output_type": "stream",
          "text": [
            "Train on 3696 samples, validate on 1904 samples\n",
            "Epoch 1/30\n",
            "3696/3696 [==============================] - 0s 97us/step - loss: 0.5510 - acc: 0.7873 - val_loss: 0.5477 - val_acc: 0.7820\n",
            "Epoch 2/30\n",
            "3696/3696 [==============================] - 0s 66us/step - loss: 0.5518 - acc: 0.7865 - val_loss: 0.5347 - val_acc: 0.7967\n",
            "Epoch 3/30\n",
            "3696/3696 [==============================] - 0s 72us/step - loss: 0.5521 - acc: 0.7841 - val_loss: 0.5336 - val_acc: 0.7941\n",
            "Epoch 4/30\n",
            "3696/3696 [==============================] - 0s 65us/step - loss: 0.5392 - acc: 0.7922 - val_loss: 0.5318 - val_acc: 0.7878\n",
            "Epoch 5/30\n",
            "3696/3696 [==============================] - 0s 65us/step - loss: 0.5498 - acc: 0.7871 - val_loss: 0.5187 - val_acc: 0.8015\n",
            "Epoch 6/30\n",
            "3696/3696 [==============================] - 0s 66us/step - loss: 0.5276 - acc: 0.8014 - val_loss: 0.5201 - val_acc: 0.7988\n",
            "Epoch 7/30\n",
            "3696/3696 [==============================] - 0s 69us/step - loss: 0.5144 - acc: 0.8049 - val_loss: 0.5156 - val_acc: 0.7946\n",
            "Epoch 8/30\n",
            "3696/3696 [==============================] - 0s 68us/step - loss: 0.5209 - acc: 0.7925 - val_loss: 0.5251 - val_acc: 0.7868\n",
            "Epoch 9/30\n",
            "3696/3696 [==============================] - 0s 67us/step - loss: 0.5197 - acc: 0.7973 - val_loss: 0.5074 - val_acc: 0.8025\n",
            "Epoch 10/30\n",
            "3696/3696 [==============================] - 0s 66us/step - loss: 0.5262 - acc: 0.8009 - val_loss: 0.5118 - val_acc: 0.8015\n",
            "Epoch 11/30\n",
            "3696/3696 [==============================] - 0s 72us/step - loss: 0.5160 - acc: 0.7936 - val_loss: 0.5018 - val_acc: 0.8062\n",
            "Epoch 12/30\n",
            "3696/3696 [==============================] - 0s 66us/step - loss: 0.5088 - acc: 0.8030 - val_loss: 0.4988 - val_acc: 0.8125\n",
            "Epoch 13/30\n",
            "3696/3696 [==============================] - 0s 66us/step - loss: 0.4896 - acc: 0.8125 - val_loss: 0.4982 - val_acc: 0.8046\n",
            "Epoch 14/30\n",
            "3696/3696 [==============================] - 0s 67us/step - loss: 0.5005 - acc: 0.8033 - val_loss: 0.4935 - val_acc: 0.8099\n",
            "Epoch 15/30\n",
            "3696/3696 [==============================] - 0s 73us/step - loss: 0.4920 - acc: 0.8090 - val_loss: 0.4890 - val_acc: 0.8046\n",
            "Epoch 16/30\n",
            "3696/3696 [==============================] - 0s 65us/step - loss: 0.4947 - acc: 0.8093 - val_loss: 0.4855 - val_acc: 0.8104\n",
            "Epoch 17/30\n",
            "3696/3696 [==============================] - 0s 67us/step - loss: 0.4848 - acc: 0.8147 - val_loss: 0.4945 - val_acc: 0.8051\n",
            "Epoch 18/30\n",
            "3696/3696 [==============================] - 0s 66us/step - loss: 0.4771 - acc: 0.8130 - val_loss: 0.4878 - val_acc: 0.8125\n",
            "Epoch 19/30\n",
            "3696/3696 [==============================] - 0s 72us/step - loss: 0.4802 - acc: 0.8139 - val_loss: 0.4865 - val_acc: 0.8099\n",
            "Epoch 20/30\n",
            "3696/3696 [==============================] - 0s 67us/step - loss: 0.4784 - acc: 0.8176 - val_loss: 0.4819 - val_acc: 0.8072\n",
            "Epoch 21/30\n",
            "3696/3696 [==============================] - 0s 66us/step - loss: 0.4716 - acc: 0.8144 - val_loss: 0.4813 - val_acc: 0.8099\n",
            "Epoch 22/30\n",
            "3696/3696 [==============================] - 0s 66us/step - loss: 0.4720 - acc: 0.8136 - val_loss: 0.4762 - val_acc: 0.8041\n",
            "Epoch 23/30\n",
            "3696/3696 [==============================] - 0s 71us/step - loss: 0.4583 - acc: 0.8233 - val_loss: 0.4649 - val_acc: 0.8204\n",
            "Epoch 24/30\n",
            "3696/3696 [==============================] - 0s 66us/step - loss: 0.4671 - acc: 0.8244 - val_loss: 0.4696 - val_acc: 0.8146\n",
            "Epoch 25/30\n",
            "3696/3696 [==============================] - 0s 67us/step - loss: 0.4561 - acc: 0.8293 - val_loss: 0.4699 - val_acc: 0.8120\n",
            "Epoch 26/30\n",
            "3696/3696 [==============================] - 0s 67us/step - loss: 0.4528 - acc: 0.8285 - val_loss: 0.4862 - val_acc: 0.8041\n",
            "Epoch 27/30\n",
            "3696/3696 [==============================] - 0s 71us/step - loss: 0.4629 - acc: 0.8190 - val_loss: 0.4662 - val_acc: 0.8167\n",
            "Epoch 28/30\n",
            "3696/3696 [==============================] - 0s 66us/step - loss: 0.4653 - acc: 0.8209 - val_loss: 0.4697 - val_acc: 0.8162\n",
            "Epoch 29/30\n",
            "3696/3696 [==============================] - 0s 66us/step - loss: 0.4462 - acc: 0.8263 - val_loss: 0.4632 - val_acc: 0.8125\n",
            "Epoch 30/30\n",
            "3696/3696 [==============================] - 0s 66us/step - loss: 0.4512 - acc: 0.8233 - val_loss: 0.4637 - val_acc: 0.8199\n",
            "acc: 81.99%\n"
          ],
          "name": "stdout"
        }
      ]
    },
    {
      "cell_type": "code",
      "metadata": {
        "id": "4J1biAPK1_yb",
        "colab_type": "code",
        "outputId": "25ec90ec-8f3f-493e-ba49-5a692cd1f0d2",
        "colab": {
          "base_uri": "https://localhost:8080/",
          "height": 102
        }
      },
      "source": [
        "# confusion matrix for emg\n",
        "pred_emg = model_emg.predict(data_emg_test)\n",
        "print(confusion_matrix(labels_test.argmax(axis=1), pred_emg.argmax(axis=1)))"
      ],
      "execution_count": 0,
      "outputs": [
        {
          "output_type": "stream",
          "text": [
            "[[335   3  23  27   3]\n",
            " [  2 313  19   8  25]\n",
            " [ 37  41 284   7  28]\n",
            " [ 11  24   4 314  11]\n",
            " [  2  38  13  17 315]]\n"
          ],
          "name": "stdout"
        }
      ]
    },
    {
      "cell_type": "code",
      "metadata": {
        "id": "7wun7CCF9NF9",
        "colab_type": "code",
        "outputId": "5f356507-93e2-464f-feb1-35e3f911fbbb",
        "colab": {
          "base_uri": "https://localhost:8080/",
          "height": 799
        }
      },
      "source": [
        "# mlp for fus\n",
        "\n",
        "mergedOut = Concatenate()([model_img.output,model_emg.output])\n",
        "mergedOut = Dense(5, activation='softmax')(mergedOut)\n",
        "model_fus = Model([model_img.input, model_emg.input], mergedOut)\n",
        "model_fus.summary()"
      ],
      "execution_count": 0,
      "outputs": [
        {
          "output_type": "stream",
          "text": [
            "__________________________________________________________________________________________________\n",
            "Layer (type)                    Output Shape         Param #     Connected to                     \n",
            "==================================================================================================\n",
            "conv2d_1_input (InputLayer)     (None, 60, 60, 1)    0                                            \n",
            "__________________________________________________________________________________________________\n",
            "conv2d_1 (Conv2D)               (None, 58, 58, 8)    80          conv2d_1_input[0][0]             \n",
            "__________________________________________________________________________________________________\n",
            "conv1d_1_input (InputLayer)     (None, 24, 1)        0                                            \n",
            "__________________________________________________________________________________________________\n",
            "conv2d_2 (Conv2D)               (None, 56, 56, 8)    584         conv2d_1[0][0]                   \n",
            "__________________________________________________________________________________________________\n",
            "conv1d_1 (Conv1D)               (None, 22, 32)       128         conv1d_1_input[0][0]             \n",
            "__________________________________________________________________________________________________\n",
            "max_pooling2d_1 (MaxPooling2D)  (None, 28, 28, 8)    0           conv2d_2[0][0]                   \n",
            "__________________________________________________________________________________________________\n",
            "conv1d_2 (Conv1D)               (None, 20, 32)       3104        conv1d_1[0][0]                   \n",
            "__________________________________________________________________________________________________\n",
            "dropout_1 (Dropout)             (None, 28, 28, 8)    0           max_pooling2d_1[0][0]            \n",
            "__________________________________________________________________________________________________\n",
            "dropout_3 (Dropout)             (None, 20, 32)       0           conv1d_2[0][0]                   \n",
            "__________________________________________________________________________________________________\n",
            "flatten_1 (Flatten)             (None, 6272)         0           dropout_1[0][0]                  \n",
            "__________________________________________________________________________________________________\n",
            "max_pooling1d_1 (MaxPooling1D)  (None, 10, 32)       0           dropout_3[0][0]                  \n",
            "__________________________________________________________________________________________________\n",
            "dense_1 (Dense)                 (None, 50)           313650      flatten_1[0][0]                  \n",
            "__________________________________________________________________________________________________\n",
            "flatten_2 (Flatten)             (None, 320)          0           max_pooling1d_1[0][0]            \n",
            "__________________________________________________________________________________________________\n",
            "dropout_2 (Dropout)             (None, 50)           0           dense_1[0][0]                    \n",
            "__________________________________________________________________________________________________\n",
            "dense_3 (Dense)                 (None, 100)          32100       flatten_2[0][0]                  \n",
            "__________________________________________________________________________________________________\n",
            "dense_2 (Dense)                 (None, 5)            255         dropout_2[0][0]                  \n",
            "__________________________________________________________________________________________________\n",
            "dense_4 (Dense)                 (None, 5)            505         dense_3[0][0]                    \n",
            "__________________________________________________________________________________________________\n",
            "concatenate_1 (Concatenate)     (None, 10)           0           dense_2[0][0]                    \n",
            "                                                                 dense_4[0][0]                    \n",
            "__________________________________________________________________________________________________\n",
            "dense_5 (Dense)                 (None, 5)            55          concatenate_1[0][0]              \n",
            "==================================================================================================\n",
            "Total params: 350,461\n",
            "Trainable params: 350,461\n",
            "Non-trainable params: 0\n",
            "__________________________________________________________________________________________________\n"
          ],
          "name": "stdout"
        }
      ]
    },
    {
      "cell_type": "code",
      "metadata": {
        "id": "JUOFsw5mJPv_",
        "colab_type": "code",
        "outputId": "1111e25b-60af-4e08-f456-4a86c5dc3c98",
        "colab": {
          "base_uri": "https://localhost:8080/",
          "height": 340
        }
      },
      "source": [
        "# freeze the layers except the last dense\n",
        "for layer in model_fus.layers[:len(model_fus.layers)-1]:\n",
        "    layer.trainable = False\n",
        "\n",
        "# check the status of the layers\n",
        "for layer in model_fus.layers:\n",
        "    print(layer, layer.trainable)"
      ],
      "execution_count": 0,
      "outputs": [
        {
          "output_type": "stream",
          "text": [
            "<keras.engine.input_layer.InputLayer object at 0x7f7ce9419518> False\n",
            "<keras.layers.convolutional.Conv2D object at 0x7f7cebee6e80> False\n",
            "<keras.engine.input_layer.InputLayer object at 0x7f7ccfb43c18> False\n",
            "<keras.layers.convolutional.Conv2D object at 0x7f7ce8e81940> False\n",
            "<keras.layers.convolutional.Conv1D object at 0x7f7ccfb43320> False\n",
            "<keras.layers.pooling.MaxPooling2D object at 0x7f7ce8e82c18> False\n",
            "<keras.layers.convolutional.Conv1D object at 0x7f7ccfb439b0> False\n",
            "<keras.layers.core.Dropout object at 0x7f7ce94196a0> False\n",
            "<keras.layers.core.Dropout object at 0x7f7ccfb432b0> False\n",
            "<keras.layers.core.Flatten object at 0x7f7ce8643e80> False\n",
            "<keras.layers.pooling.MaxPooling1D object at 0x7f7ccfb52198> False\n",
            "<keras.layers.core.Dense object at 0x7f7ce8e82cc0> False\n",
            "<keras.layers.core.Flatten object at 0x7f7ccfb52a90> False\n",
            "<keras.layers.core.Dropout object at 0x7f7ce8643b70> False\n",
            "<keras.layers.core.Dense object at 0x7f7ccfb10978> False\n",
            "<keras.layers.core.Dense object at 0x7f7ce8ee59e8> False\n",
            "<keras.layers.core.Dense object at 0x7f7ccfb103c8> False\n",
            "<keras.layers.merge.Concatenate object at 0x7f7ce8ee8208> False\n",
            "<keras.layers.core.Dense object at 0x7f7ce8e81ba8> True\n"
          ],
          "name": "stdout"
        }
      ]
    },
    {
      "cell_type": "code",
      "metadata": {
        "id": "-jXnQyxyG6eZ",
        "colab_type": "code",
        "outputId": "0799f498-dc8f-4fc0-d1ee-e1a82d21eea3",
        "colab": {
          "base_uri": "https://localhost:8080/",
          "height": 1088
        }
      },
      "source": [
        "# compile model\n",
        "model_fus.compile(loss=keras.losses.categorical_crossentropy,\n",
        "            optimizer=keras.optimizers.Adadelta(),\n",
        "            metrics=['accuracy'])\n",
        "\n",
        "# fit the model\n",
        "model_fus.fit([data_img_train, data_emg_train], labels_train,\n",
        "        batch_size=batch_size,\n",
        "        epochs=fus_epochs,\n",
        "        verbose=1,\n",
        "        validation_data=([data_img_test, data_emg_test], labels_test))\n",
        "\n",
        "# evaluate the model\n",
        "scores = model_fus.evaluate([data_img_test, data_emg_test], labels_test, verbose=1)\n",
        "print(\"%s: %.2f%%\" % (model_fus.metrics_names[1], scores[1]*100))"
      ],
      "execution_count": 0,
      "outputs": [
        {
          "output_type": "stream",
          "text": [
            "Train on 3696 samples, validate on 1904 samples\n",
            "Epoch 1/30\n",
            "3696/3696 [==============================] - 1s 290us/step - loss: 0.0766 - acc: 0.9805 - val_loss: 0.1569 - val_acc: 0.9433\n",
            "Epoch 2/30\n",
            "3696/3696 [==============================] - 0s 128us/step - loss: 0.0664 - acc: 0.9878 - val_loss: 0.1566 - val_acc: 0.9433\n",
            "Epoch 3/30\n",
            "3696/3696 [==============================] - 1s 137us/step - loss: 0.0765 - acc: 0.9813 - val_loss: 0.1562 - val_acc: 0.9443\n",
            "Epoch 4/30\n",
            "3696/3696 [==============================] - 0s 133us/step - loss: 0.0783 - acc: 0.9781 - val_loss: 0.1559 - val_acc: 0.9443\n",
            "Epoch 5/30\n",
            "3696/3696 [==============================] - 1s 136us/step - loss: 0.0713 - acc: 0.9832 - val_loss: 0.1554 - val_acc: 0.9449\n",
            "Epoch 6/30\n",
            "3696/3696 [==============================] - 0s 129us/step - loss: 0.0739 - acc: 0.9816 - val_loss: 0.1550 - val_acc: 0.9449\n",
            "Epoch 7/30\n",
            "3696/3696 [==============================] - 0s 132us/step - loss: 0.0725 - acc: 0.9808 - val_loss: 0.1546 - val_acc: 0.9449\n",
            "Epoch 8/30\n",
            "3696/3696 [==============================] - 0s 129us/step - loss: 0.0696 - acc: 0.9802 - val_loss: 0.1545 - val_acc: 0.9449\n",
            "Epoch 9/30\n",
            "3696/3696 [==============================] - 0s 133us/step - loss: 0.0648 - acc: 0.9832 - val_loss: 0.1543 - val_acc: 0.9443\n",
            "Epoch 10/30\n",
            "3696/3696 [==============================] - 0s 130us/step - loss: 0.0705 - acc: 0.9819 - val_loss: 0.1539 - val_acc: 0.9443\n",
            "Epoch 11/30\n",
            "3696/3696 [==============================] - 0s 135us/step - loss: 0.0716 - acc: 0.9802 - val_loss: 0.1539 - val_acc: 0.9449\n",
            "Epoch 12/30\n",
            "3696/3696 [==============================] - 0s 129us/step - loss: 0.0723 - acc: 0.9816 - val_loss: 0.1536 - val_acc: 0.9449\n",
            "Epoch 13/30\n",
            "3696/3696 [==============================] - 1s 136us/step - loss: 0.0691 - acc: 0.9819 - val_loss: 0.1536 - val_acc: 0.9443\n",
            "Epoch 14/30\n",
            "3696/3696 [==============================] - 0s 131us/step - loss: 0.0657 - acc: 0.9827 - val_loss: 0.1535 - val_acc: 0.9449\n",
            "Epoch 15/30\n",
            "3696/3696 [==============================] - 0s 132us/step - loss: 0.0697 - acc: 0.9797 - val_loss: 0.1534 - val_acc: 0.9454\n",
            "Epoch 16/30\n",
            "3696/3696 [==============================] - 0s 129us/step - loss: 0.0645 - acc: 0.9827 - val_loss: 0.1533 - val_acc: 0.9449\n",
            "Epoch 17/30\n",
            "3696/3696 [==============================] - 0s 130us/step - loss: 0.0669 - acc: 0.9800 - val_loss: 0.1531 - val_acc: 0.9449\n",
            "Epoch 18/30\n",
            "3696/3696 [==============================] - 0s 130us/step - loss: 0.0640 - acc: 0.9819 - val_loss: 0.1531 - val_acc: 0.9443\n",
            "Epoch 19/30\n",
            "3696/3696 [==============================] - 0s 133us/step - loss: 0.0652 - acc: 0.9813 - val_loss: 0.1532 - val_acc: 0.9449\n",
            "Epoch 20/30\n",
            "3696/3696 [==============================] - 0s 133us/step - loss: 0.0679 - acc: 0.9805 - val_loss: 0.1533 - val_acc: 0.9438\n",
            "Epoch 21/30\n",
            "3696/3696 [==============================] - 0s 131us/step - loss: 0.0646 - acc: 0.9819 - val_loss: 0.1533 - val_acc: 0.9443\n",
            "Epoch 22/30\n",
            "3696/3696 [==============================] - 0s 132us/step - loss: 0.0720 - acc: 0.9770 - val_loss: 0.1531 - val_acc: 0.9443\n",
            "Epoch 23/30\n",
            "3696/3696 [==============================] - 0s 129us/step - loss: 0.0648 - acc: 0.9805 - val_loss: 0.1531 - val_acc: 0.9454\n",
            "Epoch 24/30\n",
            "3696/3696 [==============================] - 1s 136us/step - loss: 0.0639 - acc: 0.9794 - val_loss: 0.1530 - val_acc: 0.9449\n",
            "Epoch 25/30\n",
            "3696/3696 [==============================] - 0s 129us/step - loss: 0.0681 - acc: 0.9789 - val_loss: 0.1531 - val_acc: 0.9454\n",
            "Epoch 26/30\n",
            "3696/3696 [==============================] - 0s 132us/step - loss: 0.0666 - acc: 0.9789 - val_loss: 0.1528 - val_acc: 0.9449\n",
            "Epoch 27/30\n",
            "3696/3696 [==============================] - 0s 130us/step - loss: 0.0642 - acc: 0.9811 - val_loss: 0.1530 - val_acc: 0.9443\n",
            "Epoch 28/30\n",
            "3696/3696 [==============================] - 0s 133us/step - loss: 0.0690 - acc: 0.9813 - val_loss: 0.1529 - val_acc: 0.9438\n",
            "Epoch 29/30\n",
            "3696/3696 [==============================] - 0s 130us/step - loss: 0.0583 - acc: 0.9848 - val_loss: 0.1528 - val_acc: 0.9443\n",
            "Epoch 30/30\n",
            "3696/3696 [==============================] - 0s 134us/step - loss: 0.0642 - acc: 0.9824 - val_loss: 0.1526 - val_acc: 0.9449\n",
            "1904/1904 [==============================] - 0s 163us/step\n",
            "acc: 94.49%\n"
          ],
          "name": "stdout"
        }
      ]
    },
    {
      "cell_type": "code",
      "metadata": {
        "id": "ZlIhuWgNgjcP",
        "colab_type": "code",
        "outputId": "3d3be428-97e2-4b03-ba95-94ad0897d0e8",
        "colab": {
          "base_uri": "https://localhost:8080/",
          "height": 102
        }
      },
      "source": [
        "# confusion matrix for fus\n",
        "pred_fus = model_fus.predict([data_img_test, data_emg_test])\n",
        "print(confusion_matrix(labels_test.argmax(axis=1), pred_fus.argmax(axis=1)))"
      ],
      "execution_count": 0,
      "outputs": [
        {
          "output_type": "stream",
          "text": [
            "[[374   4   4   3   6]\n",
            " [  6 340   3  15   3]\n",
            " [ 16   5 366   1   9]\n",
            " [  5   3   2 350   4]\n",
            " [  6   2   4   4 369]]\n"
          ],
          "name": "stdout"
        }
      ]
    },
    {
      "cell_type": "code",
      "metadata": {
        "id": "b7XzPcWKwAQO",
        "colab_type": "code",
        "outputId": "beac706c-3394-436e-f98a-50c3dff0da16",
        "colab": {
          "base_uri": "https://localhost:8080/",
          "height": 34
        }
      },
      "source": [
        "# save keras model or weights on google drive\n",
        "# create on colab directory\n",
        "model_fus.save(fus_model_name)    \n",
        "model_file = drive.CreateFile({'title' : fus_model_name})\n",
        "model_file.SetContentFile(fus_model_name)\n",
        "model_file.Upload()\n",
        "\n",
        "# download to google drive\n",
        "drive.CreateFile({'id': model_file.get('id')})"
      ],
      "execution_count": 0,
      "outputs": [
        {
          "output_type": "execute_result",
          "data": {
            "text/plain": [
              "GoogleDriveFile({'id': '1hNvHUsRRE3tuCxDJSX0ZJd25XkUuaNUj'})"
            ]
          },
          "metadata": {
            "tags": []
          },
          "execution_count": 31
        }
      ]
    },
    {
      "cell_type": "code",
      "metadata": {
        "id": "6_KgcTtNcdTo",
        "colab_type": "code",
        "outputId": "1d58ddbf-3888-4f70-decc-452c7b5cceee",
        "colab": {
          "base_uri": "https://localhost:8080/",
          "height": 989
        }
      },
      "source": [
        "# load model from google drive\n",
        "link_cnn_fus = \"https://drive.google.com/open?id=1hNvHUsRRE3tuCxDJSX0ZJd25XkUuaNUj\"\n",
        "\n",
        "fluff, id = link_cnn_fus.split('=')\n",
        "print (id) # Verify that you have everything after '='\n",
        "downloaded = drive.CreateFile({\"id\":id}) \n",
        "downloaded.GetContentFile(fus_model_name)  \n",
        "model_cnn_fus = load_model(fus_model_name)\n",
        "\n",
        "model_cnn_fus.summary()"
      ],
      "execution_count": 6,
      "outputs": [
        {
          "output_type": "stream",
          "text": [
            "1hNvHUsRRE3tuCxDJSX0ZJd25XkUuaNUj\n",
            "WARNING:tensorflow:From /usr/local/lib/python3.6/dist-packages/tensorflow/python/framework/op_def_library.py:263: colocate_with (from tensorflow.python.framework.ops) is deprecated and will be removed in a future version.\n",
            "Instructions for updating:\n",
            "Colocations handled automatically by placer.\n",
            "WARNING:tensorflow:From /usr/local/lib/python3.6/dist-packages/keras/backend/tensorflow_backend.py:3445: calling dropout (from tensorflow.python.ops.nn_ops) with keep_prob is deprecated and will be removed in a future version.\n",
            "Instructions for updating:\n",
            "Please use `rate` instead of `keep_prob`. Rate should be set to `rate = 1 - keep_prob`.\n",
            "WARNING:tensorflow:From /usr/local/lib/python3.6/dist-packages/tensorflow/python/ops/math_ops.py:3066: to_int32 (from tensorflow.python.ops.math_ops) is deprecated and will be removed in a future version.\n",
            "Instructions for updating:\n",
            "Use tf.cast instead.\n",
            "__________________________________________________________________________________________________\n",
            "Layer (type)                    Output Shape         Param #     Connected to                     \n",
            "==================================================================================================\n",
            "conv2d_1_input (InputLayer)     (None, 60, 60, 1)    0                                            \n",
            "__________________________________________________________________________________________________\n",
            "conv2d_1 (Conv2D)               (None, 58, 58, 8)    80          conv2d_1_input[0][0]             \n",
            "__________________________________________________________________________________________________\n",
            "conv1d_1_input (InputLayer)     (None, 24, 1)        0                                            \n",
            "__________________________________________________________________________________________________\n",
            "conv2d_2 (Conv2D)               (None, 56, 56, 8)    584         conv2d_1[0][0]                   \n",
            "__________________________________________________________________________________________________\n",
            "conv1d_1 (Conv1D)               (None, 22, 32)       128         conv1d_1_input[0][0]             \n",
            "__________________________________________________________________________________________________\n",
            "max_pooling2d_1 (MaxPooling2D)  (None, 28, 28, 8)    0           conv2d_2[0][0]                   \n",
            "__________________________________________________________________________________________________\n",
            "conv1d_2 (Conv1D)               (None, 20, 32)       3104        conv1d_1[0][0]                   \n",
            "__________________________________________________________________________________________________\n",
            "dropout_1 (Dropout)             (None, 28, 28, 8)    0           max_pooling2d_1[0][0]            \n",
            "__________________________________________________________________________________________________\n",
            "dropout_3 (Dropout)             (None, 20, 32)       0           conv1d_2[0][0]                   \n",
            "__________________________________________________________________________________________________\n",
            "flatten_1 (Flatten)             (None, 6272)         0           dropout_1[0][0]                  \n",
            "__________________________________________________________________________________________________\n",
            "max_pooling1d_1 (MaxPooling1D)  (None, 10, 32)       0           dropout_3[0][0]                  \n",
            "__________________________________________________________________________________________________\n",
            "dense_1 (Dense)                 (None, 50)           313650      flatten_1[0][0]                  \n",
            "__________________________________________________________________________________________________\n",
            "flatten_2 (Flatten)             (None, 320)          0           max_pooling1d_1[0][0]            \n",
            "__________________________________________________________________________________________________\n",
            "dropout_2 (Dropout)             (None, 50)           0           dense_1[0][0]                    \n",
            "__________________________________________________________________________________________________\n",
            "dense_3 (Dense)                 (None, 100)          32100       flatten_2[0][0]                  \n",
            "__________________________________________________________________________________________________\n",
            "dense_2 (Dense)                 (None, 5)            255         dropout_2[0][0]                  \n",
            "__________________________________________________________________________________________________\n",
            "dense_4 (Dense)                 (None, 5)            505         dense_3[0][0]                    \n",
            "__________________________________________________________________________________________________\n",
            "concatenate_1 (Concatenate)     (None, 10)           0           dense_2[0][0]                    \n",
            "                                                                 dense_4[0][0]                    \n",
            "__________________________________________________________________________________________________\n",
            "dense_5 (Dense)                 (None, 5)            55          concatenate_1[0][0]              \n",
            "==================================================================================================\n",
            "Total params: 350,461\n",
            "Trainable params: 55\n",
            "Non-trainable params: 350,406\n",
            "__________________________________________________________________________________________________\n"
          ],
          "name": "stdout"
        }
      ]
    },
    {
      "cell_type": "code",
      "metadata": {
        "id": "FSaw6LqQcsqm",
        "colab_type": "code",
        "colab": {
          "base_uri": "https://localhost:8080/",
          "height": 68
        },
        "outputId": "1ab63485-8cbc-44b3-c35d-f3b2d01b902b"
      },
      "source": [
        "# convert h5 model to tflite model\n",
        "converter = lite.TFLiteConverter.from_keras_model_file(fus_model_name)\n",
        "model_h5 = converter.convert()\n",
        "file = open('cnn_fus.tflite','wb')\n",
        "file.write(model_h5)\n",
        "\n",
        "# save tflite model on google drive\n",
        "# create on colab directory\n",
        "model_file = drive.CreateFile({'title': 'cnn_fus.tflite'})\n",
        "model_file.SetContentFile('cnn_fus.tflite')\n",
        "model_file.Upload()\n",
        "\n",
        "# download to google drive\n",
        "drive.CreateFile({'id': model_file.get('id')})"
      ],
      "execution_count": 21,
      "outputs": [
        {
          "output_type": "stream",
          "text": [
            "INFO:tensorflow:Froze 18 variables.\n",
            "INFO:tensorflow:Converted 18 variables to const ops.\n"
          ],
          "name": "stdout"
        },
        {
          "output_type": "execute_result",
          "data": {
            "text/plain": [
              "GoogleDriveFile({'id': '1D70qBJzzh3fSaw8oo0pPTOYHJLlH_4sC'})"
            ]
          },
          "metadata": {
            "tags": []
          },
          "execution_count": 21
        }
      ]
    }
  ]
}