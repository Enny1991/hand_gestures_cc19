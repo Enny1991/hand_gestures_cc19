{
 "cells": [
  {
   "cell_type": "code",
   "execution_count": 1,
   "metadata": {
    "colab": {
     "base_uri": "https://localhost:8080/",
     "height": 51
    },
    "colab_type": "code",
    "id": "zQUy6PheE2Sn",
    "outputId": "39cfb855-f90f-4006-915d-988324a0301f"
   },
   "outputs": [
    {
     "name": "stderr",
     "output_type": "stream",
     "text": [
      "Using TensorFlow backend.\n"
     ]
    }
   ],
   "source": [
    "import os\n",
    "import keras\n",
    "import numpy as np\n",
    "import matplotlib.pyplot as plt\n",
    "import tensorflow as tf\n",
    "from tensorflow.contrib import lite\n",
    "from keras.models import Sequential, load_model, Model\n",
    "from keras.layers import Dense, Dropout, Flatten, Add, Concatenate, Conv1D, Conv2D, MaxPooling1D, MaxPooling2D\n",
    "from keras import backend as K\n",
    "from scipy.signal import stft\n",
    "from sklearn import preprocessing\n",
    "from sklearn.model_selection import train_test_split, StratifiedKFold\n",
    "from sklearn.metrics import classification_report, confusion_matrix\n",
    "import pickle as pkl\n",
    "\n",
    "os.environ[\"CUDA_VISIBLE_DEVICES\"] = \"\"\n"
   ]
  },
  {
   "cell_type": "code",
   "execution_count": 2,
   "metadata": {
    "colab": {},
    "colab_type": "code",
    "id": "2zq5Y8a8E3Zl"
   },
   "outputs": [],
   "source": [
    "# saved files names\n",
    "img_model_name = \"keras_cnn_img.h5\"\n",
    "emg_model_name = \"keras_cnn_emg.h5\"\n",
    "fus_model_name = \"keras_cnn_fus.h5\"\n",
    "\n",
    "# hyper-parameters definition\n",
    "split_p = 0.66\n",
    "batch_size = 128\n",
    "num_classes = 5\n",
    "img_epochs = 30\n",
    "emg_epochs = 30\n",
    "fus_epochs = 30\n",
    "img_rows, img_cols = 60, 60\n",
    "emg_rows, emg_cols = 8, 3\n",
    "seed = 7\n",
    "np.random.seed(seed)"
   ]
  },
  {
   "cell_type": "code",
   "execution_count": 3,
   "metadata": {
    "colab": {
     "base_uri": "https://localhost:8080/",
     "height": 119
    },
    "colab_type": "code",
    "id": "RLc_ijbBttgO",
    "outputId": "4c2fa1c5-6e69-4f52-96f5-2c5606366c96"
   },
   "outputs": [
    {
     "name": "stdout",
     "output_type": "stream",
     "text": [
      "(6000, 60, 60)\n",
      "(6000,)\n",
      "(6000, 24)\n",
      "(6000, 60, 60)\n",
      "(6000,)\n"
     ]
    }
   ],
   "source": [
    "data_events = pkl.load(open('full_dataset_events.pkl', 'rb'))\n",
    "dvs = data_events['frames']\n",
    "lbl = data_events['labels']\n",
    "emg = data_events['emg']\n",
    "print(dvs.shape)\n",
    "print(lbl.shape)\n",
    "print(emg.shape)\n",
    "\n",
    "dvs = dvs / 255.\n",
    "\n",
    "print(dvs.shape)\n",
    "print(lbl.shape)"
   ]
  },
  {
   "cell_type": "code",
   "execution_count": null,
   "metadata": {
    "colab": {
     "base_uri": "https://localhost:8080/",
     "height": 68
    },
    "colab_type": "code",
    "id": "axYjSs_iSe_p",
    "outputId": "588a7679-7cd6-430f-e09b-9ce4f8a9b048"
   },
   "outputs": [],
   "source": [
    "n_train = int(len(dvs) * 0.8)\n",
    "\n",
    "dvs_train = dvs[:n_train]\n",
    "dvs_test = dvs[n_train:]\n",
    "emg_train = emg[:n_train]\n",
    "emg_test = emg[n_train:]\n",
    "lbl_train = lbl[:n_train]\n",
    "lbl_test = lbl[n_train:]\n",
    "\n",
    "print(dvs_train.shape)\n",
    "print(lbl_train.shape)\n",
    "print(emg_train.shape)"
   ]
  },
  {
   "cell_type": "code",
   "execution_count": null,
   "metadata": {
    "colab": {},
    "colab_type": "code",
    "id": "AYdNZxQe13Qw"
   },
   "outputs": [],
   "source": [
    "# data format convertion\n",
    "dvs_train = dvs_train.reshape(-1, img_rows, img_cols, 1)\n",
    "dvs_test = dvs_test.reshape(-1, img_rows, img_cols, 1)\n",
    "emg_train = emg_train.reshape(-1, emg_rows * emg_cols, 1)\n",
    "emg_test = emg_test.reshape(-1, emg_rows * emg_cols, 1)\n",
    "\n",
    "\n",
    "lbl_train = keras.utils.to_categorical(lbl_train, num_classes)\n",
    "lbl_test = keras.utils.to_categorical(lbl_test, num_classes)\n",
    "\n",
    "dvs_input_shape = (img_rows, img_cols, 1)\n",
    "emg_input_shape = (emg_rows * emg_cols, 1)"
   ]
  },
  {
   "cell_type": "code",
   "execution_count": null,
   "metadata": {},
   "outputs": [],
   "source": [
    "plt.imshow(np.squeeze(dvs_train[500][:, ::-1]))\n",
    "print(np.squeeze(dvs_train[0][40]))"
   ]
  },
  {
   "cell_type": "code",
   "execution_count": null,
   "metadata": {
    "colab": {
     "base_uri": "https://localhost:8080/",
     "height": 530
    },
    "colab_type": "code",
    "id": "fRS6V6wg42cR",
    "outputId": "25dbeff0-aba8-42d5-c531-12c27c084b80"
   },
   "outputs": [],
   "source": [
    "# cnn for img\n",
    "# create the cnn model\n",
    "model_img = Sequential()\n",
    "model_img.add(Conv2D(filters=8, kernel_size=(3, 3), activation='relu', input_shape=dvs_input_shape))\n",
    "model_img.add(Conv2D(filters=8, kernel_size=(3, 3), activation='relu'))\n",
    "model_img.add(MaxPooling2D(pool_size=(2, 2)))\n",
    "model_img.add(Dropout(0.25))\n",
    "model_img.add(Flatten())\n",
    "model_img.add(Dense(50, activation='relu'))\n",
    "model_img.add(Dropout(0.5))\n",
    "model_img.add(Dense(num_classes, activation='softmax'))\n",
    "                    \n",
    "model_img.summary()"
   ]
  },
  {
   "cell_type": "code",
   "execution_count": null,
   "metadata": {
    "colab": {
     "base_uri": "https://localhost:8080/",
     "height": 1088
    },
    "colab_type": "code",
    "id": "7LyYe8UNj2li",
    "outputId": "84c1e3cc-ebde-4b55-804b-ebc886b64040"
   },
   "outputs": [],
   "source": [
    "# compile model\n",
    "model_img.compile(loss=keras.losses.categorical_crossentropy,\n",
    "            optimizer=keras.optimizers.Adadelta(),\n",
    "            metrics=['accuracy'])\n",
    "\n",
    "# fit the model\n",
    "model_img.fit(dvs_train, lbl_train,\n",
    "        batch_size=batch_size,\n",
    "        epochs=25,\n",
    "        verbose=1,\n",
    "        validation_data=(dvs_test, lbl_test))\n",
    "\n",
    "# evaluate the model\n",
    "scores = model_img.evaluate(dvs_test, lbl_test, verbose=1)\n",
    "print(\"%s: %.2f%%\" % (model_img.metrics_names[1], scores[1]*100))\n",
    "\n"
   ]
  },
  {
   "cell_type": "code",
   "execution_count": null,
   "metadata": {},
   "outputs": [],
   "source": [
    "# convert h5 model to tflite model\n",
    "model_img.save('cnn_dvs_keras.h5')   \n",
    "# converter = lite.TFLiteConverter.from_keras_model_file('cnn_dvs_keras.h5')\n",
    "# model_h5 = converter.convert()\n",
    "# file = open('cnn_dvs.tflite','wb')\n",
    "# file.write(model_h5)"
   ]
  },
  {
   "cell_type": "code",
   "execution_count": null,
   "metadata": {},
   "outputs": [],
   "source": [
    "# cnn for emg\n",
    "\n",
    "# create the cnn model\n",
    "model_emg = Sequential()\n",
    "model_emg.add(Conv1D(filters=32, kernel_size=3, activation='relu', input_shape=emg_input_shape))\n",
    "model_emg.add(Conv1D(filters=32, kernel_size=3, activation='relu'))\n",
    "model_emg.add(Dropout(0.5))\n",
    "model_emg.add(MaxPooling1D(pool_size=2))\n",
    "model_emg.add(Flatten())\n",
    "model_emg.add(Dense(100, activation='relu'))\n",
    "model_emg.add(Dense(num_classes, activation='softmax'))\n",
    "\n",
    "model_emg.summary()"
   ]
  },
  {
   "cell_type": "code",
   "execution_count": null,
   "metadata": {},
   "outputs": [],
   "source": [
    "# compile model\n",
    "model_emg.compile(loss=keras.losses.categorical_crossentropy,\n",
    "            optimizer=keras.optimizers.Adadelta(),\n",
    "            metrics=['accuracy'])\n",
    "\n",
    "# fit the model\n",
    "model_emg.fit(emg_train, lbl_train, epochs=emg_epochs, batch_size=batch_size, verbose=0)\n",
    "\n",
    "model_emg.fit(emg_train, lbl_train,\n",
    "        batch_size=batch_size,\n",
    "        epochs=emg_epochs,\n",
    "        verbose=1,\n",
    "        validation_data=(emg_test, lbl_test))\n",
    "\n",
    "# evaluate the model\n",
    "scores = model_emg.evaluate(emg_test, lbl_test, verbose=0)\n",
    "print(\"%s: %.2f%%\" % (model_emg.metrics_names[1], scores[1]*100))"
   ]
  },
  {
   "cell_type": "code",
   "execution_count": null,
   "metadata": {},
   "outputs": [],
   "source": [
    "# convert h5 model to tflite model\n",
    "model_emg.save('cnn_emg_keras.h5')   \n",
    "# converter = lite.TFLiteConverter.from_keras_model_file('cnn_emg_keras.h5')\n",
    "# model_h5 = converter.convert()\n",
    "# file = open('cnn_emg.tflite','wb')\n",
    "# file.write(model_h5)"
   ]
  },
  {
   "cell_type": "code",
   "execution_count": null,
   "metadata": {},
   "outputs": [],
   "source": [
    "from keras.models import load_model\n",
    " \n",
    "# load model\n",
    "model_emg = load_model('cnn_emg_keras.h5')\n",
    "model_img = load_model('cnn_dvs_keras.h5')"
   ]
  },
  {
   "cell_type": "code",
   "execution_count": null,
   "metadata": {
    "colab": {
     "base_uri": "https://localhost:8080/",
     "height": 799
    },
    "colab_type": "code",
    "id": "7wun7CCF9NF9",
    "outputId": "5f356507-93e2-464f-feb1-35e3f911fbbb"
   },
   "outputs": [],
   "source": [
    "# mlp for fus\n",
    "mergedOut = Concatenate()([model_img.output,model_emg.output])\n",
    "mergedOut = Dense(5, activation='softmax', name='otherD')(mergedOut)\n",
    "model_fus = Model([model_img.input, model_emg.input], mergedOut)\n",
    "model_fus.summary()"
   ]
  },
  {
   "cell_type": "code",
   "execution_count": null,
   "metadata": {
    "colab": {
     "base_uri": "https://localhost:8080/",
     "height": 340
    },
    "colab_type": "code",
    "id": "JUOFsw5mJPv_",
    "outputId": "1111e25b-60af-4e08-f456-4a86c5dc3c98"
   },
   "outputs": [],
   "source": [
    "# freeze the layers except the last dense\n",
    "for layer in model_fus.layers[:len(model_fus.layers)-1]:\n",
    "    layer.trainable = False\n",
    "\n",
    "# check the status of the layers\n",
    "for layer in model_fus.layers:\n",
    "    print(layer, layer.trainable)"
   ]
  },
  {
   "cell_type": "code",
   "execution_count": null,
   "metadata": {
    "colab": {
     "base_uri": "https://localhost:8080/",
     "height": 1088
    },
    "colab_type": "code",
    "id": "-jXnQyxyG6eZ",
    "outputId": "0799f498-dc8f-4fc0-d1ee-e1a82d21eea3"
   },
   "outputs": [],
   "source": [
    "# compile model\n",
    "model_fus.compile(loss=keras.losses.categorical_crossentropy,\n",
    "            optimizer=keras.optimizers.Adadelta(),\n",
    "            metrics=['accuracy'])\n",
    "\n",
    "# fit the model\n",
    "model_fus.fit([dvs_train, emg_train], lbl_train,\n",
    "        batch_size=batch_size,\n",
    "        epochs=fus_epochs,\n",
    "        verbose=1,\n",
    "        validation_data=([dvs_test, emg_test], lbl_test))\n",
    "\n",
    "# evaluate the model\n",
    "scores = model_fus.evaluate([dvs_test, emg_test], lbl_test, verbose=1)\n",
    "print(\"%s: %.2f%%\" % (model_fus.metrics_names[1], scores[1]*100))"
   ]
  },
  {
   "cell_type": "code",
   "execution_count": null,
   "metadata": {
    "colab": {
     "base_uri": "https://localhost:8080/",
     "height": 102
    },
    "colab_type": "code",
    "id": "ZlIhuWgNgjcP",
    "outputId": "3d3be428-97e2-4b03-ba95-94ad0897d0e8"
   },
   "outputs": [],
   "source": [
    "# confusion matrix for fus\n",
    "pred_fus = model_fus.predict([dvs_test, emg_test])\n",
    "print(confusion_matrix(lbl_test.argmax(axis=1), pred_fus.argmax(axis=1)))"
   ]
  },
  {
   "cell_type": "code",
   "execution_count": null,
   "metadata": {
    "colab": {
     "base_uri": "https://localhost:8080/",
     "height": 34
    },
    "colab_type": "code",
    "id": "b7XzPcWKwAQO",
    "outputId": "beac706c-3394-436e-f98a-50c3dff0da16"
   },
   "outputs": [],
   "source": [
    "# save keras model or weights on google drive\n",
    "# create on colab directory\n",
    "model_fus.save(fus_model_name)    \n",
    "# model_file = drive.CreateFile({'title' : fus_model_name})\n",
    "# model_file.SetContentFile(fus_model_name)\n",
    "# model_file.Upload()\n",
    "\n",
    "# # download to google drive\n",
    "# drive.CreateFile({'id': model_file.get('id')})"
   ]
  },
  {
   "cell_type": "code",
   "execution_count": 4,
   "metadata": {
    "colab": {
     "base_uri": "https://localhost:8080/",
     "height": 989
    },
    "colab_type": "code",
    "id": "6_KgcTtNcdTo",
    "outputId": "1d58ddbf-3888-4f70-decc-452c7b5cceee"
   },
   "outputs": [
    {
     "name": "stdout",
     "output_type": "stream",
     "text": [
      "WARNING:tensorflow:From /home/enea/anaconda3/envs/cc19/lib/python3.7/site-packages/tensorflow/python/framework/op_def_library.py:263: colocate_with (from tensorflow.python.framework.ops) is deprecated and will be removed in a future version.\n",
      "Instructions for updating:\n",
      "Colocations handled automatically by placer.\n",
      "WARNING:tensorflow:From /home/enea/anaconda3/envs/cc19/lib/python3.7/site-packages/keras/backend/tensorflow_backend.py:3445: calling dropout (from tensorflow.python.ops.nn_ops) with keep_prob is deprecated and will be removed in a future version.\n",
      "Instructions for updating:\n",
      "Please use `rate` instead of `keep_prob`. Rate should be set to `rate = 1 - keep_prob`.\n",
      "WARNING:tensorflow:From /home/enea/anaconda3/envs/cc19/lib/python3.7/site-packages/tensorflow/python/ops/math_ops.py:3066: to_int32 (from tensorflow.python.ops.math_ops) is deprecated and will be removed in a future version.\n",
      "Instructions for updating:\n",
      "Use tf.cast instead.\n",
      "__________________________________________________________________________________________________\n",
      "Layer (type)                    Output Shape         Param #     Connected to                     \n",
      "==================================================================================================\n",
      "conv2d_1_input (InputLayer)     (None, 60, 60, 1)    0                                            \n",
      "__________________________________________________________________________________________________\n",
      "conv2d_1 (Conv2D)               (None, 58, 58, 8)    80          conv2d_1_input[0][0]             \n",
      "__________________________________________________________________________________________________\n",
      "conv1d_1_input (InputLayer)     (None, 24, 1)        0                                            \n",
      "__________________________________________________________________________________________________\n",
      "conv2d_2 (Conv2D)               (None, 56, 56, 8)    584         conv2d_1[0][0]                   \n",
      "__________________________________________________________________________________________________\n",
      "conv1d_1 (Conv1D)               (None, 22, 32)       128         conv1d_1_input[0][0]             \n",
      "__________________________________________________________________________________________________\n",
      "max_pooling2d_1 (MaxPooling2D)  (None, 28, 28, 8)    0           conv2d_2[0][0]                   \n",
      "__________________________________________________________________________________________________\n",
      "conv1d_2 (Conv1D)               (None, 20, 32)       3104        conv1d_1[0][0]                   \n",
      "__________________________________________________________________________________________________\n",
      "dropout_1 (Dropout)             (None, 28, 28, 8)    0           max_pooling2d_1[0][0]            \n",
      "__________________________________________________________________________________________________\n",
      "dropout_3 (Dropout)             (None, 20, 32)       0           conv1d_2[0][0]                   \n",
      "__________________________________________________________________________________________________\n",
      "flatten_1 (Flatten)             (None, 6272)         0           dropout_1[0][0]                  \n",
      "__________________________________________________________________________________________________\n",
      "max_pooling1d_1 (MaxPooling1D)  (None, 10, 32)       0           dropout_3[0][0]                  \n",
      "__________________________________________________________________________________________________\n",
      "dense_1 (Dense)                 (None, 50)           313650      flatten_1[0][0]                  \n",
      "__________________________________________________________________________________________________\n",
      "flatten_2 (Flatten)             (None, 320)          0           max_pooling1d_1[0][0]            \n",
      "__________________________________________________________________________________________________\n",
      "dropout_2 (Dropout)             (None, 50)           0           dense_1[0][0]                    \n",
      "__________________________________________________________________________________________________\n",
      "dense_3 (Dense)                 (None, 100)          32100       flatten_2[0][0]                  \n",
      "__________________________________________________________________________________________________\n",
      "dense_2 (Dense)                 (None, 5)            255         dropout_2[0][0]                  \n",
      "__________________________________________________________________________________________________\n",
      "dense_4 (Dense)                 (None, 5)            505         dense_3[0][0]                    \n",
      "__________________________________________________________________________________________________\n",
      "concatenate_1 (Concatenate)     (None, 10)           0           dense_2[0][0]                    \n",
      "                                                                 dense_4[0][0]                    \n",
      "__________________________________________________________________________________________________\n",
      "otherD (Dense)                  (None, 5)            55          concatenate_1[0][0]              \n",
      "==================================================================================================\n",
      "Total params: 350,461\n",
      "Trainable params: 55\n",
      "Non-trainable params: 350,406\n",
      "__________________________________________________________________________________________________\n"
     ]
    }
   ],
   "source": [
    "# load model from google drive\n",
    "model_cnn_fus = load_model(fus_model_name)\n",
    "model_cnn_fus.summary()"
   ]
  },
  {
   "cell_type": "code",
   "execution_count": 5,
   "metadata": {
    "colab": {
     "base_uri": "https://localhost:8080/",
     "height": 68
    },
    "colab_type": "code",
    "id": "FSaw6LqQcsqm",
    "outputId": "1ab63485-8cbc-44b3-c35d-f3b2d01b902b"
   },
   "outputs": [
    {
     "name": "stdout",
     "output_type": "stream",
     "text": [
      "WARNING:tensorflow:From /home/enea/anaconda3/envs/cc19/lib/python3.7/site-packages/tensorflow/lite/python/lite.py:591: convert_variables_to_constants (from tensorflow.python.framework.graph_util_impl) is deprecated and will be removed in a future version.\n",
      "Instructions for updating:\n",
      "Use tf.compat.v1.graph_util.convert_variables_to_constants\n",
      "WARNING:tensorflow:From /home/enea/anaconda3/envs/cc19/lib/python3.7/site-packages/tensorflow/python/framework/graph_util_impl.py:245: extract_sub_graph (from tensorflow.python.framework.graph_util_impl) is deprecated and will be removed in a future version.\n",
      "Instructions for updating:\n",
      "Use tf.compat.v1.graph_util.extract_sub_graph\n",
      "INFO:tensorflow:Froze 18 variables.\n",
      "INFO:tensorflow:Converted 18 variables to const ops.\n"
     ]
    },
    {
     "data": {
      "text/plain": [
       "1406996"
      ]
     },
     "execution_count": 5,
     "metadata": {},
     "output_type": "execute_result"
    }
   ],
   "source": [
    "# convert h5 model to tflite model\n",
    "converter = lite.TFLiteConverter.from_keras_model_file(fus_model_name)\n",
    "model_h5 = converter.convert()\n",
    "file = open('cnn_fus.tflite','wb')\n",
    "file.write(model_h5)\n"
   ]
  },
  {
   "cell_type": "code",
   "execution_count": null,
   "metadata": {},
   "outputs": [],
   "source": []
  }
 ],
 "metadata": {
  "accelerator": "GPU",
  "colab": {
   "collapsed_sections": [],
   "name": "keras_cnn_fus.ipynb",
   "provenance": [],
   "version": "0.3.2"
  },
  "kernelspec": {
   "display_name": "cc19",
   "language": "python",
   "name": "cc19"
  },
  "language_info": {
   "codemirror_mode": {
    "name": "ipython",
    "version": 3
   },
   "file_extension": ".py",
   "mimetype": "text/x-python",
   "name": "python",
   "nbconvert_exporter": "python",
   "pygments_lexer": "ipython3",
   "version": "3.7.3"
  }
 },
 "nbformat": 4,
 "nbformat_minor": 1
}
