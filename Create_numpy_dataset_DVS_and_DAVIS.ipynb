{
 "cells": [
  {
   "cell_type": "code",
   "execution_count": null,
   "metadata": {},
   "outputs": [],
   "source": [
    "from jAER_utils.converter import aedat2numpy, DAVISaedat2numpy\n",
    "import matplotlib.pyplot as plt\n",
    "import os\n",
    "import numpy as np\n",
    "import scipy.io as sio\n",
    "import cv2"
   ]
  },
  {
   "cell_type": "code",
   "execution_count": null,
   "metadata": {},
   "outputs": [],
   "source": [
    "#data_dir = 'data/Dataset/'\n",
    "data_dir='/home/getaverni/Dropbox/PhD/Projects/Gesture/Capocaccia2019_Gesture_DVS_Myo/Dataset'"
   ]
  },
  {
   "cell_type": "code",
   "execution_count": null,
   "metadata": {},
   "outputs": [],
   "source": [
    "# this is to find the zero timestepping of the davis\n",
    "def find_trigger(ts):\n",
    "    return np.where(np.diff(ts) < 0)[0][0]+1"
   ]
  },
  {
   "cell_type": "markdown",
   "metadata": {},
   "source": [
    "# DVS"
   ]
  },
  {
   "cell_type": "markdown",
   "metadata": {},
   "source": [
    "### import .aedat and save as numpy"
   ]
  },
  {
   "cell_type": "code",
   "execution_count": null,
   "metadata": {},
   "outputs": [],
   "source": [
    "for file in os.listdir(data_dir):\n",
    "    if file.endswith(\".aedat\") and 'dvs' in file:\n",
    "        file_path=os.path.join(data_dir, file)\n",
    "        print(file.split('.')[0])\n",
    "        events = aedat2numpy(file_path) #unit='ms' (by default)\n",
    "        events = events[:, find_trigger(events[2]):]\n",
    "        events[2] = events[2] / 1e3 #(sec.)\n",
    "        print(events.shape)\n",
    "        output_path=data_dir+'/'+file.split('.')[0]+'.npy'\n",
    "        print(output_path)\n",
    "        #np.save(output_path, events)"
   ]
  },
  {
   "cell_type": "markdown",
   "metadata": {},
   "source": [
    "# DAVIS"
   ]
  },
  {
   "cell_type": "markdown",
   "metadata": {},
   "source": [
    "### import .aedat"
   ]
  },
  {
   "cell_type": "code",
   "execution_count": null,
   "metadata": {},
   "outputs": [],
   "source": [
    "output=DAVISaedat2numpy(file_path, 5000000, 'V2', 0, 'DAVIS240', 'aps', 'ms')"
   ]
  },
  {
   "cell_type": "code",
   "execution_count": null,
   "metadata": {},
   "outputs": [],
   "source": [
    "for file in os.listdir(data_dir):\n",
    "    if file.endswith(\".aedat\") and 'davis' in file:\n",
    "        file_path=os.path.join(data_dir, file)\n",
    "        print(file.split('.')[0])\n",
    "        events = DAVISaedat2numpy(file_path,'dvs') #unit='ms' (by default)\n",
    "        events = events[:, find_trigger(events[2]):]\n",
    "        events[2] = events[2] / 1e3 #(sec.)\n",
    "        print(events.shape)\n",
    "        frames = DAVISaedat2numpy(file_path,'aps')\n",
    "        output_path=data_dir+'/'+file.split('.')[0]+'.npy'\n",
    "        print(output_path)\n",
    "        np.savez(output_path, dvs_events=events, frames=frames)"
   ]
  },
  {
   "cell_type": "markdown",
   "metadata": {},
   "source": [
    "### import .mat (matlab) and save as numpy\n",
    ".aedat first processed in Matlab (https://github.com/inivation/AedatTools/tree/master/Matlab)"
   ]
  },
  {
   "cell_type": "code",
   "execution_count": null,
   "metadata": {},
   "outputs": [],
   "source": [
    "sx=240\n",
    "sy=180\n",
    "for file in os.listdir(data_dir):\n",
    "    if file.endswith(\".mat\") and 'davis' in file:\n",
    "        file_path=os.path.join(data_dir, file)\n",
    "        print(file.split('.')[0])\n",
    "        output_path=data_dir+'/'+file.split('.')[0]+'.npz'\n",
    "        print(output_path)\n",
    "        exists = os.path.isfile(output_path)\n",
    "        if exists:\n",
    "            print('file {} already exists'.format(file))\n",
    "            continue\n",
    "        else:\n",
    "            frames=[]\n",
    "            frames_ts=[]\n",
    "            try:\n",
    "                aedat=sio.loadmat(file_path)['aedat']\n",
    "                events_x=aedat['data'][0][0]['polarity'][0][0]['x'][0][0]\n",
    "                events_y=aedat['data'][0][0]['polarity'][0][0]['y'][0][0]\n",
    "                events_ts=aedat['data'][0][0]['polarity'][0][0]['timeStamp'][0][0]/(10**6)\n",
    "                events_pol=aedat['data'][0][0]['polarity'][0][0]['polarity'][0][0]\n",
    "                events_DAVIS=(np.concatenate([events_x,events_y,events_ts,events_pol], axis=1)).T\n",
    "                trigger=find_trigger(events_DAVIS[2])\n",
    "                events = events_DAVIS[:, trigger:]\n",
    "                print(events_DAVIS.shape)\n",
    "            except:\n",
    "                print(\"No events in the file\")\n",
    "\n",
    "            ####################\n",
    "            try:\n",
    "                APS_samples=aedat['data'][0][0]['frame'][0][0]['samples'][0][0]\n",
    "                APS_ts=aedat['data'][0][0]['frame'][0][0]['timeStampStart'][0][0]/(10**6)\n",
    "\n",
    "                trigger_DAVIS=find_trigger(np.squeeze(np.asarray(APS_ts)))\n",
    "                num_of_frames=APS_samples.shape[0]\n",
    "\n",
    "                samples=APS_samples[trigger_DAVIS:]\n",
    "                ts=APS_ts[trigger_DAVIS:]\n",
    "\n",
    "                frames=[samples[i][0] for i in range(len(samples)) if samples[i][0].shape == (sy,sx)]#np.zeros([sy,sx,num_of_frames])\n",
    "                frames_ts=[ts[i][0] for i in range(len(samples)) if samples[i][0].shape == (sy,sx)]#np.zeros([sy,sx,num_of_frames])\n",
    "            except:\n",
    "                print(\"No frame in the file\")\n",
    "\n",
    "            np.savez(output_path, dvs_events=events, frames=frames, frames_time=frames_ts)"
   ]
  }
 ],
 "metadata": {
  "kernelspec": {
   "display_name": "Python 3",
   "language": "python",
   "name": "python3"
  },
  "language_info": {
   "codemirror_mode": {
    "name": "ipython",
    "version": 3
   },
   "file_extension": ".py",
   "mimetype": "text/x-python",
   "name": "python",
   "nbconvert_exporter": "python",
   "pygments_lexer": "ipython3",
   "version": "3.5.2"
  }
 },
 "nbformat": 4,
 "nbformat_minor": 2
}
