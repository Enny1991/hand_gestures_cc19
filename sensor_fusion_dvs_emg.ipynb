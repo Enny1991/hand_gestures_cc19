{
 "cells": [
  {
   "cell_type": "code",
   "execution_count": 1,
   "metadata": {},
   "outputs": [],
   "source": [
    "from os import listdir\n",
    "from os.path import isfile, join\n",
    "import sys\n",
    "import numpy as np\n",
    "\n",
    "import matplotlib.pyplot as plt\n",
    "%matplotlib inline\n",
    "\n",
    "import csv\n",
    "\n",
    "from tqdm import tqdm\n",
    "from utils import Person, analyze, load_all_emg, find_trigger, create_frame, kfold, norm_frame\n",
    "import pickle as pkl\n",
    "\n",
    "from jAER_utils.converter import aedat2numpy\n",
    "\n",
    "import cv2\n",
    "from tqdm import tqdm_notebook\n",
    "import pandas as pd\n",
    "import seaborn as sns"
   ]
  },
  {
   "cell_type": "code",
   "execution_count": 2,
   "metadata": {},
   "outputs": [],
   "source": [
    "# general stuff\n",
    "fs = 200  # sampling frequency of MYO\n",
    "VERBOSE = True\n",
    "data_dir = '/Users/enea/Dropbox/Capocaccia2019_Gesture_DVS_Myo/Dataset/'\n",
    "classes = classes = ['pinky', 'elle', 'yo', 'index', 'thumb']\n",
    "classes_dict = {'pinky': 0, 'elle': 1, 'yo': 2, 'index': 3, 'thumb': 4}\n",
    "classes_inv = {v: k for k, v in classes_dict.items()}"
   ]
  },
  {
   "cell_type": "markdown",
   "metadata": {},
   "source": [
    "# Loading EMG"
   ]
  },
  {
   "cell_type": "code",
   "execution_count": null,
   "metadata": {},
   "outputs": [],
   "source": [
    "subjects = load_all_emg(data_dir=data_dir, classes=classes)"
   ]
  },
  {
   "cell_type": "markdown",
   "metadata": {},
   "source": [
    "# Loading DVS"
   ]
  },
  {
   "cell_type": "code",
   "execution_count": null,
   "metadata": {
    "scrolled": true
   },
   "outputs": [],
   "source": [
    "for subject, data in sorted(subjects.items()):\n",
    "    \n",
    "    if subject not in [\"subject04_session03\", \"subject09_session02\", \"subject02_session03\"]: # problematic sessions\n",
    "    \n",
    "        # loading dvs events \n",
    "        events = aedat2numpy(data_dir + subject +'_dvs.aedat')\n",
    "        events = events[:, find_trigger(events[2]):]\n",
    "        events[2] = events[2] / 1e3\n",
    "        \n",
    "        # loading davis events / frames\n",
    "        davis_data = np.load(data_dir + f\"{subject}_davis.npz\")\n",
    "        davis_frames = davis_data['frames']\n",
    "        davis_times = davis_data['frames_time']\n",
    "        davis_events = davis_data['dvs_events']\n",
    "\n",
    "        for gesture in classes:\n",
    "            for trial in range(5):\n",
    "                if VERBOSE:\n",
    "                    print(\"{} :: {} :: {}\".format(subject, gesture, trial))\n",
    "\n",
    "                # load beginning and end of trials\n",
    "                b = np.array(data.begs[gesture][trial]) / fs\n",
    "                e = np.array(data.ends[gesture][trial]) / fs\n",
    "\n",
    "                # we extract all the events, we will frame them in 200ms later\n",
    "                frame_size = 2\n",
    "                beginning = b\n",
    "                ending = beginning + frame_size\n",
    "\n",
    "                # slice dvs\n",
    "                sl = (events[2] > beginning) & (events[2] < ending)\n",
    "                img_dvs = events[:, sl]\n",
    "                \n",
    "                # slice davis\n",
    "                sl = (davis_events[2] > beginning) & (davis_events[2] < ending)\n",
    "                sl2 = (davis_times > beginning) & (davis_times < ending)\n",
    "                times = davis_times[sl2]\n",
    "                imgs = davis_frames[sl2]\n",
    "                frames_davis = imgs[:][::-1, :][:, ::-1]\n",
    "                img_davis = davis_events[:, sl]\n",
    "\n",
    "                beg_int = 0\n",
    "                end_int = int(frame_size * fs)\n",
    "\n",
    "                #### CROP DVS\n",
    "                sll = (img_dvs[1] > 20) & (img_dvs[1] < 110) & (img_dvs[0] > 20) & (img_dvs[0] < 110)\n",
    "\n",
    "                _frame = create_frame(img_dvs[1][sll], img_dvs[0][sll])\n",
    "\n",
    "                # calculate center\n",
    "                M = cv2.moments(_frame)\n",
    "                x = int(M[\"m10\"] / M[\"m00\"])\n",
    "                y = int(M[\"m01\"] / M[\"m00\"])\n",
    "\n",
    "                # extract patch\n",
    "                a = (img_dvs[0] > (x - 30)) & (img_dvs[0] < (x + 30))\n",
    "                b = (img_dvs[1] > (127 - y - 30)) & (img_dvs[1] < (127 - y + 30))\n",
    "\n",
    "                xx = img_dvs[0][a & b]\n",
    "                yy = img_dvs[1][a & b]\n",
    "                ts = img_dvs[2][a & b]\n",
    "                pol = img_dvs[3][a & b]\n",
    "\n",
    "                # saving\n",
    "                data.x[gesture].append(xx - min(xx))\n",
    "                data.y[gesture].append(yy - min(yy))\n",
    "                data.ts[gesture].append(ts - min(ts))\n",
    "                data.pol[gesture].append(pol)\n",
    "                \n",
    "                #### END CROP DVS\n",
    "                \n",
    "                #### CROP DAVIS\n",
    "                sll = (img_davis[1] > 10) & (img_davis[1] < 170) & (img_davis[0] > 10) & (img_davis[0] < 230)\n",
    "\n",
    "                _frame = create_frame(img_davis[1][sll], img_davis[0][sll], dim=(180, 240))\n",
    "\n",
    "                M = cv2.moments(_frame)\n",
    "                x = int(M[\"m10\"] / M[\"m00\"])\n",
    "                y = int(M[\"m01\"] / M[\"m00\"])\n",
    "                \n",
    "                # extract patch\n",
    "                a = (img_davis[0] > (240 - x - 60)) & (img_davis[0] < (240 - x + 60))\n",
    "                b = (img_davis[1] > (180 - y - 60)) & (img_davis[1] < (180 - y + 60))\n",
    "#                 b = (img_davis[1] > (y - 60)) & (img_davis[1] < (y + 60))\n",
    "\n",
    "                xx = img_davis[0][a & b]\n",
    "                yy = img_davis[1][a & b]\n",
    "                ts = img_davis[2][a & b]\n",
    "                pol = img_davis[3][a & b]\n",
    "                \n",
    "                xx = 240 - xx\n",
    "\n",
    "                # saving\n",
    "                data.x_davis[gesture].append(xx - min(xx))\n",
    "                data.y_davis[gesture].append(yy - min(yy))\n",
    "                data.ts_davis[gesture].append(ts - min(ts))\n",
    "                data.pol_davis[gesture].append(pol)\n",
    "\n",
    "                y = max(y, 60)\n",
    "                _x = frames_davis[:, y - 60: y + 60, x - 60:x + 60]\n",
    "                _x = norm_frame(_x)\n",
    "                _ts = np.array(times - times[0])\n",
    "\n",
    "                data.frames[gesture].append(_x)\n",
    "                data.ts_frames[gesture].append(_ts)\n",
    "                \n",
    "                #### END CROP DAVIS"
   ]
  },
  {
   "cell_type": "code",
   "execution_count": null,
   "metadata": {},
   "outputs": [],
   "source": [
    "# saving them for posterity\n",
    "pkl.dump(subjects, open(\"all_subjects_crop_v5.pkl\", \"wb\"))"
   ]
  },
  {
   "cell_type": "code",
   "execution_count": 3,
   "metadata": {},
   "outputs": [],
   "source": [
    "# load - no need to run the above stuff\n",
    "subjects = pkl.load(open(\"all_subjects_crop_v5.pkl\", \"rb\"))"
   ]
  },
  {
   "cell_type": "code",
   "execution_count": 146,
   "metadata": {},
   "outputs": [
    {
     "name": "stdout",
     "output_type": "stream",
     "text": [
      "5\n"
     ]
    },
    {
     "data": {
      "text/plain": [
       "<matplotlib.image.AxesImage at 0x1cc55159e8>"
      ]
     },
     "execution_count": 146,
     "metadata": {},
     "output_type": "execute_result"
    },
    {
     "data": {
      "image/png": "[encoded data removed]",
      "text/plain": [
       "<Figure size 432x288 with 1 Axes>"
      ]
     },
     "metadata": {
      "needs_background": "light"
     },
     "output_type": "display_data"
    },
    {
     "data": {
      "image/png": "[encoded data removed]",
      "text/plain": [
       "<Figure size 432x288 with 1 Axes>"
      ]
     },
     "metadata": {
      "needs_background": "light"
     },
     "output_type": "display_data"
    }
   ],
   "source": [
    "d = subjects['subject08_session01']\n",
    "g = 'elle'\n",
    "idx = 1\n",
    "print(len(d.frames[g]))\n",
    "plt.imshow(np.mean(d.frames[g][idx], 0))\n",
    "\n",
    "xxx = d.x_davis[g][idx]\n",
    "yyy = d.y_davis[g][idx]\n",
    "\n",
    "kkk = create_frame(yyy, xxx, dim=(120, 120))\n",
    "plt.figure()\n",
    "plt.imshow(kkk)"
   ]
  },
  {
   "cell_type": "markdown",
   "metadata": {},
   "source": [
    "# Extract both in frames of YYYms"
   ]
  },
  {
   "cell_type": "code",
   "execution_count": 45,
   "metadata": {
    "scrolled": true
   },
   "outputs": [
    {
     "name": "stdout",
     "output_type": "stream",
     "text": [
      "subject01_session01 :: pinky :: 0\n",
      "subject01_session01 :: pinky :: 1\n",
      "subject01_session01 :: pinky :: 2\n",
      "subject01_session01 :: pinky :: 3\n",
      "subject01_session01 :: pinky :: 4\n",
      "subject01_session01 :: elle :: 0\n",
      "subject01_session01 :: elle :: 1\n",
      "subject01_session01 :: elle :: 2\n",
      "subject01_session01 :: elle :: 3\n",
      "subject01_session01 :: elle :: 4\n",
      "subject01_session01 :: yo :: 0\n",
      "subject01_session01 :: yo :: 1\n",
      "subject01_session01 :: yo :: 2\n",
      "subject01_session01 :: yo :: 3\n",
      "subject01_session01 :: yo :: 4\n",
      "subject01_session01 :: index :: 0\n",
      "subject01_session01 :: index :: 1\n",
      "subject01_session01 :: index :: 2\n",
      "subject01_session01 :: index :: 3\n",
      "subject01_session01 :: index :: 4\n",
      "subject01_session01 :: thumb :: 0\n",
      "subject01_session01 :: thumb :: 1\n",
      "subject01_session01 :: thumb :: 2\n",
      "subject01_session01 :: thumb :: 3\n",
      "subject01_session01 :: thumb :: 4\n",
      "subject01_session02 :: pinky :: 0\n",
      "subject01_session02 :: pinky :: 1\n",
      "subject01_session02 :: pinky :: 2\n",
      "subject01_session02 :: pinky :: 3\n",
      "subject01_session02 :: pinky :: 4\n",
      "subject01_session02 :: elle :: 0\n",
      "subject01_session02 :: elle :: 1\n",
      "subject01_session02 :: elle :: 2\n",
      "subject01_session02 :: elle :: 3\n",
      "subject01_session02 :: elle :: 4\n",
      "subject01_session02 :: yo :: 0\n",
      "subject01_session02 :: yo :: 1\n",
      "subject01_session02 :: yo :: 2\n",
      "subject01_session02 :: yo :: 3\n",
      "subject01_session02 :: yo :: 4\n",
      "subject01_session02 :: index :: 0\n",
      "subject01_session02 :: index :: 1\n",
      "subject01_session02 :: index :: 2\n",
      "subject01_session02 :: index :: 3\n",
      "subject01_session02 :: index :: 4\n",
      "subject01_session02 :: thumb :: 0\n",
      "subject01_session02 :: thumb :: 1\n",
      "subject01_session02 :: thumb :: 2\n",
      "subject01_session02 :: thumb :: 3\n",
      "subject01_session02 :: thumb :: 4\n",
      "subject01_session03 :: pinky :: 0\n",
      "subject01_session03 :: pinky :: 1\n",
      "subject01_session03 :: pinky :: 2\n",
      "subject01_session03 :: pinky :: 3\n",
      "subject01_session03 :: pinky :: 4\n",
      "subject01_session03 :: elle :: 0\n",
      "subject01_session03 :: elle :: 1\n",
      "subject01_session03 :: elle :: 2\n",
      "subject01_session03 :: elle :: 3\n",
      "subject01_session03 :: elle :: 4\n",
      "subject01_session03 :: yo :: 0\n",
      "subject01_session03 :: yo :: 1\n",
      "subject01_session03 :: yo :: 2\n",
      "subject01_session03 :: yo :: 3\n",
      "subject01_session03 :: yo :: 4\n",
      "subject01_session03 :: index :: 0\n",
      "subject01_session03 :: index :: 1\n",
      "subject01_session03 :: index :: 2\n",
      "subject01_session03 :: index :: 3\n",
      "subject01_session03 :: index :: 4\n",
      "subject01_session03 :: thumb :: 0\n",
      "subject01_session03 :: thumb :: 1\n",
      "subject01_session03 :: thumb :: 2\n",
      "subject01_session03 :: thumb :: 3\n",
      "subject01_session03 :: thumb :: 4\n",
      "subject02_session01 :: pinky :: 0\n",
      "subject02_session01 :: pinky :: 1\n",
      "subject02_session01 :: pinky :: 2\n",
      "subject02_session01 :: pinky :: 3\n",
      "subject02_session01 :: pinky :: 4\n",
      "subject02_session01 :: elle :: 0\n",
      "subject02_session01 :: elle :: 1\n",
      "subject02_session01 :: elle :: 2\n",
      "subject02_session01 :: elle :: 3\n",
      "subject02_session01 :: elle :: 4\n",
      "subject02_session01 :: yo :: 0\n",
      "subject02_session01 :: yo :: 1\n",
      "subject02_session01 :: yo :: 2\n",
      "subject02_session01 :: yo :: 3\n",
      "subject02_session01 :: yo :: 4\n",
      "subject02_session01 :: index :: 0\n",
      "subject02_session01 :: index :: 1\n",
      "subject02_session01 :: index :: 2\n",
      "subject02_session01 :: index :: 3\n",
      "subject02_session01 :: index :: 4\n",
      "subject02_session01 :: thumb :: 0\n",
      "subject02_session01 :: thumb :: 1\n",
      "subject02_session01 :: thumb :: 2\n",
      "subject02_session01 :: thumb :: 3\n",
      "subject02_session01 :: thumb :: 4\n",
      "subject02_session02 :: pinky :: 0\n",
      "subject02_session02 :: pinky :: 1\n",
      "subject02_session02 :: pinky :: 2\n",
      "subject02_session02 :: pinky :: 3\n",
      "subject02_session02 :: pinky :: 4\n",
      "subject02_session02 :: elle :: 0\n",
      "subject02_session02 :: elle :: 1\n",
      "subject02_session02 :: elle :: 2\n",
      "subject02_session02 :: elle :: 3\n",
      "subject02_session02 :: elle :: 4\n",
      "subject02_session02 :: yo :: 0\n",
      "subject02_session02 :: yo :: 1\n",
      "subject02_session02 :: yo :: 2\n",
      "subject02_session02 :: yo :: 3\n",
      "subject02_session02 :: yo :: 4\n",
      "subject02_session02 :: index :: 0\n",
      "subject02_session02 :: index :: 1\n",
      "subject02_session02 :: index :: 2\n",
      "subject02_session02 :: index :: 3\n",
      "subject02_session02 :: index :: 4\n",
      "subject02_session02 :: thumb :: 0\n",
      "subject02_session02 :: thumb :: 1\n",
      "subject02_session02 :: thumb :: 2\n",
      "subject02_session02 :: thumb :: 3\n",
      "subject02_session02 :: thumb :: 4\n",
      "subject03_session01 :: pinky :: 0\n",
      "subject03_session01 :: pinky :: 1\n",
      "subject03_session01 :: pinky :: 2\n",
      "subject03_session01 :: pinky :: 3\n",
      "subject03_session01 :: pinky :: 4\n",
      "subject03_session01 :: elle :: 0\n",
      "subject03_session01 :: elle :: 1\n",
      "subject03_session01 :: elle :: 2\n",
      "subject03_session01 :: elle :: 3\n",
      "subject03_session01 :: elle :: 4\n",
      "subject03_session01 :: yo :: 0\n",
      "subject03_session01 :: yo :: 1\n",
      "subject03_session01 :: yo :: 2\n",
      "subject03_session01 :: yo :: 3\n",
      "subject03_session01 :: yo :: 4\n",
      "subject03_session01 :: index :: 0\n",
      "subject03_session01 :: index :: 1\n",
      "subject03_session01 :: index :: 2\n",
      "subject03_session01 :: index :: 3\n",
      "subject03_session01 :: index :: 4\n",
      "subject03_session01 :: thumb :: 0\n",
      "subject03_session01 :: thumb :: 1\n",
      "subject03_session01 :: thumb :: 2\n",
      "subject03_session01 :: thumb :: 3\n",
      "subject03_session01 :: thumb :: 4\n",
      "subject03_session02 :: pinky :: 0\n",
      "subject03_session02 :: pinky :: 1\n",
      "subject03_session02 :: pinky :: 2\n",
      "subject03_session02 :: pinky :: 3\n",
      "subject03_session02 :: pinky :: 4\n",
      "subject03_session02 :: elle :: 0\n",
      "subject03_session02 :: elle :: 1\n",
      "subject03_session02 :: elle :: 2\n",
      "subject03_session02 :: elle :: 3\n",
      "subject03_session02 :: elle :: 4\n",
      "subject03_session02 :: yo :: 0\n",
      "subject03_session02 :: yo :: 1\n",
      "subject03_session02 :: yo :: 2\n",
      "subject03_session02 :: yo :: 3\n",
      "subject03_session02 :: yo :: 4\n",
      "subject03_session02 :: index :: 0\n",
      "subject03_session02 :: index :: 1\n",
      "subject03_session02 :: index :: 2\n",
      "subject03_session02 :: index :: 3\n",
      "subject03_session02 :: index :: 4\n",
      "subject03_session02 :: thumb :: 0\n",
      "subject03_session02 :: thumb :: 1\n",
      "subject03_session02 :: thumb :: 2\n",
      "subject03_session02 :: thumb :: 3\n",
      "subject03_session02 :: thumb :: 4\n",
      "subject03_session03 :: pinky :: 0\n",
      "subject03_session03 :: pinky :: 1\n",
      "subject03_session03 :: pinky :: 2\n",
      "subject03_session03 :: pinky :: 3\n",
      "subject03_session03 :: pinky :: 4\n",
      "subject03_session03 :: elle :: 0\n",
      "subject03_session03 :: elle :: 1\n",
      "subject03_session03 :: elle :: 2\n",
      "subject03_session03 :: elle :: 3\n",
      "subject03_session03 :: elle :: 4\n",
      "subject03_session03 :: yo :: 0\n",
      "subject03_session03 :: yo :: 1\n",
      "subject03_session03 :: yo :: 2\n",
      "subject03_session03 :: yo :: 3\n",
      "subject03_session03 :: yo :: 4\n",
      "subject03_session03 :: index :: 0\n",
      "subject03_session03 :: index :: 1\n",
      "subject03_session03 :: index :: 2\n",
      "subject03_session03 :: index :: 3\n",
      "subject03_session03 :: index :: 4\n",
      "subject03_session03 :: thumb :: 0\n",
      "subject03_session03 :: thumb :: 1\n",
      "subject03_session03 :: thumb :: 2\n",
      "subject03_session03 :: thumb :: 3\n",
      "subject03_session03 :: thumb :: 4\n",
      "subject04_session01 :: pinky :: 0\n",
      "subject04_session01 :: pinky :: 1\n",
      "subject04_session01 :: pinky :: 2\n",
      "subject04_session01 :: pinky :: 3\n",
      "subject04_session01 :: pinky :: 4\n",
      "subject04_session01 :: elle :: 0\n",
      "subject04_session01 :: elle :: 1\n",
      "subject04_session01 :: elle :: 2\n",
      "subject04_session01 :: elle :: 3\n",
      "subject04_session01 :: elle :: 4\n",
      "subject04_session01 :: yo :: 0\n",
      "subject04_session01 :: yo :: 1\n",
      "subject04_session01 :: yo :: 2\n",
      "subject04_session01 :: yo :: 3\n",
      "subject04_session01 :: yo :: 4\n",
      "subject04_session01 :: index :: 0\n",
      "subject04_session01 :: index :: 1\n",
      "subject04_session01 :: index :: 2\n",
      "subject04_session01 :: index :: 3\n",
      "subject04_session01 :: index :: 4\n",
      "subject04_session01 :: thumb :: 0\n",
      "subject04_session01 :: thumb :: 1\n",
      "subject04_session01 :: thumb :: 2\n",
      "subject04_session01 :: thumb :: 3\n",
      "subject04_session01 :: thumb :: 4\n",
      "subject04_session02 :: pinky :: 0\n",
      "subject04_session02 :: pinky :: 1\n",
      "subject04_session02 :: pinky :: 2\n",
      "subject04_session02 :: pinky :: 3\n",
      "subject04_session02 :: pinky :: 4\n",
      "subject04_session02 :: elle :: 0\n",
      "subject04_session02 :: elle :: 1\n",
      "subject04_session02 :: elle :: 2\n",
      "subject04_session02 :: elle :: 3\n",
      "subject04_session02 :: elle :: 4\n",
      "subject04_session02 :: yo :: 0\n",
      "subject04_session02 :: yo :: 1\n",
      "subject04_session02 :: yo :: 2\n",
      "subject04_session02 :: yo :: 3\n",
      "subject04_session02 :: yo :: 4\n",
      "subject04_session02 :: index :: 0\n",
      "subject04_session02 :: index :: 1\n",
      "subject04_session02 :: index :: 2\n",
      "subject04_session02 :: index :: 3\n",
      "subject04_session02 :: index :: 4\n",
      "subject04_session02 :: thumb :: 0\n",
      "subject04_session02 :: thumb :: 1\n"
     ]
    },
    {
     "name": "stdout",
     "output_type": "stream",
     "text": [
      "subject04_session02 :: thumb :: 2\n",
      "subject04_session02 :: thumb :: 3\n",
      "subject04_session02 :: thumb :: 4\n",
      "subject05_session01 :: pinky :: 0\n",
      "subject05_session01 :: pinky :: 1\n",
      "subject05_session01 :: pinky :: 2\n",
      "subject05_session01 :: pinky :: 3\n",
      "subject05_session01 :: pinky :: 4\n",
      "subject05_session01 :: elle :: 0\n",
      "subject05_session01 :: elle :: 1\n",
      "subject05_session01 :: elle :: 2\n",
      "subject05_session01 :: elle :: 3\n",
      "subject05_session01 :: elle :: 4\n",
      "subject05_session01 :: yo :: 0\n",
      "subject05_session01 :: yo :: 1\n",
      "subject05_session01 :: yo :: 2\n",
      "subject05_session01 :: yo :: 3\n",
      "subject05_session01 :: yo :: 4\n",
      "subject05_session01 :: index :: 0\n",
      "subject05_session01 :: index :: 1\n",
      "subject05_session01 :: index :: 2\n",
      "subject05_session01 :: index :: 3\n",
      "subject05_session01 :: index :: 4\n",
      "subject05_session01 :: thumb :: 0\n",
      "subject05_session01 :: thumb :: 1\n",
      "subject05_session01 :: thumb :: 2\n",
      "subject05_session01 :: thumb :: 3\n",
      "subject05_session01 :: thumb :: 4\n",
      "subject05_session02 :: pinky :: 0\n",
      "subject05_session02 :: pinky :: 1\n",
      "subject05_session02 :: pinky :: 2\n",
      "subject05_session02 :: pinky :: 3\n",
      "subject05_session02 :: pinky :: 4\n",
      "subject05_session02 :: elle :: 0\n",
      "subject05_session02 :: elle :: 1\n",
      "subject05_session02 :: elle :: 2\n",
      "subject05_session02 :: elle :: 3\n",
      "subject05_session02 :: elle :: 4\n",
      "subject05_session02 :: yo :: 0\n",
      "subject05_session02 :: yo :: 1\n",
      "subject05_session02 :: yo :: 2\n",
      "subject05_session02 :: yo :: 3\n",
      "subject05_session02 :: yo :: 4\n",
      "subject05_session02 :: index :: 0\n",
      "subject05_session02 :: index :: 1\n",
      "subject05_session02 :: index :: 2\n",
      "subject05_session02 :: index :: 3\n",
      "subject05_session02 :: index :: 4\n",
      "subject05_session02 :: thumb :: 0\n",
      "subject05_session02 :: thumb :: 1\n",
      "subject05_session02 :: thumb :: 2\n",
      "subject05_session02 :: thumb :: 3\n",
      "subject05_session02 :: thumb :: 4\n",
      "subject05_session03 :: pinky :: 0\n",
      "subject05_session03 :: pinky :: 1\n",
      "subject05_session03 :: pinky :: 2\n",
      "subject05_session03 :: pinky :: 3\n",
      "subject05_session03 :: pinky :: 4\n",
      "subject05_session03 :: elle :: 0\n",
      "subject05_session03 :: elle :: 1\n",
      "subject05_session03 :: elle :: 2\n",
      "subject05_session03 :: elle :: 3\n",
      "subject05_session03 :: elle :: 4\n",
      "subject05_session03 :: yo :: 0\n",
      "subject05_session03 :: yo :: 1\n",
      "subject05_session03 :: yo :: 2\n",
      "subject05_session03 :: yo :: 3\n",
      "subject05_session03 :: yo :: 4\n",
      "subject05_session03 :: index :: 0\n",
      "subject05_session03 :: index :: 1\n",
      "subject05_session03 :: index :: 2\n",
      "subject05_session03 :: index :: 3\n",
      "subject05_session03 :: index :: 4\n",
      "subject05_session03 :: thumb :: 0\n",
      "subject05_session03 :: thumb :: 1\n",
      "subject05_session03 :: thumb :: 2\n",
      "subject05_session03 :: thumb :: 3\n",
      "subject05_session03 :: thumb :: 4\n",
      "subject06_session01 :: pinky :: 0\n",
      "subject06_session01 :: pinky :: 1\n",
      "subject06_session01 :: pinky :: 2\n",
      "subject06_session01 :: pinky :: 3\n",
      "subject06_session01 :: pinky :: 4\n",
      "subject06_session01 :: elle :: 0\n",
      "subject06_session01 :: elle :: 1\n",
      "subject06_session01 :: elle :: 2\n",
      "subject06_session01 :: elle :: 3\n",
      "subject06_session01 :: elle :: 4\n",
      "subject06_session01 :: yo :: 0\n",
      "subject06_session01 :: yo :: 1\n",
      "subject06_session01 :: yo :: 2\n",
      "subject06_session01 :: yo :: 3\n",
      "subject06_session01 :: yo :: 4\n",
      "subject06_session01 :: index :: 0\n",
      "subject06_session01 :: index :: 1\n",
      "subject06_session01 :: index :: 2\n",
      "subject06_session01 :: index :: 3\n",
      "subject06_session01 :: index :: 4\n",
      "subject06_session01 :: thumb :: 0\n",
      "subject06_session01 :: thumb :: 1\n",
      "subject06_session01 :: thumb :: 2\n",
      "subject06_session01 :: thumb :: 3\n",
      "subject06_session01 :: thumb :: 4\n",
      "subject06_session02 :: pinky :: 0\n",
      "subject06_session02 :: pinky :: 1\n",
      "subject06_session02 :: pinky :: 2\n",
      "subject06_session02 :: pinky :: 3\n",
      "subject06_session02 :: pinky :: 4\n",
      "subject06_session02 :: elle :: 0\n",
      "subject06_session02 :: elle :: 1\n",
      "subject06_session02 :: elle :: 2\n",
      "subject06_session02 :: elle :: 3\n",
      "subject06_session02 :: elle :: 4\n",
      "subject06_session02 :: yo :: 0\n",
      "subject06_session02 :: yo :: 1\n",
      "subject06_session02 :: yo :: 2\n",
      "subject06_session02 :: yo :: 3\n",
      "subject06_session02 :: yo :: 4\n",
      "subject06_session02 :: index :: 0\n",
      "subject06_session02 :: index :: 1\n",
      "subject06_session02 :: index :: 2\n",
      "subject06_session02 :: index :: 3\n",
      "subject06_session02 :: index :: 4\n",
      "subject06_session02 :: thumb :: 0\n",
      "subject06_session02 :: thumb :: 1\n",
      "subject06_session02 :: thumb :: 2\n",
      "subject06_session02 :: thumb :: 3\n",
      "subject06_session02 :: thumb :: 4\n",
      "subject06_session03 :: pinky :: 0\n",
      "subject06_session03 :: pinky :: 1\n",
      "subject06_session03 :: pinky :: 2\n",
      "subject06_session03 :: pinky :: 3\n",
      "subject06_session03 :: pinky :: 4\n",
      "subject06_session03 :: elle :: 0\n",
      "subject06_session03 :: elle :: 1\n",
      "subject06_session03 :: elle :: 2\n",
      "subject06_session03 :: elle :: 3\n",
      "subject06_session03 :: elle :: 4\n",
      "subject06_session03 :: yo :: 0\n",
      "subject06_session03 :: yo :: 1\n",
      "subject06_session03 :: yo :: 2\n",
      "subject06_session03 :: yo :: 3\n",
      "subject06_session03 :: yo :: 4\n",
      "subject06_session03 :: index :: 0\n",
      "subject06_session03 :: index :: 1\n",
      "subject06_session03 :: index :: 2\n",
      "subject06_session03 :: index :: 3\n",
      "subject06_session03 :: index :: 4\n",
      "subject06_session03 :: thumb :: 0\n",
      "subject06_session03 :: thumb :: 1\n",
      "subject06_session03 :: thumb :: 2\n",
      "subject06_session03 :: thumb :: 3\n",
      "subject06_session03 :: thumb :: 4\n",
      "subject07_session01 :: pinky :: 0\n",
      "subject07_session01 :: pinky :: 1\n",
      "subject07_session01 :: pinky :: 2\n",
      "subject07_session01 :: pinky :: 3\n",
      "subject07_session01 :: pinky :: 4\n",
      "subject07_session01 :: elle :: 0\n",
      "subject07_session01 :: elle :: 1\n",
      "subject07_session01 :: elle :: 2\n",
      "subject07_session01 :: elle :: 3\n",
      "subject07_session01 :: elle :: 4\n",
      "subject07_session01 :: yo :: 0\n",
      "subject07_session01 :: yo :: 1\n",
      "subject07_session01 :: yo :: 2\n",
      "subject07_session01 :: yo :: 3\n",
      "subject07_session01 :: yo :: 4\n",
      "subject07_session01 :: index :: 0\n",
      "subject07_session01 :: index :: 1\n",
      "subject07_session01 :: index :: 2\n",
      "subject07_session01 :: index :: 3\n",
      "subject07_session01 :: index :: 4\n",
      "subject07_session01 :: thumb :: 0\n",
      "subject07_session01 :: thumb :: 1\n",
      "subject07_session01 :: thumb :: 2\n",
      "subject07_session01 :: thumb :: 3\n",
      "subject07_session01 :: thumb :: 4\n",
      "subject07_session02 :: pinky :: 0\n",
      "subject07_session02 :: pinky :: 1\n",
      "subject07_session02 :: pinky :: 2\n",
      "subject07_session02 :: pinky :: 3\n",
      "subject07_session02 :: pinky :: 4\n",
      "subject07_session02 :: elle :: 0\n",
      "subject07_session02 :: elle :: 1\n",
      "subject07_session02 :: elle :: 2\n",
      "subject07_session02 :: elle :: 3\n",
      "subject07_session02 :: elle :: 4\n",
      "subject07_session02 :: yo :: 0\n",
      "subject07_session02 :: yo :: 1\n",
      "subject07_session02 :: yo :: 2\n",
      "subject07_session02 :: yo :: 3\n",
      "subject07_session02 :: yo :: 4\n",
      "subject07_session02 :: index :: 0\n",
      "subject07_session02 :: index :: 1\n",
      "subject07_session02 :: index :: 2\n",
      "subject07_session02 :: index :: 3\n",
      "subject07_session02 :: index :: 4\n",
      "subject07_session02 :: thumb :: 0\n",
      "subject07_session02 :: thumb :: 1\n",
      "subject07_session02 :: thumb :: 2\n",
      "subject07_session02 :: thumb :: 3\n",
      "subject07_session02 :: thumb :: 4\n",
      "subject07_session03 :: pinky :: 0\n",
      "subject07_session03 :: pinky :: 1\n",
      "subject07_session03 :: pinky :: 2\n",
      "subject07_session03 :: pinky :: 3\n",
      "subject07_session03 :: pinky :: 4\n",
      "subject07_session03 :: elle :: 0\n",
      "subject07_session03 :: elle :: 1\n",
      "subject07_session03 :: elle :: 2\n",
      "subject07_session03 :: elle :: 3\n",
      "subject07_session03 :: elle :: 4\n",
      "subject07_session03 :: yo :: 0\n",
      "subject07_session03 :: yo :: 1\n",
      "subject07_session03 :: yo :: 2\n",
      "subject07_session03 :: yo :: 3\n",
      "subject07_session03 :: yo :: 4\n",
      "subject07_session03 :: index :: 0\n",
      "subject07_session03 :: index :: 1\n",
      "subject07_session03 :: index :: 2\n",
      "subject07_session03 :: index :: 3\n",
      "subject07_session03 :: index :: 4\n",
      "subject07_session03 :: thumb :: 0\n",
      "subject07_session03 :: thumb :: 1\n",
      "subject07_session03 :: thumb :: 2\n",
      "subject07_session03 :: thumb :: 3\n",
      "subject07_session03 :: thumb :: 4\n",
      "subject08_session01 :: pinky :: 0\n",
      "subject08_session01 :: pinky :: 1\n",
      "subject08_session01 :: pinky :: 2\n",
      "subject08_session01 :: pinky :: 3\n",
      "subject08_session01 :: pinky :: 4\n",
      "subject08_session01 :: elle :: 0\n",
      "subject08_session01 :: elle :: 1\n",
      "subject08_session01 :: elle :: 2\n",
      "subject08_session01 :: elle :: 3\n",
      "subject08_session01 :: elle :: 4\n",
      "subject08_session01 :: yo :: 0\n",
      "subject08_session01 :: yo :: 1\n",
      "subject08_session01 :: yo :: 2\n",
      "subject08_session01 :: yo :: 3\n",
      "subject08_session01 :: yo :: 4\n",
      "subject08_session01 :: index :: 0\n",
      "subject08_session01 :: index :: 1\n",
      "subject08_session01 :: index :: 2\n",
      "subject08_session01 :: index :: 3\n"
     ]
    },
    {
     "name": "stdout",
     "output_type": "stream",
     "text": [
      "subject08_session01 :: index :: 4\n",
      "subject08_session01 :: thumb :: 0\n",
      "subject08_session01 :: thumb :: 1\n",
      "subject08_session01 :: thumb :: 2\n",
      "subject08_session01 :: thumb :: 3\n",
      "subject08_session01 :: thumb :: 4\n",
      "subject08_session02 :: pinky :: 0\n",
      "subject08_session02 :: pinky :: 1\n",
      "subject08_session02 :: pinky :: 2\n",
      "subject08_session02 :: pinky :: 3\n",
      "subject08_session02 :: pinky :: 4\n",
      "subject08_session02 :: elle :: 0\n",
      "subject08_session02 :: elle :: 1\n",
      "subject08_session02 :: elle :: 2\n",
      "subject08_session02 :: elle :: 3\n",
      "subject08_session02 :: elle :: 4\n",
      "subject08_session02 :: yo :: 0\n",
      "subject08_session02 :: yo :: 1\n",
      "subject08_session02 :: yo :: 2\n",
      "subject08_session02 :: yo :: 3\n",
      "subject08_session02 :: yo :: 4\n",
      "subject08_session02 :: index :: 0\n",
      "subject08_session02 :: index :: 1\n",
      "subject08_session02 :: index :: 2\n",
      "subject08_session02 :: index :: 3\n",
      "subject08_session02 :: index :: 4\n",
      "subject08_session02 :: thumb :: 0\n",
      "subject08_session02 :: thumb :: 1\n",
      "subject08_session02 :: thumb :: 2\n",
      "subject08_session02 :: thumb :: 3\n",
      "subject08_session02 :: thumb :: 4\n",
      "subject08_session03 :: pinky :: 0\n",
      "subject08_session03 :: pinky :: 1\n",
      "subject08_session03 :: pinky :: 2\n",
      "subject08_session03 :: pinky :: 3\n",
      "subject08_session03 :: pinky :: 4\n",
      "subject08_session03 :: elle :: 0\n",
      "subject08_session03 :: elle :: 1\n",
      "subject08_session03 :: elle :: 2\n",
      "subject08_session03 :: elle :: 3\n",
      "subject08_session03 :: elle :: 4\n",
      "subject08_session03 :: yo :: 0\n",
      "subject08_session03 :: yo :: 1\n",
      "subject08_session03 :: yo :: 2\n",
      "subject08_session03 :: yo :: 3\n",
      "subject08_session03 :: yo :: 4\n",
      "subject08_session03 :: index :: 0\n",
      "subject08_session03 :: index :: 1\n",
      "subject08_session03 :: index :: 2\n",
      "subject08_session03 :: index :: 3\n",
      "subject08_session03 :: index :: 4\n",
      "subject08_session03 :: thumb :: 0\n",
      "subject08_session03 :: thumb :: 1\n",
      "subject08_session03 :: thumb :: 2\n",
      "subject08_session03 :: thumb :: 3\n",
      "subject08_session03 :: thumb :: 4\n",
      "subject09_session01 :: pinky :: 0\n",
      "subject09_session01 :: pinky :: 1\n",
      "subject09_session01 :: pinky :: 2\n",
      "subject09_session01 :: pinky :: 3\n",
      "subject09_session01 :: pinky :: 4\n",
      "subject09_session01 :: elle :: 0\n",
      "subject09_session01 :: elle :: 1\n",
      "subject09_session01 :: elle :: 2\n",
      "subject09_session01 :: elle :: 3\n",
      "subject09_session01 :: elle :: 4\n",
      "subject09_session01 :: yo :: 0\n",
      "subject09_session01 :: yo :: 1\n",
      "subject09_session01 :: yo :: 2\n",
      "subject09_session01 :: yo :: 3\n",
      "subject09_session01 :: yo :: 4\n",
      "subject09_session01 :: index :: 0\n",
      "subject09_session01 :: index :: 1\n",
      "subject09_session01 :: index :: 2\n",
      "subject09_session01 :: index :: 3\n",
      "subject09_session01 :: index :: 4\n",
      "subject09_session01 :: thumb :: 0\n",
      "subject09_session01 :: thumb :: 1\n",
      "subject09_session01 :: thumb :: 2\n",
      "subject09_session01 :: thumb :: 3\n",
      "subject09_session01 :: thumb :: 4\n",
      "subject09_session03 :: pinky :: 0\n",
      "subject09_session03 :: pinky :: 1\n",
      "subject09_session03 :: pinky :: 2\n",
      "subject09_session03 :: pinky :: 3\n",
      "subject09_session03 :: pinky :: 4\n",
      "subject09_session03 :: elle :: 0\n",
      "subject09_session03 :: elle :: 1\n",
      "subject09_session03 :: elle :: 2\n",
      "subject09_session03 :: elle :: 3\n",
      "subject09_session03 :: elle :: 4\n",
      "subject09_session03 :: yo :: 0\n",
      "subject09_session03 :: yo :: 1\n",
      "subject09_session03 :: yo :: 2\n",
      "subject09_session03 :: yo :: 3\n",
      "subject09_session03 :: yo :: 4\n",
      "subject09_session03 :: index :: 0\n",
      "subject09_session03 :: index :: 1\n",
      "subject09_session03 :: index :: 2\n",
      "subject09_session03 :: index :: 3\n",
      "subject09_session03 :: index :: 4\n",
      "subject09_session03 :: thumb :: 0\n",
      "subject09_session03 :: thumb :: 1\n",
      "subject09_session03 :: thumb :: 2\n",
      "subject09_session03 :: thumb :: 3\n",
      "subject09_session03 :: thumb :: 4\n",
      "subject10_session01 :: pinky :: 0\n",
      "subject10_session01 :: pinky :: 1\n",
      "subject10_session01 :: pinky :: 2\n",
      "subject10_session01 :: pinky :: 3\n",
      "subject10_session01 :: pinky :: 4\n",
      "subject10_session01 :: elle :: 0\n",
      "subject10_session01 :: elle :: 1\n",
      "subject10_session01 :: elle :: 2\n",
      "subject10_session01 :: elle :: 3\n",
      "subject10_session01 :: elle :: 4\n",
      "subject10_session01 :: yo :: 0\n",
      "subject10_session01 :: yo :: 1\n",
      "subject10_session01 :: yo :: 2\n",
      "subject10_session01 :: yo :: 3\n",
      "subject10_session01 :: yo :: 4\n",
      "subject10_session01 :: index :: 0\n",
      "subject10_session01 :: index :: 1\n",
      "subject10_session01 :: index :: 2\n",
      "subject10_session01 :: index :: 3\n",
      "subject10_session01 :: index :: 4\n",
      "subject10_session01 :: thumb :: 0\n",
      "subject10_session01 :: thumb :: 1\n",
      "subject10_session01 :: thumb :: 2\n",
      "subject10_session01 :: thumb :: 3\n",
      "subject10_session01 :: thumb :: 4\n",
      "subject10_session02 :: pinky :: 0\n",
      "subject10_session02 :: pinky :: 1\n",
      "subject10_session02 :: pinky :: 2\n",
      "subject10_session02 :: pinky :: 3\n",
      "subject10_session02 :: pinky :: 4\n",
      "subject10_session02 :: elle :: 0\n",
      "subject10_session02 :: elle :: 1\n",
      "subject10_session02 :: elle :: 2\n",
      "subject10_session02 :: elle :: 3\n",
      "subject10_session02 :: elle :: 4\n",
      "subject10_session02 :: yo :: 0\n",
      "subject10_session02 :: yo :: 1\n",
      "subject10_session02 :: yo :: 2\n",
      "subject10_session02 :: yo :: 3\n",
      "subject10_session02 :: yo :: 4\n",
      "subject10_session02 :: index :: 0\n",
      "subject10_session02 :: index :: 1\n",
      "subject10_session02 :: index :: 2\n",
      "subject10_session02 :: index :: 3\n",
      "subject10_session02 :: index :: 4\n",
      "subject10_session02 :: thumb :: 0\n",
      "subject10_session02 :: thumb :: 1\n",
      "subject10_session02 :: thumb :: 2\n",
      "subject10_session02 :: thumb :: 3\n",
      "subject10_session02 :: thumb :: 4\n",
      "subject10_session03 :: pinky :: 0\n",
      "subject10_session03 :: pinky :: 1\n",
      "subject10_session03 :: pinky :: 2\n",
      "subject10_session03 :: pinky :: 3\n",
      "subject10_session03 :: pinky :: 4\n",
      "subject10_session03 :: elle :: 0\n",
      "subject10_session03 :: elle :: 1\n",
      "subject10_session03 :: elle :: 2\n",
      "subject10_session03 :: elle :: 3\n",
      "subject10_session03 :: elle :: 4\n",
      "subject10_session03 :: yo :: 0\n",
      "subject10_session03 :: yo :: 1\n",
      "subject10_session03 :: yo :: 2\n",
      "subject10_session03 :: yo :: 3\n",
      "subject10_session03 :: yo :: 4\n",
      "subject10_session03 :: index :: 0\n",
      "subject10_session03 :: index :: 1\n",
      "subject10_session03 :: index :: 2\n",
      "subject10_session03 :: index :: 3\n",
      "subject10_session03 :: index :: 4\n",
      "subject10_session03 :: thumb :: 0\n",
      "subject10_session03 :: thumb :: 1\n",
      "subject10_session03 :: thumb :: 2\n",
      "subject10_session03 :: thumb :: 3\n",
      "subject10_session03 :: thumb :: 4\n",
      "(5400, 60, 60)\n",
      "(5400, 60, 60)\n",
      "(5400, 60, 60)\n",
      "(5400, 50, 8)\n",
      "(5400, 1)\n"
     ]
    }
   ],
   "source": [
    "frame_len = 0.25\n",
    "frame_len_samples = int(frame_len * fs)\n",
    "bias = 0.00\n",
    "bias_samples = int(bias * fs)\n",
    "EMG, DVS, LBL, FRM, DAV = [], [], [], [], []\n",
    "\n",
    "for subject, sub in sorted(subjects.items()):\n",
    "    if subject not in [\"subject04_session03\", \"subject09_session02\", \"subject02_session03\"]:\n",
    "        for gesture in classes:\n",
    "            for trial in range(len(sub.y[gesture])):\n",
    "                if VERBOSE:\n",
    "                    print(\"{} :: {} :: {}\".format(subject, gesture, trial))\n",
    "                _emg = sub.trials[gesture][trial]\n",
    "\n",
    "                # pad in case is shorter\n",
    "                if _emg.shape[0] < 400:\n",
    "                    _emg = np.vstack([_emg, np.zeros((400 - _emg.shape[0], 8))])\n",
    "                # get rid of the first 200ms\n",
    "                _emg = _emg[bias_samples:400]\n",
    "                EMG.append(_emg.reshape(-1, frame_len_samples, 8))\n",
    "\n",
    "                _x = sub.y[gesture][trial]\n",
    "                _y = sub.x[gesture][trial]\n",
    "                _ts = sub.ts[gesture][trial]\n",
    "                _p = sub.pol[gesture][trial]\n",
    "\n",
    "                _x_frame = sub.frames[gesture][trial]\n",
    "                _ts_frame = sub.ts_frames[gesture][trial]\n",
    "                _ts_davis = sub.ts_davis[gesture][trial]\n",
    "                _x_davis = sub.y_davis[gesture][trial]\n",
    "                _y_davis = sub.x_davis[gesture][trial]\n",
    "                \n",
    "                for i in np.arange(bias, 2.0, frame_len):\n",
    "                    fil = (_ts_frame > i) & (_ts_frame < i + frame_len)\n",
    "                    if len(_x_frame[fil].shape) > 1:\n",
    "                        frame = np.uint8(np.mean(_x_frame[fil], 0))\n",
    "                        sub_frame = cv2.resize(frame, (60, 60))\n",
    "                        FRM.append(sub_frame)\n",
    "                        \n",
    "                        fil = (_ts_davis > i) & (_ts_davis < i + frame_len)\n",
    "                        _frame = create_frame(_x_davis[fil], _y_davis[fil], dim=(120, 120))\n",
    "                        sub_frame = cv2.resize(_frame, (60, 60))\n",
    "                        DAV.append(sub_frame)\n",
    "                    else: \n",
    "                        continue\n",
    "\n",
    "                    fil = (_ts > i) & (_ts < i + frame_len)\n",
    "                    _frame = create_frame(_x[fil], _y[fil], dim=(60, 60))\n",
    "                    DVS.append(_frame)\n",
    "                    LBL.append(classes_dict[gesture])\n",
    "\n",
    "                \n",
    "DVS = np.array(DVS)\n",
    "DAV = np.array(DAV)\n",
    "FRM = np.array(FRM)\n",
    "EMG = np.array(EMG).reshape(-1, frame_len_samples, 8)\n",
    "LBL = np.array(LBL).reshape(-1, 1)\n",
    "\n",
    "print(np.array(DVS).shape)\n",
    "print(np.array(DAV).shape)\n",
    "print(np.array(FRM).shape)\n",
    "print(np.array(EMG).shape)\n",
    "print(np.array(LBL).shape)"
   ]
  },
  {
   "cell_type": "markdown",
   "metadata": {},
   "source": [
    "# Extract HOG features for DVS frames"
   ]
  },
  {
   "cell_type": "code",
   "execution_count": 150,
   "metadata": {},
   "outputs": [
    {
     "name": "stdout",
     "output_type": "stream",
     "text": [
      "pinky\n"
     ]
    },
    {
     "data": {
      "image/png": "[encoded data removed]",
      "text/plain": [
       "<Figure size 432x288 with 3 Axes>"
      ]
     },
     "metadata": {
      "needs_background": "light"
     },
     "output_type": "display_data"
    }
   ],
   "source": [
    "fig, ax = plt.subplots(1, 3)\n",
    "idx = 1228\n",
    "ax[0].imshow(DVS[idx])\n",
    "ax[1].imshow(DAV[idx])\n",
    "ax[2].imshow(FRM[idx])\n",
    "print(classes_inv[LBL[idx][0]])"
   ]
  },
  {
   "cell_type": "code",
   "execution_count": 47,
   "metadata": {},
   "outputs": [
    {
     "name": "stdout",
     "output_type": "stream",
     "text": [
      "(5400, 1296)\n",
      "(5400, 1296)\n",
      "(5400, 1296)\n"
     ]
    }
   ],
   "source": [
    "hog = cv2.HOGDescriptor((16, 16), (16, 16), (8, 8), (8, 8), 9); \n",
    "\n",
    "DVS_HOG = []\n",
    "FRM_HOG = []\n",
    "DAV_HOG = []\n",
    "for img, frm, dav in zip(DVS, FRM, DAV):\n",
    "    DVS_HOG.append(hog.compute(img).T)\n",
    "    FRM_HOG.append(hog.compute(frm).T)\n",
    "    DAV_HOG.append(hog.compute(dav).T)\n",
    "\n",
    "DVS_HOG = np.vstack(DVS_HOG)\n",
    "FRM_HOG = np.vstack(FRM_HOG)\n",
    "DAV_HOG = np.vstack(DAV_HOG)\n",
    "print(DVS_HOG.shape)\n",
    "print(FRM_HOG.shape)\n",
    "print(DAV_HOG.shape)"
   ]
  },
  {
   "cell_type": "markdown",
   "metadata": {},
   "source": [
    "# Extract TD features for EMG"
   ]
  },
  {
   "cell_type": "code",
   "execution_count": 48,
   "metadata": {},
   "outputs": [
    {
     "name": "stdout",
     "output_type": "stream",
     "text": [
      "(5400, 16)\n"
     ]
    }
   ],
   "source": [
    "emg_mav = np.squeeze(np.array([analyze(i, frame_len=frame_len, frame_step=frame_len, feat='MAV') for i in EMG]))\n",
    "emg_rms = np.squeeze(np.array([analyze(i, frame_len=frame_len, frame_step=frame_len, feat='RMS') for i in EMG]))\n",
    "\n",
    "EMG_TDF = np.hstack([emg_mav, emg_rms])\n",
    "\n",
    "print(EMG_TDF.shape)"
   ]
  },
  {
   "cell_type": "code",
   "execution_count": 51,
   "metadata": {},
   "outputs": [],
   "source": [
    "# save them \n",
    "pkl.dump({'lbl': LBL, \n",
    "          'emg': EMG_TDF, \n",
    "          'dvs_evs_frames': DVS, \n",
    "          'dvs_evs_hog': DVS_HOG, \n",
    "          'dav_evs_frames': DAV, \n",
    "          'dav_evs_hog': DAV_HOG,\n",
    "          'dav_aps_frames': FRM,\n",
    "          'dav_aps_hog': FRM_HOG}, open(\"fusion_features_250ms.pkl\", \"wb\"))"
   ]
  },
  {
   "cell_type": "code",
   "execution_count": 52,
   "metadata": {},
   "outputs": [
    {
     "name": "stdout",
     "output_type": "stream",
     "text": [
      "(5400, 1296)\n",
      "(5400, 1296)\n",
      "(5400, 1296)\n",
      "(5400, 16)\n",
      "(5400, 1)\n"
     ]
    }
   ],
   "source": [
    "# load \n",
    "data = pkl.load(open(\"fusion_features_250ms.pkl\", \"rb\"))\n",
    "EMG_TDF = data['emg']\n",
    "DVS_HOG = data['dvs_evs_hog']\n",
    "# DVS = data['dvs_evs_frames']\n",
    "FRM_HOG = data['dav_aps_hog']\n",
    "# FRM = data['dav_aps_frames']\n",
    "DAV_HOG = data['dav_evs_hog']\n",
    "# DAV = data['dav_evs_frames']\n",
    "LBL = data['lbl']\n",
    "\n",
    "# print(DVS.shape)\n",
    "print(DVS_HOG.shape)\n",
    "# print(DAV.shape)\n",
    "print(DAV_HOG.shape)\n",
    "# print(FRM.shape)\n",
    "print(FRM_HOG.shape)\n",
    "print(EMG_TDF.shape)\n",
    "print(LBL.shape)"
   ]
  },
  {
   "cell_type": "markdown",
   "metadata": {},
   "source": [
    "# Classifications"
   ]
  },
  {
   "cell_type": "markdown",
   "metadata": {},
   "source": [
    "## Create folds"
   ]
  },
  {
   "cell_type": "code",
   "execution_count": 176,
   "metadata": {},
   "outputs": [],
   "source": [
    "# singles\n",
    "emg_folds = kfold(EMG_TDF, LBL, folds=10)\n",
    "dvs_folds = kfold(DVS_HOG, LBL, folds=10)\n",
    "dav_folds = kfold(DAV_HOG, LBL, folds=10)\n",
    "frm_folds = kfold(FRM_HOG, LBL, folds=10)\n",
    "\n",
    "fus_dvs_folds = kfold(np.hstack([EMG_TDF, DVS_HOG]), LBL, folds=10)\n",
    "fus_frm_folds = kfold(np.hstack([EMG_TDF, FRM_HOG]), LBL, folds=10)\n",
    "fus_dav_folds = kfold(np.hstack([EMG_TDF, DAV_HOG]), LBL, folds=10)"
   ]
  },
  {
   "cell_type": "code",
   "execution_count": 91,
   "metadata": {},
   "outputs": [],
   "source": [
    "def do_kfold_cv(folds, C=1, gamma=1, kernel='linear', normalize=True):\n",
    "    all_acc_train = []\n",
    "    all_acc_test = []\n",
    "\n",
    "    for x_train, y_train, x_test, y_test in tqdm_notebook(folds):\n",
    "\n",
    "        # normalize\n",
    "        if normalize:\n",
    "            _mean = np.mean(x_train, 0, keepdims=True)\n",
    "            _std = np.std(x_train, 0, keepdims=True)\n",
    "\n",
    "            x_train = (x_train - _mean) / _std\n",
    "            x_test = (x_test - _mean) / _std\n",
    "\n",
    "        svm = cv2.ml.SVM_create()\n",
    "        svm.setType(cv2.ml.SVM_C_SVC)\n",
    "        svm.setKernel(cv2.ml.SVM_RBF if kernel == 'rbf' else cv2.ml.SVM_LINEAR)\n",
    "        svm.setC(C)\n",
    "        svm.setGamma(gamma)\n",
    "        svm.train(np.float32(x_train), cv2.ml.ROW_SAMPLE, np.int32(y_train))\n",
    "\n",
    "        output = svm.predict(np.float32(x_train))\n",
    "        acc = np.sum((output[1].squeeze() - y_train.squeeze()) == 0) / len(output[1])\n",
    "        all_acc_train.append(acc)\n",
    "\n",
    "        output = svm.predict(np.float32(x_test))\n",
    "        acc = np.sum((output[1].squeeze() - y_test.squeeze()) == 0) / len(output[1])\n",
    "        all_acc_test.append(acc)\n",
    "    return all_acc_train, all_acc_test\n",
    "\n",
    "\n",
    "def do_single(x_train, y_train, x_test, y_test, C=1, gamma=1, kernel='linear', norm=True):\n",
    "\n",
    "    if norm:\n",
    "        _mean = np.mean(x_train, 0, keepdims=True)\n",
    "        _std = np.std(x_train, 0, keepdims=True)\n",
    "\n",
    "        x_train = (x_train - _mean) / (_std + 1e-15)\n",
    "        x_test = (x_test - _mean) / (_std + 1e-15)\n",
    "\n",
    "    svm = cv2.ml.SVM_create()\n",
    "    svm.setType(cv2.ml.SVM_C_SVC)\n",
    "    svm.setKernel(cv2.ml.SVM_RBF if kernel == 'rbf' else cv2.ml.SVM_LINEAR)\n",
    "    svm.setC(C)\n",
    "    svm.setGamma(gamma)\n",
    "    svm.train(np.float32(x_train), cv2.ml.ROW_SAMPLE, np.int32(y_train))\n",
    "\n",
    "    output = svm.predict(np.float32(x_train))\n",
    "    tr_acc = np.sum((output[1].squeeze() - y_train.squeeze()) == 0) / len(output[1])\n",
    "\n",
    "    output = svm.predict(np.float32(x_test))\n",
    "    te_acc = np.sum((output[1].squeeze() - y_test.squeeze()) == 0) / len(output[1])\n",
    "    return tr_acc, te_acc"
   ]
  },
  {
   "cell_type": "markdown",
   "metadata": {},
   "source": [
    "## EMG"
   ]
  },
  {
   "cell_type": "code",
   "execution_count": 177,
   "metadata": {},
   "outputs": [
    {
     "name": "stdout",
     "output_type": "stream",
     "text": [
      "EMG only (linear): Train: 0.58 || Test: 0.56\n"
     ]
    }
   ],
   "source": [
    "# Train the SVM for emg\n",
    "tr, te = do_single(*emg_folds[3], C=0.01, gamma=1. / 16., kernel='linear')\n",
    "print(f\"EMG only (linear): Train: {tr:.2} || Test: {te:.2}\")"
   ]
  },
  {
   "cell_type": "code",
   "execution_count": 178,
   "metadata": {},
   "outputs": [
    {
     "name": "stdout",
     "output_type": "stream",
     "text": [
      "EMG only (rbf): Train: 0.84 || Test: 0.82\n"
     ]
    }
   ],
   "source": [
    "# Train the SVM for emg\n",
    "tr, te = do_single(*emg_folds[0], C=10, gamma=1. / 16., kernel='rbf')\n",
    "print(f\"EMG only (rbf): Train: {tr:.2} || Test: {te:.2}\")"
   ]
  },
  {
   "cell_type": "markdown",
   "metadata": {},
   "source": [
    "## DVS"
   ]
  },
  {
   "cell_type": "code",
   "execution_count": 179,
   "metadata": {},
   "outputs": [
    {
     "name": "stdout",
     "output_type": "stream",
     "text": [
      "DVS only (linear): Train: 0.87 || Test: 0.78\n"
     ]
    }
   ],
   "source": [
    "tr, te = do_single(*dvs_folds[3], C=0.001, gamma=1. / 1296, kernel='linear')\n",
    "print(f\"DVS only (linear): Train: {tr:.2} || Test: {te:.2}\")"
   ]
  },
  {
   "cell_type": "code",
   "execution_count": 181,
   "metadata": {},
   "outputs": [
    {
     "name": "stdout",
     "output_type": "stream",
     "text": [
      "DVS only (rbf): Train: 1.0 || Test: 0.85\n"
     ]
    }
   ],
   "source": [
    "tr, te = do_single(*dvs_folds[3], C=10, gamma=1. / 1296, kernel='rbf')\n",
    "print(f\"DVS only (rbf): Train: {tr:.2} || Test: {te:.2}\")"
   ]
  },
  {
   "cell_type": "markdown",
   "metadata": {},
   "source": [
    "# DAV"
   ]
  },
  {
   "cell_type": "code",
   "execution_count": 171,
   "metadata": {},
   "outputs": [
    {
     "name": "stdout",
     "output_type": "stream",
     "text": [
      "DAV only (linear): Train: 0.83 || Test: 0.71\n"
     ]
    }
   ],
   "source": [
    "tr, te = do_single(*dav_folds[1], C=0.001, gamma=1. / 1296, kernel='linear', norm=True)\n",
    "print(f\"DAV only (linear): Train: {tr:.2} || Test: {te:.2}\")"
   ]
  },
  {
   "cell_type": "code",
   "execution_count": 182,
   "metadata": {},
   "outputs": [
    {
     "name": "stdout",
     "output_type": "stream",
     "text": [
      "DAV only (rbf): Train: 0.69 || Test: 0.66\n"
     ]
    }
   ],
   "source": [
    "tr, te = do_single(*dav_folds[1], C=0.1, gamma=1. / 1296, kernel='rbf')\n",
    "print(f\"DAV only (rbf): Train: {tr:.2} || Test: {te:.2}\")"
   ]
  },
  {
   "cell_type": "markdown",
   "metadata": {},
   "source": [
    "# FRM"
   ]
  },
  {
   "cell_type": "code",
   "execution_count": 81,
   "metadata": {},
   "outputs": [
    {
     "name": "stdout",
     "output_type": "stream",
     "text": [
      "DAV only (linear): Train: 0.89 || Test: 0.8\n"
     ]
    }
   ],
   "source": [
    "tr, te = do_single(*frm_folds[3], C=0.001, gamma=1. / 1296, kernel='linear')\n",
    "print(f\"DAV only (linear): Train: {tr:.2} || Test: {te:.2}\")"
   ]
  },
  {
   "cell_type": "code",
   "execution_count": 170,
   "metadata": {},
   "outputs": [
    {
     "name": "stdout",
     "output_type": "stream",
     "text": [
      "DAV only (rbf): Train: 0.97 || Test: 0.86\n"
     ]
    }
   ],
   "source": [
    "tr, te = do_single(*frm_folds[3], C=1, gamma=1. / 1296, kernel='rbf')\n",
    "print(f\"DAV only (rbf): Train: {tr:.2} || Test: {te:.2}\")"
   ]
  },
  {
   "cell_type": "markdown",
   "metadata": {},
   "source": [
    "# EMG + DVS"
   ]
  },
  {
   "cell_type": "code",
   "execution_count": 161,
   "metadata": {},
   "outputs": [
    {
     "name": "stdout",
     "output_type": "stream",
     "text": [
      "DAV only (linear): Train: 0.92 || Test: 0.82\n"
     ]
    }
   ],
   "source": [
    "tr, te = do_single(*fus_dvs_folds[3], C=0.001, gamma=1. / 1312, kernel='linear')\n",
    "print(f\"DAV only (linear): Train: {tr:.2} || Test: {te:.2}\")"
   ]
  },
  {
   "cell_type": "code",
   "execution_count": 167,
   "metadata": {},
   "outputs": [
    {
     "name": "stdout",
     "output_type": "stream",
     "text": [
      "DAV only (rbf): Train: 0.99 || Test: 0.87\n"
     ]
    }
   ],
   "source": [
    "tr, te = do_single(*fus_dvs_folds[3], C=1, gamma=1. / 1312, kernel='rbf')\n",
    "print(f\"DAV only (rbf): Train: {tr:.2} || Test: {te:.2}\")"
   ]
  },
  {
   "cell_type": "markdown",
   "metadata": {},
   "source": [
    "# EMG + DAV"
   ]
  },
  {
   "cell_type": "code",
   "execution_count": 162,
   "metadata": {},
   "outputs": [
    {
     "name": "stdout",
     "output_type": "stream",
     "text": [
      "DAV only (linear): Train: 0.89 || Test: 0.79\n"
     ]
    }
   ],
   "source": [
    "tr, te = do_single(*fus_dav_folds[3], C=0.001, gamma=1. / 1312, kernel='linear')\n",
    "print(f\"DAV only (linear): Train: {tr:.2} || Test: {te:.2}\")"
   ]
  },
  {
   "cell_type": "code",
   "execution_count": 168,
   "metadata": {},
   "outputs": [
    {
     "name": "stdout",
     "output_type": "stream",
     "text": [
      "DAV only (rbf): Train: 0.98 || Test: 0.83\n"
     ]
    }
   ],
   "source": [
    "tr, te = do_single(*fus_dav_folds[3], C=1, gamma=1. / 1312, kernel='rbf')\n",
    "print(f\"DAV only (rbf): Train: {tr:.2} || Test: {te:.2}\")"
   ]
  },
  {
   "cell_type": "markdown",
   "metadata": {},
   "source": [
    "# EMG + FRM"
   ]
  },
  {
   "cell_type": "code",
   "execution_count": 163,
   "metadata": {},
   "outputs": [
    {
     "name": "stdout",
     "output_type": "stream",
     "text": [
      "DAV only (linear): Train: 0.93 || Test: 0.86\n"
     ]
    }
   ],
   "source": [
    "tr, te = do_single(*fus_frm_folds[3], C=0.001, gamma=1. / 1312, kernel='linear')\n",
    "print(f\"DAV only (linear): Train: {tr:.2} || Test: {te:.2}\")"
   ]
  },
  {
   "cell_type": "code",
   "execution_count": 169,
   "metadata": {},
   "outputs": [
    {
     "name": "stdout",
     "output_type": "stream",
     "text": [
      "DAV only (rbf): Train: 0.98 || Test: 0.9\n"
     ]
    }
   ],
   "source": [
    "tr, te = do_single(*fus_frm_folds[3], C=1, gamma=1. / 1312, kernel='rbf')\n",
    "print(f\"DAV only (rbf): Train: {tr:.2} || Test: {te:.2}\")"
   ]
  },
  {
   "cell_type": "markdown",
   "metadata": {},
   "source": [
    "# Full analysis"
   ]
  },
  {
   "cell_type": "code",
   "execution_count": 184,
   "metadata": {},
   "outputs": [
    {
     "name": "stdout",
     "output_type": "stream",
     "text": [
      "Features: EMG || Frame len 100 ms\n",
      "Features: DVS || Frame len 100 ms\n",
      "Features: DAV || Frame len 100 ms\n",
      "Features: FRM || Frame len 100 ms\n",
      "Features: FUS-EV || Frame len 100 ms\n",
      "Features: FUS-DAV || Frame len 100 ms\n",
      "Features: FUS-FR || Frame len 100 ms\n",
      "Features: EMG || Frame len 150 ms\n",
      "Features: DVS || Frame len 150 ms\n",
      "Features: DAV || Frame len 150 ms\n"
     ]
    },
    {
     "name": "stderr",
     "output_type": "stream",
     "text": [
      "ERROR:root:Internal Python error in the inspect module.\n",
      "Below is the traceback from this internal error.\n",
      "\n"
     ]
    },
    {
     "name": "stdout",
     "output_type": "stream",
     "text": [
      "Traceback (most recent call last):\n",
      "  File \"/Users/enea/anaconda3/lib/python3.7/site-packages/IPython/core/interactiveshell.py\", line 3267, in run_code\n",
      "    exec(code_obj, self.user_global_ns, self.user_ns)\n",
      "  File \"<ipython-input-184-3a7097258c06>\", line 37, in <module>\n",
      "    tr_acc, te_acc = do_single(x_train, y_train, x_test, y_test, C=C, gamma=1. / x_train.shape[1], kernel='rbf')\n",
      "  File \"<ipython-input-91-0f6d6109ec45>\", line 48, in do_single\n",
      "    output = svm.predict(np.float32(x_train))\n",
      "KeyboardInterrupt\n",
      "\n",
      "During handling of the above exception, another exception occurred:\n",
      "\n",
      "Traceback (most recent call last):\n",
      "  File \"/Users/enea/anaconda3/lib/python3.7/site-packages/IPython/core/interactiveshell.py\", line 2018, in showtraceback\n",
      "    stb = value._render_traceback_()\n",
      "AttributeError: 'KeyboardInterrupt' object has no attribute '_render_traceback_'\n",
      "\n",
      "During handling of the above exception, another exception occurred:\n",
      "\n",
      "Traceback (most recent call last):\n",
      "  File \"/Users/enea/anaconda3/lib/python3.7/site-packages/IPython/core/ultratb.py\", line 1095, in get_records\n",
      "    return _fixed_getinnerframes(etb, number_of_lines_of_context, tb_offset)\n",
      "  File \"/Users/enea/anaconda3/lib/python3.7/site-packages/IPython/core/ultratb.py\", line 313, in wrapped\n",
      "    return f(*args, **kwargs)\n",
      "  File \"/Users/enea/anaconda3/lib/python3.7/site-packages/IPython/core/ultratb.py\", line 347, in _fixed_getinnerframes\n",
      "    records = fix_frame_records_filenames(inspect.getinnerframes(etb, context))\n",
      "  File \"/Users/enea/anaconda3/envs/cc19/lib/python3.7/inspect.py\", line 1502, in getinnerframes\n",
      "    frameinfo = (tb.tb_frame,) + getframeinfo(tb, context)\n",
      "  File \"/Users/enea/anaconda3/envs/cc19/lib/python3.7/inspect.py\", line 1460, in getframeinfo\n",
      "    filename = getsourcefile(frame) or getfile(frame)\n",
      "  File \"/Users/enea/anaconda3/envs/cc19/lib/python3.7/inspect.py\", line 696, in getsourcefile\n",
      "    if getattr(getmodule(object, filename), '__loader__', None) is not None:\n",
      "  File \"/Users/enea/anaconda3/envs/cc19/lib/python3.7/inspect.py\", line 732, in getmodule\n",
      "    for modname, module in list(sys.modules.items()):\n",
      "KeyboardInterrupt\n"
     ]
    },
    {
     "ename": "KeyboardInterrupt",
     "evalue": "",
     "output_type": "error",
     "traceback": [
      "\u001b[0;31m---------------------------------------------------------------------------\u001b[0m"
     ]
    }
   ],
   "source": [
    "with open(f\"results_fusion_all_frame_len_linear_swipe.csv\", 'w') as f:\n",
    "    writer = csv.writer(f, delimiter=',')\n",
    "    header = [\"fold\", \"modality\", \"frame_len\", \"kernel\", \"C\", \"subset\", \"acc\"]\n",
    "    writer.writerow(header)\n",
    "    \n",
    "    for frame_len in [100, 150, 200, 250]:\n",
    "        data = pkl.load(open(f\"fusion_features_{frame_len}ms.pkl\", \"rb\"))\n",
    "        EMG_TDF = data['emg']\n",
    "        DVS_HOG = data['dvs_evs_hog']\n",
    "        FRM_HOG = data['dav_aps_hog']\n",
    "        DAV_HOG = data['dav_evs_hog']\n",
    "        LBL = data['lbl']\n",
    "        \n",
    "        emg_folds = kfold(EMG_TDF, LBL)\n",
    "        frm_folds = kfold(FRM_HOG, LBL)\n",
    "        dvs_folds = kfold(DVS_HOG, LBL)\n",
    "        dav_folds = kfold(DAV_HOG, LBL)\n",
    "        \n",
    "        fus_ev_folds = kfold(np.hstack([EMG_TDF, DVS_HOG]), LBL)\n",
    "        fus_da_folds = kfold(np.hstack([EMG_TDF, DAV_HOG]), LBL)\n",
    "        fus_fr_folds = kfold(np.hstack([EMG_TDF, FRM_HOG]), LBL)\n",
    "        \n",
    "        names = [\"EMG\", \"DVS\", \"DAV\", \"FRM\", \"FUS-EV\", \"FUS-DAV\", \"FUS-FR\"]\n",
    "        folds = [emg_folds, dvs_folds, dav_folds, frm_folds, fus_ev_folds, fus_da_folds, fus_fr_folds]\n",
    "        \n",
    "        \n",
    "        for i, features, folds in zip(range(len(names)), names, folds):\n",
    "            print(f\"Features: {features} || Frame len {frame_len} ms\")\n",
    "            for k, (x_train, y_train, x_test, y_test) in enumerate(folds):\n",
    "                for C in [10, 1, 0.1, 0.01, 0.001, 0.0001]:\n",
    "                    tr_acc, te_acc = do_single(x_train, y_train, x_test, y_test, C=C, gamma=1. / x_train.shape[1], kernel='linear')\n",
    "                    row = [k, features, frame_len, \"linear\", C, \"train\", tr_acc]\n",
    "                    writer.writerow(row)\n",
    "                    row = [k, features, frame_len, \"linear\", C, \"test\", te_acc]\n",
    "                    writer.writerow(row)\n",
    "\n",
    "                    tr_acc, te_acc = do_single(x_train, y_train, x_test, y_test, C=C, gamma=1. / x_train.shape[1], kernel='rbf')\n",
    "                    row = [k, features, frame_len, \"rbf\", C, \"train\", tr_acc]\n",
    "                    writer.writerow(row)\n",
    "                    row = [k, features, frame_len, \"rbf\", C, \"test\", te_acc]\n",
    "                    writer.writerow(row)"
   ]
  },
  {
   "cell_type": "code",
   "execution_count": 193,
   "metadata": {},
   "outputs": [
    {
     "name": "stdout",
     "output_type": "stream",
     "text": [
      "Features: EMG || Frame len 150 ms\n",
      "Features: DVS || Frame len 150 ms\n",
      "Features: DAV || Frame len 150 ms\n",
      "Features: FRM || Frame len 150 ms\n",
      "Features: FUS-EV || Frame len 150 ms\n",
      "Features: FUS-DAV || Frame len 150 ms\n",
      "Features: FUS-FR || Frame len 150 ms\n",
      "Features: EMG || Frame len 200 ms\n",
      "Features: DVS || Frame len 200 ms\n",
      "Features: DAV || Frame len 200 ms\n",
      "Features: FRM || Frame len 200 ms\n",
      "Features: FUS-EV || Frame len 200 ms\n",
      "Features: FUS-DAV || Frame len 200 ms\n",
      "Features: FUS-FR || Frame len 200 ms\n",
      "Features: EMG || Frame len 250 ms\n",
      "Features: DVS || Frame len 250 ms\n",
      "Features: DAV || Frame len 250 ms\n",
      "Features: FRM || Frame len 250 ms\n",
      "Features: FUS-EV || Frame len 250 ms\n",
      "Features: FUS-DAV || Frame len 250 ms\n",
      "Features: FUS-FR || Frame len 250 ms\n"
     ]
    }
   ],
   "source": [
    "with open(f\"results_fusion_all_frame_len_linear_rbf_v2.csv\", 'w') as f:\n",
    "    writer = csv.writer(f, delimiter=',')\n",
    "    header = [\"fold\", \"modality\", \"frame_len\", \"kernel\", \"C\", \"subset\", \"acc\"]\n",
    "    writer.writerow(header)\n",
    "    \n",
    "    for frame_len in [150, 200, 250]:\n",
    "        data = pkl.load(open(f\"fusion_features_{frame_len}ms.pkl\", \"rb\"))\n",
    "        EMG_TDF = data['emg']\n",
    "        DVS_HOG = data['dvs_evs_hog']\n",
    "        FRM_HOG = data['dav_aps_hog']\n",
    "        DAV_HOG = data['dav_evs_hog']\n",
    "        LBL = data['lbl']\n",
    "        \n",
    "        emg_folds = kfold(EMG_TDF, LBL)\n",
    "        frm_folds = kfold(FRM_HOG, LBL)\n",
    "        dvs_folds = kfold(DVS_HOG, LBL)\n",
    "        dav_folds = kfold(DAV_HOG, LBL)\n",
    "        \n",
    "        fus_ev_folds = kfold(np.hstack([EMG_TDF, DVS_HOG]), LBL)\n",
    "        fus_da_folds = kfold(np.hstack([EMG_TDF, DAV_HOG]), LBL)\n",
    "        fus_fr_folds = kfold(np.hstack([EMG_TDF, FRM_HOG]), LBL)\n",
    "        \n",
    "        names =    [\"EMG\",     \"DVS\",     \"DAV\",     \"FRM\",     \"FUS-EV\",     \"FUS-DAV\",    \"FUS-FR\"]\n",
    "        folds =    [emg_folds, dvs_folds, dav_folds, frm_folds, fus_ev_folds, fus_da_folds, fus_fr_folds]\n",
    "        c_linear = [0.001,     0.0001,    0.0001,    0.001,      0.001,        0.001,        0.001]\n",
    "        c_rbf =    [1,         10,        10,        1,       10,           10,           10]\n",
    "        \n",
    "        \n",
    "        for i, features, folds in zip(range(len(names)), names, folds):\n",
    "            print(f\"Features: {features} || Frame len {frame_len} ms\")\n",
    "            for k, (x_train, y_train, x_test, y_test) in enumerate(folds):\n",
    "                tr_acc, te_acc = do_single(x_train, y_train, x_test, y_test, C=c_linear[i], gamma=1. / x_train.shape[1], kernel='linear')\n",
    "                row = [k, features, frame_len, \"linear\", c_linear[i],  \"train\", tr_acc]\n",
    "                writer.writerow(row)\n",
    "                row = [k, features, frame_len, \"linear\", c_linear[i], \"test\", te_acc]\n",
    "                writer.writerow(row)\n",
    "                \n",
    "                tr_acc, te_acc = do_single(x_train, y_train, x_test, y_test, C=c_rbf[i], gamma=1. / x_train.shape[1], kernel='rbf')\n",
    "                row = [k, features, frame_len, \"rbf\", c_rbf[i], \"train\", tr_acc]\n",
    "                writer.writerow(row)\n",
    "                row = [k, features, frame_len, \"rbf\", c_rbf[i], \"test\", te_acc]\n",
    "                writer.writerow(row)"
   ]
  },
  {
   "cell_type": "code",
   "execution_count": 4,
   "metadata": {},
   "outputs": [
    {
     "data": {
      "image/png": "[encoded data removed]",
      "text/plain": [
       "<Figure size 1440x720 with 1 Axes>"
      ]
     },
     "metadata": {
      "needs_background": "light"
     },
     "output_type": "display_data"
    }
   ],
   "source": [
    "data = pd.read_csv(\"results_fusion_all_frame_len_linear_rbf_v2.csv\")\n",
    "\n",
    "plt.figure(figsize=(20,10))\n",
    "df = data[data[\"subset\"] == \"test\"]\n",
    "df = df[df[\"kernel\"] == \"rbf\"]\n",
    "# df = df[df[\"frame_len\"] == 100]\n",
    "x = 'frame_len'\n",
    "y = 'acc'\n",
    "hue = 'modality'\n",
    "ax = sns.boxplot(x=x, y=y, data=df, hue=hue, palette=\"Set3\")\n",
    "ax.grid()"
   ]
  },
  {
   "cell_type": "code",
   "execution_count": 204,
   "metadata": {},
   "outputs": [
    {
     "name": "stderr",
     "output_type": "stream",
     "text": [
      "/Users/enea/anaconda3/lib/python3.7/site-packages/ipykernel_launcher.py:1: UserWarning: Boolean Series key will be reindexed to match DataFrame index.\n",
      "  \"\"\"Entry point for launching an IPython kernel.\n"
     ]
    },
    {
     "data": {
      "text/html": [
       "<div>\n",
       "<style scoped>\n",
       "    .dataframe tbody tr th:only-of-type {\n",
       "        vertical-align: middle;\n",
       "    }\n",
       "\n",
       "    .dataframe tbody tr th {\n",
       "        vertical-align: top;\n",
       "    }\n",
       "\n",
       "    .dataframe thead th {\n",
       "        text-align: right;\n",
       "    }\n",
       "</style>\n",
       "<table border=\"1\" class=\"dataframe\">\n",
       "  <thead>\n",
       "    <tr style=\"text-align: right;\">\n",
       "      <th></th>\n",
       "      <th></th>\n",
       "      <th>acc</th>\n",
       "    </tr>\n",
       "    <tr>\n",
       "      <th>modality</th>\n",
       "      <th>frame_len</th>\n",
       "      <th></th>\n",
       "    </tr>\n",
       "  </thead>\n",
       "  <tbody>\n",
       "    <tr>\n",
       "      <th rowspan=\"3\" valign=\"top\">DAV</th>\n",
       "      <th>150</th>\n",
       "      <td>0.003844</td>\n",
       "    </tr>\n",
       "    <tr>\n",
       "      <th>200</th>\n",
       "      <td>0.013220</td>\n",
       "    </tr>\n",
       "    <tr>\n",
       "      <th>250</th>\n",
       "      <td>0.011045</td>\n",
       "    </tr>\n",
       "    <tr>\n",
       "      <th rowspan=\"3\" valign=\"top\">DVS</th>\n",
       "      <th>150</th>\n",
       "      <td>0.006237</td>\n",
       "    </tr>\n",
       "    <tr>\n",
       "      <th>200</th>\n",
       "      <td>0.007455</td>\n",
       "    </tr>\n",
       "    <tr>\n",
       "      <th>250</th>\n",
       "      <td>0.005180</td>\n",
       "    </tr>\n",
       "    <tr>\n",
       "      <th rowspan=\"3\" valign=\"top\">EMG</th>\n",
       "      <th>150</th>\n",
       "      <td>0.010599</td>\n",
       "    </tr>\n",
       "    <tr>\n",
       "      <th>200</th>\n",
       "      <td>0.008549</td>\n",
       "    </tr>\n",
       "    <tr>\n",
       "      <th>250</th>\n",
       "      <td>0.009245</td>\n",
       "    </tr>\n",
       "    <tr>\n",
       "      <th rowspan=\"3\" valign=\"top\">FRM</th>\n",
       "      <th>150</th>\n",
       "      <td>0.010315</td>\n",
       "    </tr>\n",
       "    <tr>\n",
       "      <th>200</th>\n",
       "      <td>0.016392</td>\n",
       "    </tr>\n",
       "    <tr>\n",
       "      <th>250</th>\n",
       "      <td>0.014590</td>\n",
       "    </tr>\n",
       "    <tr>\n",
       "      <th rowspan=\"3\" valign=\"top\">FUS-DAV</th>\n",
       "      <th>150</th>\n",
       "      <td>0.009563</td>\n",
       "    </tr>\n",
       "    <tr>\n",
       "      <th>200</th>\n",
       "      <td>0.005728</td>\n",
       "    </tr>\n",
       "    <tr>\n",
       "      <th>250</th>\n",
       "      <td>0.006348</td>\n",
       "    </tr>\n",
       "    <tr>\n",
       "      <th rowspan=\"3\" valign=\"top\">FUS-EV</th>\n",
       "      <th>150</th>\n",
       "      <td>0.002567</td>\n",
       "    </tr>\n",
       "    <tr>\n",
       "      <th>200</th>\n",
       "      <td>0.007926</td>\n",
       "    </tr>\n",
       "    <tr>\n",
       "      <th>250</th>\n",
       "      <td>0.016125</td>\n",
       "    </tr>\n",
       "    <tr>\n",
       "      <th rowspan=\"3\" valign=\"top\">FUS-FR</th>\n",
       "      <th>150</th>\n",
       "      <td>0.009775</td>\n",
       "    </tr>\n",
       "    <tr>\n",
       "      <th>200</th>\n",
       "      <td>0.007193</td>\n",
       "    </tr>\n",
       "    <tr>\n",
       "      <th>250</th>\n",
       "      <td>0.008496</td>\n",
       "    </tr>\n",
       "  </tbody>\n",
       "</table>\n",
       "</div>"
      ],
      "text/plain": [
       "                         acc\n",
       "modality frame_len          \n",
       "DAV      150        0.003844\n",
       "         200        0.013220\n",
       "         250        0.011045\n",
       "DVS      150        0.006237\n",
       "         200        0.007455\n",
       "         250        0.005180\n",
       "EMG      150        0.010599\n",
       "         200        0.008549\n",
       "         250        0.009245\n",
       "FRM      150        0.010315\n",
       "         200        0.016392\n",
       "         250        0.014590\n",
       "FUS-DAV  150        0.009563\n",
       "         200        0.005728\n",
       "         250        0.006348\n",
       "FUS-EV   150        0.002567\n",
       "         200        0.007926\n",
       "         250        0.016125\n",
       "FUS-FR   150        0.009775\n",
       "         200        0.007193\n",
       "         250        0.008496"
      ]
     },
     "execution_count": 204,
     "metadata": {},
     "output_type": "execute_result"
    }
   ],
   "source": [
    "df = data[data[\"subset\"] == \"test\"][data[\"kernel\"] == \"rbf\"]\n",
    "df = df[[\"modality\", \"frame_len\", \"acc\"]]\n",
    "df.groupby([\"modality\", \"frame_len\"]).std()\n",
    "\n"
   ]
  },
  {
   "cell_type": "code",
   "execution_count": null,
   "metadata": {},
   "outputs": [],
   "source": []
  }
 ],
 "metadata": {
  "kernelspec": {
   "display_name": "cc19",
   "language": "python",
   "name": "cc19"
  },
  "language_info": {
   "codemirror_mode": {
    "name": "ipython",
    "version": 3
   },
   "file_extension": ".py",
   "mimetype": "text/x-python",
   "name": "python",
   "nbconvert_exporter": "python",
   "pygments_lexer": "ipython3",
   "version": "3.7.3"
  }
 },
 "nbformat": 4,
 "nbformat_minor": 2
}
