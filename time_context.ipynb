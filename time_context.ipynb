{
 "cells": [
  {
   "cell_type": "markdown",
   "metadata": {},
   "source": [
    "# Full evaluation of time context in EMG signals \n",
    "We use different features to see if they all agree on the context information of the signals, i.e. how much memory is needed to correclty classify the signals. Signals are soming from 3 classes rock/paper/scissor."
   ]
  },
  {
   "cell_type": "code",
   "execution_count": 28,
   "metadata": {},
   "outputs": [],
   "source": [
    "from os import listdir\n",
    "from os.path import isfile, join\n",
    "import sys\n",
    "import copy\n",
    "import re\n",
    "import numpy as np\n",
    "\n",
    "from scipy.signal import stft\n",
    "import scipy.io as sio\n",
    "import numpy as np\n",
    "\n",
    "import matplotlib.pyplot as plt\n",
    "%matplotlib inline\n",
    "\n",
    "import pandas as pd\n",
    "import csv\n",
    "\n",
    "from sklearn.svm import SVC\n",
    "from sklearn.decomposition import PCA\n",
    "from sklearn.manifold import TSNE\n",
    "\n",
    "from tqdm import tqdm\n",
    "from utils import Person, simple_low_pass, exp_feat, window_spikes, analyze, do_tc_full\n",
    "import pickle as pkl\n",
    "import peakutils\n",
    "import pywt"
   ]
  },
  {
   "cell_type": "code",
   "execution_count": 29,
   "metadata": {},
   "outputs": [],
   "source": [
    "fs = 200  # sampling frequency of MYO\n",
    "VERBOSE = True\n",
    "data_dir = '/Users/enea/Dropbox/Capocaccia2019_Gesture_DVS_Myo/Dataset/'\n",
    "classes = classes = ['pinky', 'elle', 'yo', 'index', 'thumb']"
   ]
  },
  {
   "cell_type": "markdown",
   "metadata": {},
   "source": [
    "## Data loading and preprocessing\n",
    "Simply loading the data, concatenate all trials by all subjects and cut beginning and end of trials for cleaner signals. "
   ]
  },
  {
   "cell_type": "code",
   "execution_count": 30,
   "metadata": {},
   "outputs": [
    {
     "name": "stdout",
     "output_type": "stream",
     "text": [
      "Loaded Charlotte1: EMG = [(25315, 8)] // ANN = [25315]\n",
      "Loaded Simone3: EMG = [(25324, 8)] // ANN = [25324]\n",
      "Loaded Enea3: EMG = [(25242, 8)] // ANN = [25242]\n",
      "Loaded Marcus1: EMG = [(25294, 8)] // ANN = [25294]\n",
      "Loaded Gemma1: EMG = [(24993, 8)] // ANN = [24993]\n",
      "Loaded Bruno2: EMG = [(25331, 8)] // ANN = [25331]\n",
      "Loaded Erika3: EMG = [(25332, 8)] // ANN = [25332]\n",
      "Loaded Lyes3: EMG = [(25240, 8)] // ANN = [25240]\n",
      "Loaded Baris3: EMG = [(25244, 8)] // ANN = [25244]\n",
      "Loaded Simone2: EMG = [(25318, 8)] // ANN = [25318]\n",
      "Loaded Bruno3: EMG = [(25318, 8)] // ANN = [25318]\n",
      "Loaded Enea2: EMG = [(25328, 8)] // ANN = [25328]\n",
      "Loaded Erika2: EMG = [(25330, 8)] // ANN = [25330]\n",
      "Loaded Lyes2: EMG = [(25304, 8)] // ANN = [25304]\n",
      "Loaded Baris2: EMG = [(25089, 8)] // ANN = [25089]\n",
      "Loaded Melika1: EMG = [(25140, 8)] // ANN = [25140]\n",
      "Loaded Gemma3: EMG = [(24903, 8)] // ANN = [24903]\n",
      "Loaded Marcus3: EMG = [(25328, 8)] // ANN = [25328]\n",
      "Loaded Enea1: EMG = [(25315, 8)] // ANN = [25315]\n",
      "Loaded Simone1: EMG = [(25339, 8)] // ANN = [25339]\n",
      "Loaded Charlotte3: EMG = [(25328, 8)] // ANN = [25328]\n",
      "Loaded Baris1: EMG = [(25290, 8)] // ANN = [25290]\n",
      "Loaded Melika2: EMG = [(23455, 8)] // ANN = [23455]\n",
      "Loaded Lyes1: EMG = [(25324, 8)] // ANN = [25324]\n",
      "Loaded Erika1: EMG = [(25358, 8)] // ANN = [25358]\n",
      "Loaded Marcus2: EMG = [(25318, 8)] // ANN = [25318]\n",
      "Loaded Bruno1: EMG = [(25077, 8)] // ANN = [25077]\n",
      "Loaded Gemma2: EMG = [(24850, 8)] // ANN = [24850]\n",
      "Loaded Charlotte2: EMG = [(25306, 8)] // ANN = [25306]\n",
      "Loaded Melika3: EMG = [(25169, 8)] // ANN = [25169]\n",
      "Data Loaded! 30 Sessions\n"
     ]
    }
   ],
   "source": [
    "subjects = {}\n",
    "names = [name for name in listdir(data_dir) if \"emg\" in name]\n",
    "for name in names:\n",
    "    _emg = np.load(data_dir + '{}'.format(name)).astype('float32')\n",
    "    _ann = np.concatenate([np.array(['none']), np.load(data_dir + '{}'.format(name.replace(\"emg\",\"ann\")))[:-1]])\n",
    "    \n",
    "    subjects[name.split(\"_\")[1]] = Person(name.split(\"_\")[1], _emg, _ann, classes=classes)\n",
    "    \n",
    "    if VERBOSE:\n",
    "        print(\"Loaded {}: EMG = [{}] // ANN = [{}]\".format(name.split(\"_\")[1], _emg.shape, len(_ann)))\n",
    "print(\"Data Loaded! {} Sessions\".format(len(subjects.keys())))"
   ]
  },
  {
   "cell_type": "code",
   "execution_count": 31,
   "metadata": {},
   "outputs": [
    {
     "name": "stdout",
     "output_type": "stream",
     "text": [
      "Done sorting trials!\n"
     ]
    }
   ],
   "source": [
    "# separates data in correct trial type\n",
    "\n",
    "for name, data in subjects.items():\n",
    "    for _class in classes:\n",
    "        _annotation = np.float32(data.ann == _class)\n",
    "        derivative = np.diff(_annotation)/1.0\n",
    "        begins = np.where(derivative == 1)[0]\n",
    "        ends = np.where(derivative == -1)[0]\n",
    "        for b, e in zip(begins, ends):\n",
    "            _trials = data.emg[b:e]\n",
    "            data.trials[_class].append(_trials)\n",
    "print(\"Done sorting trials!\")"
   ]
  },
  {
   "cell_type": "code",
   "execution_count": 32,
   "metadata": {},
   "outputs": [
    {
     "name": "stdout",
     "output_type": "stream",
     "text": [
      "(45000, 8)\n",
      "(44900, 8)\n",
      "(44900, 8)\n",
      "(44700, 8)\n",
      "(45000, 8)\n",
      "All data ready!\n"
     ]
    }
   ],
   "source": [
    "# Concat all trials/all people.\n",
    "threshold = 50  # samples\n",
    "min_step = 100  # samples\n",
    "filter_name = ''\n",
    "all_trials = {c: [] for c in classes}\n",
    "\n",
    "for _all, _class in zip([a for _, a in all_trials.items()], classes):\n",
    "    for name, data in [(k, v) for (k, v) in subjects.items() if filter_name in k]:\n",
    "        for i in range(len(data.trials[_class])):\n",
    "            _sig = copy.deepcopy(data.trials[_class][i])\n",
    "            _sig = _sig[threshold:]\n",
    "            leftover = len(_sig) // min_step\n",
    "            _normed = _sig[:leftover * min_step]\n",
    "            _all.append(_normed)\n",
    "\n",
    "# I concat all of them \n",
    "all_trials = {k: np.vstack(a) for k, a in all_trials.items()}\n",
    "\n",
    "if VERBOSE:\n",
    "    for k, v in all_trials.items():\n",
    "        print(v.shape)\n",
    "\n",
    "overall_std = np.std(np.vstack([a for _, a in all_trials.items()]))\n",
    "    \n",
    "all_trials = {k: a / overall_std for k, a in all_trials.items()}\n",
    "print(\"All data ready!\")"
   ]
  },
  {
   "cell_type": "markdown",
   "metadata": {},
   "source": [
    "# Time context for various features"
   ]
  },
  {
   "cell_type": "markdown",
   "metadata": {},
   "source": [
    "## SVM on FFT features"
   ]
  },
  {
   "cell_type": "code",
   "execution_count": null,
   "metadata": {},
   "outputs": [],
   "source": [
    "n_ch = 8\n",
    "window = 2\n",
    "splits = 10\n",
    "nfft = 35\n",
    "\n",
    "all_X, all_Y = [], []\n",
    "\n",
    "for idx, subset in enumerate([a for _, a in all_trials.items()]):\n",
    "    subset = subset[:, :n_ch]\n",
    "    feat = n_ch * (nfft // 2 + 1)\n",
    "    _sub = np.abs(stft(subset[:, :].T, nperseg=nfft, noverlap=0)[-1]).reshape(feat, -1).T ** 0.3\n",
    "    all_X.append(_sub)\n",
    "    all_Y.append(np.ones((_sub.shape[0],1)) * idx)\n",
    "\n",
    "all_X = np.vstack(all_X)\n",
    "all_Y = np.vstack(all_Y)\n",
    "\n",
    "all_X -= np.mean(all_X, 0, keepdims=True)\n",
    "all_X /= np.std(all_X, 0, keepdims=True) + 1e-15\n",
    "\n",
    "print(do_tc_full(all_X, all_Y, verbose=True, pca_comp=100))"
   ]
  },
  {
   "cell_type": "markdown",
   "metadata": {},
   "source": [
    "## SVM on various time features"
   ]
  },
  {
   "cell_type": "code",
   "execution_count": 34,
   "metadata": {},
   "outputs": [
    {
     "name": "stdout",
     "output_type": "stream",
     "text": [
      "Features: 24 => 8\n",
      "Train on: 11876 / Test on 1319\n",
      "Fold 0: Train acc: 0.833 || Test acc: 0.807\n",
      "Fold 1: Train acc: 0.834 || Test acc: 0.783\n",
      "Fold 2: Train acc: 0.834 || Test acc: 0.796\n",
      "Fold 3: Train acc: 0.832 || Test acc: 0.817\n",
      "Fold 4: Train acc: 0.831 || Test acc: 0.817\n",
      "Fold 5: Train acc: 0.832 || Test acc: 0.808\n",
      "Fold 6: Train acc: 0.831 || Test acc: 0.82\n",
      "Fold 7: Train acc: 0.833 || Test acc: 0.792\n",
      "Fold 8: Train acc: 0.831 || Test acc: 0.799\n",
      "Fold 9: Train acc: 0.834 || Test acc: 0.788\n",
      "Train: 0.8327 +/- 0.00137\n",
      "Test: 0.8027 +/- 0.01238\n"
     ]
    }
   ],
   "source": [
    "all_X, all_Y = [], []\n",
    "n_ch = 8\n",
    "preprocess = True\n",
    "frame_len = 0.125\n",
    "overlap = 0.3\n",
    "frame_step = frame_len * (1. - overlap)\n",
    "features = ['MAV', 'RMS', 'SD']\n",
    "n_comp = 8\n",
    "for idx, subset in enumerate([a for _, a in all_trials.items()]):\n",
    "    subset = subset[:, :n_ch]\n",
    "    feat = n_ch * 1\n",
    "    _sub = [analyze(subset, frame_len=frame_len, frame_step=frame_step, feat=f, preprocess=False) for f in features]\n",
    "    _sub = np.hstack(_sub)\n",
    "    all_X.append(_sub)\n",
    "    all_Y.append(np.ones((_sub.shape[0],1)) * idx)\n",
    "\n",
    "all_X = np.vstack(all_X)\n",
    "all_Y = np.vstack(all_Y)\n",
    "\n",
    "all_X -= np.mean(all_X, 0, keepdims=True)\n",
    "all_X /= np.std(all_X, 0, keepdims=True) + 1e-15\n",
    "\n",
    "acc_tr, acc_te = do_tc_full(all_X, all_Y, verbose=True, pca_comp=n_comp, avg=False)\n",
    "print(\"Train: {:.4} +/- {:.4}\".format(np.mean(acc_tr), np.std(acc_tr)))\n",
    "print(\"Test: {:.4} +/- {:.4}\".format(np.mean(acc_te), np.std(acc_te)))\n",
    "\n",
    "with open('res_rps_10_p.csv', 'a') as f:\n",
    "    csv_writer = csv.writer(f)\n",
    "    # subject,feat,frame_len,frame_step,n_comp,acc_tr,acc_te\n",
    "    for a_tr, a_te in zip(acc_tr, acc_te):\n",
    "        csv_writer.writerow([filter_name, \"-\".join(features), frame_len, frame_step, n_comp, a_tr, a_te])"
   ]
  },
  {
   "cell_type": "code",
   "execution_count": 44,
   "metadata": {
    "scrolled": true
   },
   "outputs": [
    {
     "name": "stdout",
     "output_type": "stream",
     "text": [
      "(4500, 8)\n",
      "(4500, 8)\n",
      "(4500, 8)\n",
      "(4500, 8)\n",
      "(4500, 8)\n",
      "All data ready!\n",
      "Charlotte::8::0.125::0.1875\n",
      "Train: 0.9566 +/- 0.002477\n",
      "Test: 0.9169 +/- 0.02165\n",
      "Charlotte::8::0.25::0.09375\n",
      "Train: 0.9846 +/- 0.003318\n",
      "Test: 0.95 +/- 0.02108\n",
      "(4500, 8)\n",
      "(4500, 8)\n",
      "(4500, 8)\n",
      "(4500, 8)\n",
      "(4500, 8)\n",
      "All data ready!\n",
      "Enea::8::0.125::0.1875\n",
      "Train: 0.9199 +/- 0.00193\n",
      "Test: 0.8306 +/- 0.0357\n",
      "Enea::8::0.25::0.09375\n",
      "Train: 0.96 +/- 0.002772\n",
      "Test: 0.8817 +/- 0.02409\n",
      "(4500, 8)\n",
      "(4400, 8)\n",
      "(4400, 8)\n",
      "(4200, 8)\n",
      "(4500, 8)\n",
      "All data ready!\n",
      "Melika::8::0.125::0.1875\n",
      "Train: 0.9806 +/- 0.001576\n",
      "Test: 0.9545 +/- 0.01535\n",
      "Melika::8::0.25::0.09375\n",
      "Train: 0.9934 +/- 0.00127\n",
      "Test: 0.9724 +/- 0.03465\n",
      "(4500, 8)\n",
      "(4500, 8)\n",
      "(4500, 8)\n",
      "(4500, 8)\n",
      "(4500, 8)\n",
      "All data ready!\n",
      "Baris::8::0.125::0.1875\n",
      "Train: 0.9024 +/- 0.002517\n",
      "Test: 0.7766 +/- 0.03124\n",
      "Baris::8::0.25::0.09375\n",
      "Train: 0.9398 +/- 0.004917\n",
      "Test: 0.815 +/- 0.04969\n",
      "(4500, 8)\n",
      "(4500, 8)\n",
      "(4500, 8)\n",
      "(4500, 8)\n",
      "(4500, 8)\n",
      "All data ready!\n",
      "Bruno::8::0.125::0.1875\n",
      "Train: 0.9341 +/- 0.002897\n",
      "Test: 0.8435 +/- 0.02581\n",
      "Bruno::8::0.25::0.09375\n",
      "Train: 0.9728 +/- 0.002753\n",
      "Test: 0.8933 +/- 0.04295\n",
      "(4500, 8)\n",
      "(4500, 8)\n",
      "(4500, 8)\n",
      "(4500, 8)\n",
      "(4500, 8)\n",
      "All data ready!\n",
      "Erika::8::0.125::0.1875\n",
      "Train: 0.8826 +/- 0.004087\n",
      "Test: 0.7718 +/- 0.03732\n",
      "Erika::8::0.25::0.09375\n",
      "Train: 0.9246 +/- 0.004761\n",
      "Test: 0.8317 +/- 0.04438\n",
      "(4500, 8)\n",
      "(4500, 8)\n",
      "(4500, 8)\n",
      "(4500, 8)\n",
      "(4500, 8)\n",
      "All data ready!\n",
      "Gemma::8::0.125::0.1875\n",
      "Train: 0.9729 +/- 0.001996\n",
      "Test: 0.9185 +/- 0.01463\n",
      "Gemma::8::0.25::0.09375\n",
      "Train: 0.9887 +/- 0.00226\n",
      "Test: 0.9617 +/- 0.01833\n",
      "(4500, 8)\n",
      "(4500, 8)\n",
      "(4500, 8)\n",
      "(4500, 8)\n",
      "(4500, 8)\n",
      "All data ready!\n",
      "Lyes::8::0.125::0.1875\n",
      "Train: 0.9733 +/- 0.002151\n",
      "Test: 0.95 +/- 0.01564\n",
      "Lyes::8::0.25::0.09375\n",
      "Train: 0.988 +/- 0.001707\n",
      "Test: 0.975 +/- 0.01863\n",
      "(4500, 8)\n",
      "(4500, 8)\n",
      "(4500, 8)\n",
      "(4500, 8)\n",
      "(4500, 8)\n",
      "All data ready!\n",
      "Simone::8::0.125::0.1875\n",
      "Train: 0.9246 +/- 0.0021\n",
      "Test: 0.8637 +/- 0.01783\n",
      "Simone::8::0.25::0.09375\n",
      "Train: 0.9594 +/- 0.004494\n",
      "Test: 0.9217 +/- 0.02363\n",
      "(4500, 8)\n",
      "(4500, 8)\n",
      "(4500, 8)\n",
      "(4500, 8)\n",
      "(4500, 8)\n",
      "All data ready!\n",
      "Marcus::8::0.125::0.1875\n",
      "Train: 0.9121 +/- 0.002137\n",
      "Test: 0.8145 +/- 0.03459\n",
      "Marcus::8::0.25::0.09375\n",
      "Train: 0.9269 +/- 0.003818\n",
      "Test: 0.825 +/- 0.04167\n"
     ]
    }
   ],
   "source": [
    "with open('res_gest_10_p.csv', 'w') as f:\n",
    "    csv_writer = csv.writer(f)\n",
    "    csv_writer.writerow(['subject','feat','frame_len','frame_step','n_comp','acc_tr','acc_te'])\n",
    "# A bunch all together\n",
    "for filter_name in ['Charlotte', 'Enea', 'Melika', 'Baris', 'Bruno', 'Erika', 'Gemma', 'Lyes', 'Simone', 'Marcus']:\n",
    "    threshold = 50  # samples\n",
    "    min_step = 100  # samples\n",
    "    all_trials = {c: [] for c in classes}\n",
    "\n",
    "    for _all, _class in zip([a for _, a in all_trials.items()], classes):\n",
    "        for name, data in [(k, v) for (k, v) in subjects.items() if filter_name in k]:\n",
    "            for i in range(len(data.trials[_class])):\n",
    "                _sig = copy.deepcopy(data.trials[_class][i])\n",
    "                _sig = _sig[threshold:]\n",
    "                leftover = len(_sig) // min_step\n",
    "                _normed = _sig[:leftover * min_step]\n",
    "                _all.append(_normed)\n",
    "\n",
    "    # I concat all of them \n",
    "    all_trials = {k: np.vstack(a) for k, a in all_trials.items()}\n",
    "\n",
    "    if VERBOSE:\n",
    "        for k, v in all_trials.items():\n",
    "            print(v.shape)\n",
    "\n",
    "    overall_std = np.std(np.vstack([a for _, a in all_trials.items()]))\n",
    "\n",
    "    all_trials = {k: a / overall_std for k, a in all_trials.items()}\n",
    "    print(\"All data ready!\")\n",
    "\n",
    "    for n_comp in [8]:\n",
    "        for frame_len in [0.125, 0.25]:\n",
    "            for overlap in [0.25]:\n",
    "                print(\"{}::{}::{}::{}\".format(filter_name, n_comp, frame_len, frame_step))\n",
    "                all_X, all_Y = [], []\n",
    "                n_ch = 8\n",
    "                frame_step = frame_len * (1. - overlap)\n",
    "                features = ['MAV', 'RMS', 'SD']\n",
    "                for idx, subset in enumerate([a for _, a in all_trials.items()]):\n",
    "                    subset = subset[:, :n_ch]\n",
    "                    feat = n_ch * 1\n",
    "                    _sub = [analyze(subset, frame_len=frame_len, frame_step=frame_step, feat=f, preprocess=False) for f in features]\n",
    "                    _sub = np.hstack(_sub)\n",
    "                    all_X.append(_sub)\n",
    "                    all_Y.append(np.ones((_sub.shape[0],1)) * idx)\n",
    "\n",
    "                all_X = np.vstack(all_X)\n",
    "                all_Y = np.vstack(all_Y)\n",
    "\n",
    "                all_X -= np.mean(all_X, 0, keepdims=True)\n",
    "                all_X /= np.std(all_X, 0, keepdims=True) + 1e-15\n",
    "\n",
    "                acc_tr, acc_te = do_tc_full(all_X, all_Y, verbose=False, pca_comp=n_comp, avg=False)\n",
    "                print(\"Train: {:.4} +/- {:.4}\".format(np.mean(acc_tr), np.std(acc_tr)))\n",
    "                print(\"Test: {:.4} +/- {:.4}\".format(np.mean(acc_te), np.std(acc_te)))\n",
    "\n",
    "                with open('res_gest_10_p.csv', 'a') as f:\n",
    "                    csv_writer = csv.writer(f)\n",
    "                    # subject,feat,frame_len,frame_step,n_comp,acc_tr,acc_te\n",
    "                    for a_tr, a_te in zip(acc_tr, acc_te):\n",
    "                        csv_writer.writerow([filter_name, \"-\".join(features), frame_len, frame_step, n_comp, a_tr, a_te])"
   ]
  },
  {
   "cell_type": "code",
   "execution_count": 47,
   "metadata": {},
   "outputs": [
    {
     "data": {
      "text/plain": [
       "Text(0, 0.5, 'Accuracy')"
      ]
     },
     "execution_count": 47,
     "metadata": {},
     "output_type": "execute_result"
    },
    {
     "data": {
      "image/png": "[encoded data removed]",
      "text/plain": [
       "<Figure size 1440x720 with 1 Axes>"
      ]
     },
     "metadata": {},
     "output_type": "display_data"
    }
   ],
   "source": [
    "import seaborn as sns\n",
    "import pandas as pd\n",
    "from statannot import add_stat_annotation\n",
    "\n",
    "sns.set(font_scale=2)  # crazy big\n",
    "plt.figure(figsize=(20,10))\n",
    "\n",
    "data = pd.read_csv('res_gest_10_p.csv', delimiter=',')\n",
    "# print(data)\n",
    "x = 'subject'\n",
    "y = 'acc_te'\n",
    "hue = 'frame_len'\n",
    "ax = sns.boxplot(data=data, x=x, y=y, hue=hue)\n",
    "# add_stat_annotation(ax, data=data, x=x, y=y, boxPairList=[(0.25, 0.125)],\n",
    "#                     test='t-test_ind', textFormat='star', loc='outside', verbose=0)\n",
    "# ax.legend(loc='upper center', ncol=5, bbox_to_anchor=(0.5, 1.2))\n",
    "ax.set_xlabel('Frame length (s)')\n",
    "ax.set_ylabel('Accuracy')\n",
    "# plt.savefig('rps_per_person.pdf', bbox_inches='tight')"
   ]
  },
  {
   "cell_type": "code",
   "execution_count": null,
   "metadata": {},
   "outputs": [],
   "source": [
    "X_embedded = TSNE(n_components=2).fit_transform(all_X)\n",
    "print(X_embedded.shape)\n",
    "plt.scatter(X_embedded[:, 0], X_embedded[:, 1], c=all_Y.squeeze())"
   ]
  },
  {
   "cell_type": "markdown",
   "metadata": {},
   "source": [
    "## SVM on spikes"
   ]
  },
  {
   "cell_type": "code",
   "execution_count": null,
   "metadata": {},
   "outputs": [],
   "source": [
    "spikes = pkl.load(open('sample_based_test_1_3500.0_0.05_0.05_0.0_prec_1_5.pkl', 'rb'))"
   ]
  },
  {
   "cell_type": "code",
   "execution_count": null,
   "metadata": {},
   "outputs": [],
   "source": []
  },
  {
   "cell_type": "code",
   "execution_count": null,
   "metadata": {},
   "outputs": [],
   "source": [
    "all_X, all_Y = [], []\n",
    "\n",
    "step = 0.010  # 1ms\n",
    "window = 0.240  # 100ms\n",
    "s = int(window / step)\n",
    "\n",
    "all_X, all_Y = [], []\n",
    "class_idx = {k: j for j, k in enumerate(list(spikes.keys()))}\n",
    "\n",
    "for name, subset in spikes.items():\n",
    "    \n",
    "    _all = []\n",
    "    for _ts, _ch in zip(subset['ts'], subset['ch']):\n",
    "        _m = window_spikes(_ts, _ch, w=step, n_ch=16)[:s]\n",
    "        if _m.shape[0] < s:\n",
    "            _m = np.vstack([_m, np.zeros((s - _m.shape[0], _m.shape[1]))])\n",
    "            \n",
    "        _m = simple_low_pass(_m, win=10, shift=5)\n",
    "        _all.append(_m)\n",
    "        \n",
    "    _all = np.array(_all)\n",
    "    all_X.append(_all)\n",
    "    all_Y.append(np.ones((_all.shape[0], 1)) * class_idx[name])\n",
    "\n",
    "all_X = np.vstack(all_X)\n",
    "all_Y = np.vstack(all_Y)\n",
    "all_X = np.reshape(all_X, (all_X.shape[0], -1))\n",
    "\n",
    "all_X -= np.mean(all_X, 0, keepdims=True)\n",
    "all_X /= np.std(all_X, 0, keepdims=True) + 1e-15\n",
    "\n",
    "print(all_X.shape)\n",
    "# print(do_tc_full(all_X, all_Y, verbose=True, do_pca=True))"
   ]
  },
  {
   "cell_type": "code",
   "execution_count": null,
   "metadata": {},
   "outputs": [],
   "source": [
    "acc_tr, acc_te, std_tr, std_te = do_tc_full(all_X, all_Y, verbose=True, pca_comp=16)\n",
    "print(\"Train: {:.4} +/- {:.4}\".format(acc_tr, std_tr))\n",
    "print(\"Test: {:.4} +/- {:.4}\".format(acc_te, std_te))"
   ]
  }
 ],
 "metadata": {
  "kernelspec": {
   "display_name": "py37",
   "language": "python",
   "name": "py37"
  },
  "language_info": {
   "codemirror_mode": {
    "name": "ipython",
    "version": 3
   },
   "file_extension": ".py",
   "mimetype": "text/x-python",
   "name": "python",
   "nbconvert_exporter": "python",
   "pygments_lexer": "ipython3",
   "version": "3.7.3"
  }
 },
 "nbformat": 4,
 "nbformat_minor": 2
}
